{
 "cells": [
  {
   "cell_type": "code",
   "execution_count": 1,
   "metadata": {},
   "outputs": [
    {
     "name": "stderr",
     "output_type": "stream",
     "text": [
      "/opt/anaconda3/lib/python3.6/site-packages/h5py/__init__.py:36: FutureWarning: Conversion of the second argument of issubdtype from `float` to `np.floating` is deprecated. In future, it will be treated as `np.float64 == np.dtype(float).type`.\n",
      "  from ._conv import register_converters as _register_converters\n",
      "Using TensorFlow backend.\n"
     ]
    }
   ],
   "source": [
    "import numpy as np\n",
    "import pandas as pd\n",
    "from keras.models import Sequential\n",
    "from keras.layers.core import Dense, Activation, Flatten\n",
    "from keras.layers.convolutional import Conv2D, MaxPooling2D\n",
    "from keras.callbacks import EarlyStopping\n",
    "from keras.preprocessing.image import ImageDataGenerator\n",
    "from keras.applications import VGG16\n",
    "from keras.optimizers import Adam\n",
    "import matplotlib.pyplot as plt\n",
    "from time import time\n",
    "%matplotlib inline"
   ]
  },
  {
   "cell_type": "code",
   "execution_count": 2,
   "metadata": {},
   "outputs": [
    {
     "name": "stdout",
     "output_type": "stream",
     "text": [
      "(100000, 28, 28)\n",
      "(100000,)\n",
      "(10,)\n"
     ]
    }
   ],
   "source": [
    "notMNIST = np.load('/work/MA490_DeepLearning/Data/notMNIST/notMNIST_train_AB.npz')\n",
    "notMNIST.files\n",
    "images = notMNIST['images_train']\n",
    "labels = notMNIST['labels_train']\n",
    "labels_name = notMNIST['label_names']\n",
    "print(images.shape)\n",
    "print(labels.shape)\n",
    "print(labels_name.shape)"
   ]
  },
  {
   "cell_type": "code",
   "execution_count": 3,
   "metadata": {},
   "outputs": [
    {
     "name": "stdout",
     "output_type": "stream",
     "text": [
      "(100000, 28, 28, 1)\n",
      "(100000, 2)\n"
     ]
    }
   ],
   "source": [
    "# Convert to 4D tensor\n",
    "X = np.expand_dims(images,-1)\n",
    "print(X.shape)\n",
    "P = pd.get_dummies(pd.DataFrame(labels,columns=['digits'],dtype='category')).values\n",
    "print(P.shape)"
   ]
  },
  {
   "cell_type": "code",
   "execution_count": 4,
   "metadata": {},
   "outputs": [
    {
     "name": "stdout",
     "output_type": "stream",
     "text": [
      "baseline accuracy rate is 0.5\n"
     ]
    }
   ],
   "source": [
    "tally = pd.Series(labels).value_counts()\n",
    "acc_baseline = tally.max()/tally.sum()\n",
    "print('baseline accuracy rate is',acc_baseline)"
   ]
  },
  {
   "cell_type": "code",
   "execution_count": 5,
   "metadata": {},
   "outputs": [],
   "source": [
    "# n = 1000\n",
    "# perm = np.random.permutation(len(X))[0:n]\n",
    "# X = X[perm]\n",
    "# P = P[perm]\n",
    "# print('X shape',X.shape)\n",
    "# print('P shape',P.shape)"
   ]
  },
  {
   "cell_type": "code",
   "execution_count": 6,
   "metadata": {},
   "outputs": [
    {
     "name": "stdout",
     "output_type": "stream",
     "text": [
      "_________________________________________________________________\n",
      "Layer (type)                 Output Shape              Param #   \n",
      "=================================================================\n",
      "conv2d_1 (Conv2D)            (None, 28, 28, 20)        520       \n",
      "_________________________________________________________________\n",
      "activation_1 (Activation)    (None, 28, 28, 20)        0         \n",
      "_________________________________________________________________\n",
      "max_pooling2d_1 (MaxPooling2 (None, 14, 14, 20)        0         \n",
      "_________________________________________________________________\n",
      "conv2d_2 (Conv2D)            (None, 14, 14, 50)        25050     \n",
      "_________________________________________________________________\n",
      "activation_2 (Activation)    (None, 14, 14, 50)        0         \n",
      "_________________________________________________________________\n",
      "max_pooling2d_2 (MaxPooling2 (None, 7, 7, 50)          0         \n",
      "_________________________________________________________________\n",
      "flatten_1 (Flatten)          (None, 2450)              0         \n",
      "_________________________________________________________________\n",
      "dense_1 (Dense)              (None, 500)               1225500   \n",
      "_________________________________________________________________\n",
      "dense_2 (Dense)              (None, 2)                 1002      \n",
      "=================================================================\n",
      "Total params: 1,252,072\n",
      "Trainable params: 1,252,072\n",
      "Non-trainable params: 0\n",
      "_________________________________________________________________\n"
     ]
    }
   ],
   "source": [
    "model = Sequential()\n",
    "def BuildLeNet(model,input_shape=(32,32,3),output=10):\n",
    "    model.add(Conv2D(20,5,padding='same',input_shape=input_shape))\n",
    "    model.add(Activation('relu'))\n",
    "    model.add(MaxPooling2D(pool_size=2,strides=2))\n",
    "    model.add(Conv2D(50,5,padding='same'))\n",
    "    model.add(Activation('relu'))\n",
    "    model.add(MaxPooling2D(pool_size=2,strides=2))\n",
    "    model.add(Flatten())\n",
    "    model.add(Dense(500,activation='relu'))\n",
    "    model.add(Dense(output,activation='softmax'))\n",
    "    return model\n",
    "LeNet = BuildLeNet(model,input_shape=(28,28,1),output=2);\n",
    "LeNet.summary()"
   ]
  },
  {
   "cell_type": "code",
   "execution_count": 7,
   "metadata": {},
   "outputs": [
    {
     "name": "stdout",
     "output_type": "stream",
     "text": [
      "Train on 80000 samples, validate on 20000 samples\n",
      "Epoch 1/100\n",
      "80000/80000 [==============================] - 64s 796us/step - loss: 0.0835 - acc: 0.9631 - val_loss: 0.0969 - val_acc: 0.9513\n",
      "Epoch 2/100\n",
      "80000/80000 [==============================] - 62s 779us/step - loss: 0.0606 - acc: 0.9729 - val_loss: 0.0971 - val_acc: 0.9494\n",
      "Epoch 3/100\n",
      "80000/80000 [==============================] - 63s 792us/step - loss: 0.0495 - acc: 0.9778 - val_loss: 0.0783 - val_acc: 0.9599\n",
      "Epoch 4/100\n",
      "80000/80000 [==============================] - 66s 828us/step - loss: 0.0394 - acc: 0.9825 - val_loss: 0.1007 - val_acc: 0.9545\n",
      "Epoch 5/100\n",
      "80000/80000 [==============================] - 64s 797us/step - loss: 0.0304 - acc: 0.9871 - val_loss: 0.1061 - val_acc: 0.9611\n",
      "Epoch 6/100\n",
      "80000/80000 [==============================] - 62s 776us/step - loss: 0.0232 - acc: 0.9907 - val_loss: 0.1248 - val_acc: 0.9601\n"
     ]
    }
   ],
   "source": [
    "LeNet.compile(loss='categorical_crossentropy',\n",
    "             optimizer='Adam',\n",
    "             metrics=['accuracy'])\n",
    "hist = LeNet.fit(X,P,epochs=100,validation_split =0.2,verbose=1,callbacks=[EarlyStopping(patience=3)])"
   ]
  },
  {
   "cell_type": "code",
   "execution_count": 8,
   "metadata": {},
   "outputs": [
    {
     "data": {
      "text/plain": [
       "Text(0.5,1,'cross-entropy')"
      ]
     },
     "execution_count": 8,
     "metadata": {},
     "output_type": "execute_result"
    },
    {
     "data": {
      "image/png": "[encoded data removed]",
      "text/plain": [
       "<Figure size 432x288 with 1 Axes>"
      ]
     },
     "metadata": {},
     "output_type": "display_data"
    }
   ],
   "source": [
    "results = pd.DataFrame() \n",
    "results['epoch'] = hist.epoch \n",
    "results['epoch'] = results['epoch'] + 1 \n",
    "results['training loss'] = hist.history['loss'] \n",
    "results['validation loss'] = hist.history['val_loss'] \n",
    "results['training acc'] = hist.history['acc'] \n",
    "results['validation acc'] = hist.history['val_acc'] \n",
    "results['validation']=hist.history['val_loss']\n",
    "results['training']=hist.history['loss'] \n",
    "\n",
    "ax = results.plot.line(x='epoch',y='validation')\n",
    "results.plot.line(x='epoch',y='training',ax=ax)\n",
    "plt.title('cross-entropy')"
   ]
  },
  {
   "cell_type": "code",
   "execution_count": 9,
   "metadata": {},
   "outputs": [
    {
     "name": "stdout",
     "output_type": "stream",
     "text": [
      "\n",
      "minimum validation loss index 2 of 100\n",
      "cross-entropy\n",
      " training = 0.04954373045349275\n",
      " validation = 0.07830837915240554\n",
      "accuracy rate\n",
      " training = 0.97775\n",
      " validation = 0.95995\n",
      " baseline = 0.5\n"
     ]
    }
   ],
   "source": [
    "ix = results['validation loss'].idxmin() \n",
    "ce_training = results['training loss'].iloc[ix] \n",
    "ce_validation = results['validation loss'].iloc[ix] \n",
    "acc_training = results['training acc'].iloc[ix] \n",
    "acc_validation = results['validation acc'].iloc[ix] \n",
    "print() \n",
    "print('minimum validation loss index',ix,'of',100) \n",
    "print('cross-entropy') \n",
    "print(' training =',ce_training) \n",
    "print(' validation =',ce_validation) \n",
    "print('accuracy rate') \n",
    "print(' training =',acc_training) \n",
    "print(' validation =',acc_validation) \n",
    "print(' baseline =',acc_baseline)"
   ]
  },
  {
   "cell_type": "code",
   "execution_count": 15,
   "metadata": {},
   "outputs": [
    {
     "name": "stdout",
     "output_type": "stream",
     "text": [
      "(2000, 784, 1)\n",
      "(2000, 2)\n"
     ]
    }
   ],
   "source": [
    "nonMNIST_test = np.load('/work/MA490_DeepLearning/Data/notMNIST/notMNIST_test_AB.npz')\n",
    "image_test = nonMNIST_test['test_images']\n",
    "label_test = nonMNIST_test['test_labels']\n",
    "print(X_test.shape)\n",
    "print(P_test.shape)"
   ]
  },
  {
   "cell_type": "code",
   "execution_count": 16,
   "metadata": {},
   "outputs": [],
   "source": [
    "X_test = np.expand_dims(image_test,-1)\n",
    "P_test = pd.get_dummies(pd.DataFrame(label_test,columns=['digit'],dtype='category')).values"
   ]
  },
  {
   "cell_type": "code",
   "execution_count": 23,
   "metadata": {},
   "outputs": [
    {
     "name": "stdout",
     "output_type": "stream",
     "text": [
      "test acc 0.9915\n",
      "errors 17\n"
     ]
    },
    {
     "data": {
      "image/png": "[encoded data removed]",
      "text/plain": [
       "<Figure size 720x720 with 17 Axes>"
      ]
     },
     "metadata": {},
     "output_type": "display_data"
    }
   ],
   "source": [
    "Ph_test = model.predict(X_test) \n",
    "ix_errors = (Ph_test.argmax(axis=1) != P_test.argmax(axis=1)) \n",
    "images_errors = image_test[ix_errors,:,:] \n",
    "labels_errors = label_test[ix_errors]\n",
    "acc_test = 1 - len(images_errors)/len(image_test)\n",
    "print('test acc',acc_test)\n",
    "print('errors',len(images_errors))\n",
    "\n",
    "# image grid code \n",
    "N = 7 \n",
    "M = 7 \n",
    "plt.figure(figsize=(10,10)) \n",
    "plt.subplots_adjust(wspace=0.7,hspace=0.7)\n",
    "for i in range(len(images_errors)): \n",
    "    plt.subplot(M, N, i+1) \n",
    "    plt.axis('off')\n",
    "    plt.imshow(images_errors[i,:,:], cmap='Greys_r') \n",
    "    plt.title(labels_name[labels_errors[i]]) \n",
    "plt.show()"
   ]
  },
  {
   "cell_type": "code",
   "execution_count": 24,
   "metadata": {},
   "outputs": [
    {
     "data": {
      "text/plain": [
       "0.993"
      ]
     },
     "execution_count": 24,
     "metadata": {},
     "output_type": "execute_result"
    }
   ],
   "source": [
    "# Assume all the data that the network labeled correct can be cognized correctly by human.\n",
    "# I made 14 mistake in the pictures above.\n",
    "1-14/2000"
   ]
  },
  {
   "cell_type": "code",
   "execution_count": null,
   "metadata": {},
   "outputs": [],
   "source": []
  }
 ],
 "metadata": {
  "kernelspec": {
   "display_name": "Python 3",
   "language": "python",
   "name": "python3"
  },
  "language_info": {
   "codemirror_mode": {
    "name": "ipython",
    "version": 3
   },
   "file_extension": ".py",
   "mimetype": "text/x-python",
   "name": "python",
   "nbconvert_exporter": "python",
   "pygments_lexer": "ipython3",
   "version": "3.6.5"
  }
 },
 "nbformat": 4,
 "nbformat_minor": 2
}
