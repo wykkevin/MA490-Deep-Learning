{
 "cells": [
  {
   "cell_type": "markdown",
   "metadata": {},
   "source": [
    "# Question 1"
   ]
  },
  {
   "cell_type": "code",
   "execution_count": 1,
   "metadata": {},
   "outputs": [],
   "source": [
    "import numpy as np"
   ]
  },
  {
   "cell_type": "code",
   "execution_count": 2,
   "metadata": {},
   "outputs": [],
   "source": [
    "def dfdx(f,x):\n",
    "    eps = 10**(-5)\n",
    "    y = f(x)\n",
    "    n = len(x)\n",
    "    m = len(y)\n",
    "    dfdx = np.zeros((m,n))\n",
    "    for k in range(n):\n",
    "        dx = np.zeros(n)\n",
    "        dx[k] = eps\n",
    "        fp = f(x + dx)\n",
    "        fm = f(x - dx)\n",
    "        dfdx[:,k] = (fp - fm)/(2*eps)\n",
    "    return dfdx"
   ]
  },
  {
   "cell_type": "code",
   "execution_count": 3,
   "metadata": {},
   "outputs": [],
   "source": [
    "def f(x):\n",
    "    y = np.array([np.sqrt(x[0]*x[1]),x[1]**2+x[0]*np.exp(x[1])])\n",
    "    return y"
   ]
  },
  {
   "cell_type": "code",
   "execution_count": 4,
   "metadata": {},
   "outputs": [],
   "source": [
    "x = np.array([1,1])"
   ]
  },
  {
   "cell_type": "code",
   "execution_count": 5,
   "metadata": {},
   "outputs": [
    {
     "name": "stdout",
     "output_type": "stream",
     "text": [
      "[[0.5        0.5       ]\n",
      " [2.71828183 4.71828183]]\n"
     ]
    }
   ],
   "source": [
    "dydx = dfdx(f,x)\n",
    "print(dydx)"
   ]
  },
  {
   "cell_type": "markdown",
   "metadata": {},
   "source": [
    "# Question 2"
   ]
  },
  {
   "cell_type": "code",
   "execution_count": 6,
   "metadata": {},
   "outputs": [],
   "source": [
    "def fsmax(x):\n",
    "    k = x.max()\n",
    "    e = np.exp(x-k)\n",
    "    p = e/e.sum()\n",
    "    return p"
   ]
  },
  {
   "cell_type": "code",
   "execution_count": 7,
   "metadata": {},
   "outputs": [],
   "source": [
    "def dydfsmax(x):\n",
    "    k = x.max()\n",
    "    e = np.exp(x-k)\n",
    "    p = e/e.sum()\n",
    "    return np.outer(p,p)-np.diag(p)"
   ]
  },
  {
   "cell_type": "code",
   "execution_count": 8,
   "metadata": {},
   "outputs": [],
   "source": [
    "x = np.random.rand(5)"
   ]
  },
  {
   "cell_type": "code",
   "execution_count": 9,
   "metadata": {},
   "outputs": [
    {
     "data": {
      "text/plain": [
       "array([[ 0.16621656, -0.04355669, -0.03637662, -0.03610804, -0.05017522],\n",
       "       [-0.04355669,  0.16407752, -0.03574225, -0.03547835, -0.04930022],\n",
       "       [-0.03637662, -0.03574225,  0.14292218, -0.02962995, -0.04117336],\n",
       "       [-0.03610804, -0.03547835, -0.02962995,  0.1420857 , -0.04086936],\n",
       "       [-0.05017522, -0.04930022, -0.04117336, -0.04086936,  0.18151816]])"
      ]
     },
     "execution_count": 9,
     "metadata": {},
     "output_type": "execute_result"
    }
   ],
   "source": [
    "dydx = dfdx(fsmax,x)\n",
    "dydx"
   ]
  },
  {
   "cell_type": "code",
   "execution_count": 10,
   "metadata": {},
   "outputs": [
    {
     "data": {
      "text/plain": [
       "array([[-0.16621656,  0.04355669,  0.03637662,  0.03610804,  0.05017522],\n",
       "       [ 0.04355669, -0.16407752,  0.03574225,  0.03547835,  0.04930022],\n",
       "       [ 0.03637662,  0.03574225, -0.14292218,  0.02962995,  0.04117336],\n",
       "       [ 0.03610804,  0.03547835,  0.02962995, -0.1420857 ,  0.04086936],\n",
       "       [ 0.05017522,  0.04930022,  0.04117336,  0.04086936, -0.18151816]])"
      ]
     },
     "execution_count": 10,
     "metadata": {},
     "output_type": "execute_result"
    }
   ],
   "source": [
    "dydx2 = dydfsmax(x)\n",
    "dydx2"
   ]
  },
  {
   "cell_type": "markdown",
   "metadata": {},
   "source": [
    "# Question 3"
   ]
  },
  {
   "cell_type": "code",
   "execution_count": 11,
   "metadata": {},
   "outputs": [
    {
     "name": "stderr",
     "output_type": "stream",
     "text": [
      "C:\\Users\\Administrator\\Anaconda3\\lib\\site-packages\\h5py\\__init__.py:36: FutureWarning: Conversion of the second argument of issubdtype from `float` to `np.floating` is deprecated. In future, it will be treated as `np.float64 == np.dtype(float).type`.\n",
      "  from ._conv import register_converters as _register_converters\n",
      "Using TensorFlow backend.\n"
     ]
    }
   ],
   "source": [
    "import numpy as np\n",
    "import pandas as pd\n",
    "from keras.models import Sequential\n",
    "from keras.layers.core import Dense\n",
    "from keras.optimizers import Adam"
   ]
  },
  {
   "cell_type": "code",
   "execution_count": 12,
   "metadata": {},
   "outputs": [
    {
     "data": {
      "text/html": [
       "<div>\n",
       "<style scoped>\n",
       "    .dataframe tbody tr th:only-of-type {\n",
       "        vertical-align: middle;\n",
       "    }\n",
       "\n",
       "    .dataframe tbody tr th {\n",
       "        vertical-align: top;\n",
       "    }\n",
       "\n",
       "    .dataframe thead th {\n",
       "        text-align: right;\n",
       "    }\n",
       "</style>\n",
       "<table border=\"1\" class=\"dataframe\">\n",
       "  <thead>\n",
       "    <tr style=\"text-align: right;\">\n",
       "      <th></th>\n",
       "      <th>crim</th>\n",
       "      <th>zn</th>\n",
       "      <th>indus</th>\n",
       "      <th>chas</th>\n",
       "      <th>nox</th>\n",
       "      <th>rm</th>\n",
       "      <th>age</th>\n",
       "      <th>dis</th>\n",
       "      <th>rad</th>\n",
       "      <th>tax</th>\n",
       "      <th>ptratio</th>\n",
       "      <th>black</th>\n",
       "      <th>lstat</th>\n",
       "      <th>medv</th>\n",
       "    </tr>\n",
       "  </thead>\n",
       "  <tbody>\n",
       "    <tr>\n",
       "      <th>0</th>\n",
       "      <td>0.00632</td>\n",
       "      <td>18.0</td>\n",
       "      <td>2.31</td>\n",
       "      <td>0</td>\n",
       "      <td>0.538</td>\n",
       "      <td>6.575</td>\n",
       "      <td>65.2</td>\n",
       "      <td>4.0900</td>\n",
       "      <td>1</td>\n",
       "      <td>296</td>\n",
       "      <td>15.3</td>\n",
       "      <td>396.90</td>\n",
       "      <td>4.98</td>\n",
       "      <td>24.0</td>\n",
       "    </tr>\n",
       "    <tr>\n",
       "      <th>1</th>\n",
       "      <td>0.02731</td>\n",
       "      <td>0.0</td>\n",
       "      <td>7.07</td>\n",
       "      <td>0</td>\n",
       "      <td>0.469</td>\n",
       "      <td>6.421</td>\n",
       "      <td>78.9</td>\n",
       "      <td>4.9671</td>\n",
       "      <td>2</td>\n",
       "      <td>242</td>\n",
       "      <td>17.8</td>\n",
       "      <td>396.90</td>\n",
       "      <td>9.14</td>\n",
       "      <td>21.6</td>\n",
       "    </tr>\n",
       "    <tr>\n",
       "      <th>2</th>\n",
       "      <td>0.02729</td>\n",
       "      <td>0.0</td>\n",
       "      <td>7.07</td>\n",
       "      <td>0</td>\n",
       "      <td>0.469</td>\n",
       "      <td>7.185</td>\n",
       "      <td>61.1</td>\n",
       "      <td>4.9671</td>\n",
       "      <td>2</td>\n",
       "      <td>242</td>\n",
       "      <td>17.8</td>\n",
       "      <td>392.83</td>\n",
       "      <td>4.03</td>\n",
       "      <td>34.7</td>\n",
       "    </tr>\n",
       "  </tbody>\n",
       "</table>\n",
       "</div>"
      ],
      "text/plain": [
       "      crim    zn  indus  chas    nox     rm   age     dis  rad  tax  ptratio  \\\n",
       "0  0.00632  18.0   2.31     0  0.538  6.575  65.2  4.0900    1  296     15.3   \n",
       "1  0.02731   0.0   7.07     0  0.469  6.421  78.9  4.9671    2  242     17.8   \n",
       "2  0.02729   0.0   7.07     0  0.469  7.185  61.1  4.9671    2  242     17.8   \n",
       "\n",
       "    black  lstat  medv  \n",
       "0  396.90   4.98  24.0  \n",
       "1  396.90   9.14  21.6  \n",
       "2  392.83   4.03  34.7  "
      ]
     },
     "execution_count": 12,
     "metadata": {},
     "output_type": "execute_result"
    }
   ],
   "source": [
    "df = pd.read_csv(\"Boston_home_prices.csv\")\n",
    "df.head(3)"
   ]
  },
  {
   "cell_type": "code",
   "execution_count": 13,
   "metadata": {},
   "outputs": [],
   "source": [
    "features = df.drop('medv',axis=1)\n",
    "target = df['medv']"
   ]
  },
  {
   "cell_type": "code",
   "execution_count": 14,
   "metadata": {},
   "outputs": [
    {
     "data": {
      "text/html": [
       "<div>\n",
       "<style scoped>\n",
       "    .dataframe tbody tr th:only-of-type {\n",
       "        vertical-align: middle;\n",
       "    }\n",
       "\n",
       "    .dataframe tbody tr th {\n",
       "        vertical-align: top;\n",
       "    }\n",
       "\n",
       "    .dataframe thead th {\n",
       "        text-align: right;\n",
       "    }\n",
       "</style>\n",
       "<table border=\"1\" class=\"dataframe\">\n",
       "  <thead>\n",
       "    <tr style=\"text-align: right;\">\n",
       "      <th></th>\n",
       "      <th>crim</th>\n",
       "      <th>zn</th>\n",
       "      <th>indus</th>\n",
       "      <th>chas</th>\n",
       "      <th>nox</th>\n",
       "      <th>rm</th>\n",
       "      <th>age</th>\n",
       "      <th>dis</th>\n",
       "      <th>rad</th>\n",
       "      <th>tax</th>\n",
       "      <th>ptratio</th>\n",
       "      <th>black</th>\n",
       "      <th>lstat</th>\n",
       "    </tr>\n",
       "  </thead>\n",
       "  <tbody>\n",
       "    <tr>\n",
       "      <th>count</th>\n",
       "      <td>5.060000e+02</td>\n",
       "      <td>5.060000e+02</td>\n",
       "      <td>5.060000e+02</td>\n",
       "      <td>5.060000e+02</td>\n",
       "      <td>5.060000e+02</td>\n",
       "      <td>5.060000e+02</td>\n",
       "      <td>5.060000e+02</td>\n",
       "      <td>5.060000e+02</td>\n",
       "      <td>5.060000e+02</td>\n",
       "      <td>5.060000e+02</td>\n",
       "      <td>5.060000e+02</td>\n",
       "      <td>5.060000e+02</td>\n",
       "      <td>5.060000e+02</td>\n",
       "    </tr>\n",
       "    <tr>\n",
       "      <th>mean</th>\n",
       "      <td>8.326673e-17</td>\n",
       "      <td>3.466704e-16</td>\n",
       "      <td>-3.016965e-15</td>\n",
       "      <td>3.999875e-16</td>\n",
       "      <td>3.507405e-15</td>\n",
       "      <td>-1.249418e-14</td>\n",
       "      <td>-1.158274e-15</td>\n",
       "      <td>7.308603e-16</td>\n",
       "      <td>-1.068535e-15</td>\n",
       "      <td>6.534079e-16</td>\n",
       "      <td>-1.084420e-14</td>\n",
       "      <td>8.117354e-15</td>\n",
       "      <td>-6.494585e-16</td>\n",
       "    </tr>\n",
       "    <tr>\n",
       "      <th>std</th>\n",
       "      <td>1.000000e+00</td>\n",
       "      <td>1.000000e+00</td>\n",
       "      <td>1.000000e+00</td>\n",
       "      <td>1.000000e+00</td>\n",
       "      <td>1.000000e+00</td>\n",
       "      <td>1.000000e+00</td>\n",
       "      <td>1.000000e+00</td>\n",
       "      <td>1.000000e+00</td>\n",
       "      <td>1.000000e+00</td>\n",
       "      <td>1.000000e+00</td>\n",
       "      <td>1.000000e+00</td>\n",
       "      <td>1.000000e+00</td>\n",
       "      <td>1.000000e+00</td>\n",
       "    </tr>\n",
       "    <tr>\n",
       "      <th>min</th>\n",
       "      <td>-4.193669e-01</td>\n",
       "      <td>-4.872402e-01</td>\n",
       "      <td>-1.556302e+00</td>\n",
       "      <td>-2.723291e-01</td>\n",
       "      <td>-1.464433e+00</td>\n",
       "      <td>-3.876413e+00</td>\n",
       "      <td>-2.333128e+00</td>\n",
       "      <td>-1.265817e+00</td>\n",
       "      <td>-9.818712e-01</td>\n",
       "      <td>-1.312691e+00</td>\n",
       "      <td>-2.704703e+00</td>\n",
       "      <td>-3.903331e+00</td>\n",
       "      <td>-1.529613e+00</td>\n",
       "    </tr>\n",
       "    <tr>\n",
       "      <th>25%</th>\n",
       "      <td>-4.105633e-01</td>\n",
       "      <td>-4.872402e-01</td>\n",
       "      <td>-8.668328e-01</td>\n",
       "      <td>-2.723291e-01</td>\n",
       "      <td>-9.121262e-01</td>\n",
       "      <td>-5.680681e-01</td>\n",
       "      <td>-8.366200e-01</td>\n",
       "      <td>-8.048913e-01</td>\n",
       "      <td>-6.373311e-01</td>\n",
       "      <td>-7.668172e-01</td>\n",
       "      <td>-4.875567e-01</td>\n",
       "      <td>2.048688e-01</td>\n",
       "      <td>-7.986296e-01</td>\n",
       "    </tr>\n",
       "    <tr>\n",
       "      <th>50%</th>\n",
       "      <td>-3.902803e-01</td>\n",
       "      <td>-4.872402e-01</td>\n",
       "      <td>-2.108898e-01</td>\n",
       "      <td>-2.723291e-01</td>\n",
       "      <td>-1.440749e-01</td>\n",
       "      <td>-1.083583e-01</td>\n",
       "      <td>3.170678e-01</td>\n",
       "      <td>-2.790473e-01</td>\n",
       "      <td>-5.224844e-01</td>\n",
       "      <td>-4.642132e-01</td>\n",
       "      <td>2.745872e-01</td>\n",
       "      <td>3.808097e-01</td>\n",
       "      <td>-1.810744e-01</td>\n",
       "    </tr>\n",
       "    <tr>\n",
       "      <th>75%</th>\n",
       "      <td>7.389247e-03</td>\n",
       "      <td>4.872402e-02</td>\n",
       "      <td>1.014995e+00</td>\n",
       "      <td>-2.723291e-01</td>\n",
       "      <td>5.980871e-01</td>\n",
       "      <td>4.822906e-01</td>\n",
       "      <td>9.059016e-01</td>\n",
       "      <td>6.617161e-01</td>\n",
       "      <td>1.659603e+00</td>\n",
       "      <td>1.529413e+00</td>\n",
       "      <td>8.057784e-01</td>\n",
       "      <td>4.332223e-01</td>\n",
       "      <td>6.024226e-01</td>\n",
       "    </tr>\n",
       "    <tr>\n",
       "      <th>max</th>\n",
       "      <td>9.924110e+00</td>\n",
       "      <td>3.800473e+00</td>\n",
       "      <td>2.420170e+00</td>\n",
       "      <td>3.664771e+00</td>\n",
       "      <td>2.729645e+00</td>\n",
       "      <td>3.551530e+00</td>\n",
       "      <td>1.116390e+00</td>\n",
       "      <td>3.956602e+00</td>\n",
       "      <td>1.659603e+00</td>\n",
       "      <td>1.796416e+00</td>\n",
       "      <td>1.637208e+00</td>\n",
       "      <td>4.406159e-01</td>\n",
       "      <td>3.545262e+00</td>\n",
       "    </tr>\n",
       "  </tbody>\n",
       "</table>\n",
       "</div>"
      ],
      "text/plain": [
       "               crim            zn         indus          chas           nox  \\\n",
       "count  5.060000e+02  5.060000e+02  5.060000e+02  5.060000e+02  5.060000e+02   \n",
       "mean   8.326673e-17  3.466704e-16 -3.016965e-15  3.999875e-16  3.507405e-15   \n",
       "std    1.000000e+00  1.000000e+00  1.000000e+00  1.000000e+00  1.000000e+00   \n",
       "min   -4.193669e-01 -4.872402e-01 -1.556302e+00 -2.723291e-01 -1.464433e+00   \n",
       "25%   -4.105633e-01 -4.872402e-01 -8.668328e-01 -2.723291e-01 -9.121262e-01   \n",
       "50%   -3.902803e-01 -4.872402e-01 -2.108898e-01 -2.723291e-01 -1.440749e-01   \n",
       "75%    7.389247e-03  4.872402e-02  1.014995e+00 -2.723291e-01  5.980871e-01   \n",
       "max    9.924110e+00  3.800473e+00  2.420170e+00  3.664771e+00  2.729645e+00   \n",
       "\n",
       "                 rm           age           dis           rad           tax  \\\n",
       "count  5.060000e+02  5.060000e+02  5.060000e+02  5.060000e+02  5.060000e+02   \n",
       "mean  -1.249418e-14 -1.158274e-15  7.308603e-16 -1.068535e-15  6.534079e-16   \n",
       "std    1.000000e+00  1.000000e+00  1.000000e+00  1.000000e+00  1.000000e+00   \n",
       "min   -3.876413e+00 -2.333128e+00 -1.265817e+00 -9.818712e-01 -1.312691e+00   \n",
       "25%   -5.680681e-01 -8.366200e-01 -8.048913e-01 -6.373311e-01 -7.668172e-01   \n",
       "50%   -1.083583e-01  3.170678e-01 -2.790473e-01 -5.224844e-01 -4.642132e-01   \n",
       "75%    4.822906e-01  9.059016e-01  6.617161e-01  1.659603e+00  1.529413e+00   \n",
       "max    3.551530e+00  1.116390e+00  3.956602e+00  1.659603e+00  1.796416e+00   \n",
       "\n",
       "            ptratio         black         lstat  \n",
       "count  5.060000e+02  5.060000e+02  5.060000e+02  \n",
       "mean  -1.084420e-14  8.117354e-15 -6.494585e-16  \n",
       "std    1.000000e+00  1.000000e+00  1.000000e+00  \n",
       "min   -2.704703e+00 -3.903331e+00 -1.529613e+00  \n",
       "25%   -4.875567e-01  2.048688e-01 -7.986296e-01  \n",
       "50%    2.745872e-01  3.808097e-01 -1.810744e-01  \n",
       "75%    8.057784e-01  4.332223e-01  6.024226e-01  \n",
       "max    1.637208e+00  4.406159e-01  3.545262e+00  "
      ]
     },
     "execution_count": 14,
     "metadata": {},
     "output_type": "execute_result"
    }
   ],
   "source": [
    "mu = features.mean()\n",
    "sd = features.std()\n",
    "features_s = (features - mu)/sd\n",
    "features_s.describe()"
   ]
  },
  {
   "cell_type": "code",
   "execution_count": 15,
   "metadata": {},
   "outputs": [
    {
     "data": {
      "text/plain": [
       "(506, 13)"
      ]
     },
     "execution_count": 15,
     "metadata": {},
     "output_type": "execute_result"
    }
   ],
   "source": [
    "X = features_s.values\n",
    "y = target.values\n",
    "X.shape"
   ]
  },
  {
   "cell_type": "code",
   "execution_count": 16,
   "metadata": {},
   "outputs": [
    {
     "name": "stdout",
     "output_type": "stream",
     "text": [
      "RMSE =  4.680019641624429  baseline RMSE =  9.188011545278203\n"
     ]
    }
   ],
   "source": [
    "model = Sequential()\n",
    "model.add(Dense(1,input_shape=(13,)))\n",
    "\n",
    "model.compile(loss='mean_squared_error',optimizer='Adam')\n",
    "\n",
    "hist = model.fit(X,y,epochs=5000,verbose=0)\n",
    "\n",
    "mse = hist.history['loss'][-1]\n",
    "rmse = np.sqrt(mse)\n",
    "print('RMSE = ' ,rmse, ' baseline RMSE = ',y.std())"
   ]
  },
  {
   "cell_type": "markdown",
   "metadata": {},
   "source": [
    "# Question 4"
   ]
  },
  {
   "cell_type": "code",
   "execution_count": 17,
   "metadata": {},
   "outputs": [],
   "source": [
    "import numpy as np\n",
    "import pandas as pd\n",
    "from keras.models import Sequential\n",
    "from keras.layers.core import Dense, Activation\n",
    "from keras.optimizers import Adam\n",
    "from keras import regularizers\n",
    "import matplotlib.pyplot as plt\n",
    "%matplotlib inline"
   ]
  },
  {
   "cell_type": "code",
   "execution_count": 18,
   "metadata": {},
   "outputs": [],
   "source": [
    "notMNIST = np.load('MNIST_train_100.npz')\n",
    "\n",
    "images = notMNIST['train_images']\n",
    "labels = notMNIST['train_labels']"
   ]
  },
  {
   "cell_type": "code",
   "execution_count": 19,
   "metadata": {},
   "outputs": [
    {
     "data": {
      "text/plain": [
       "(100, 28, 28)"
      ]
     },
     "execution_count": 19,
     "metadata": {},
     "output_type": "execute_result"
    }
   ],
   "source": [
    "images.shape"
   ]
  },
  {
   "cell_type": "code",
   "execution_count": 20,
   "metadata": {},
   "outputs": [
    {
     "data": {
      "text/plain": [
       "(100, 784)"
      ]
     },
     "execution_count": 20,
     "metadata": {},
     "output_type": "execute_result"
    }
   ],
   "source": [
    "X = images.reshape(100,28*28)\n",
    "X.shape"
   ]
  },
  {
   "cell_type": "code",
   "execution_count": 21,
   "metadata": {},
   "outputs": [
    {
     "data": {
      "text/plain": [
       "(100, 2)"
      ]
     },
     "execution_count": 21,
     "metadata": {},
     "output_type": "execute_result"
    }
   ],
   "source": [
    "Y = pd.get_dummies(labels).values\n",
    "Y.shape"
   ]
  },
  {
   "cell_type": "code",
   "execution_count": 22,
   "metadata": {},
   "outputs": [
    {
     "data": {
      "text/plain": [
       "9    58\n",
       "4    42\n",
       "dtype: int64"
      ]
     },
     "execution_count": 22,
     "metadata": {},
     "output_type": "execute_result"
    }
   ],
   "source": [
    "pd.Series(labels).value_counts()"
   ]
  },
  {
   "cell_type": "code",
   "execution_count": 23,
   "metadata": {},
   "outputs": [],
   "source": [
    "baseline = 58/100"
   ]
  },
  {
   "cell_type": "code",
   "execution_count": 24,
   "metadata": {},
   "outputs": [
    {
     "name": "stdout",
     "output_type": "stream",
     "text": [
      "Train on 80 samples, validate on 20 samples\n",
      "Epoch 1/100\n",
      "80/80 [==============================] - 1s 8ms/step - loss: 4.6009 - acc: 0.4625 - val_loss: 4.3522 - val_acc: 0.3500\n",
      "Epoch 2/100\n",
      "80/80 [==============================] - 0s 162us/step - loss: 4.2119 - acc: 0.5500 - val_loss: 4.0153 - val_acc: 0.4000\n",
      "Epoch 3/100\n",
      "80/80 [==============================] - 0s 236us/step - loss: 3.8477 - acc: 0.5750 - val_loss: 3.7036 - val_acc: 0.4500\n",
      "Epoch 4/100\n",
      "80/80 [==============================] - 0s 187us/step - loss: 3.5177 - acc: 0.5750 - val_loss: 3.4177 - val_acc: 0.5000\n",
      "Epoch 5/100\n",
      "80/80 [==============================] - 0s 199us/step - loss: 3.2095 - acc: 0.5750 - val_loss: 3.1427 - val_acc: 0.5000\n",
      "Epoch 6/100\n",
      "80/80 [==============================] - 0s 174us/step - loss: 2.9302 - acc: 0.6375 - val_loss: 2.8829 - val_acc: 0.5000\n",
      "Epoch 7/100\n",
      "80/80 [==============================] - 0s 185us/step - loss: 2.6714 - acc: 0.6500 - val_loss: 2.6399 - val_acc: 0.4500\n",
      "Epoch 8/100\n",
      "80/80 [==============================] - 0s 212us/step - loss: 2.4356 - acc: 0.6500 - val_loss: 2.4224 - val_acc: 0.4500\n",
      "Epoch 9/100\n",
      "80/80 [==============================] - 0s 188us/step - loss: 2.2238 - acc: 0.6625 - val_loss: 2.2252 - val_acc: 0.4500\n",
      "Epoch 10/100\n",
      "80/80 [==============================] - 0s 162us/step - loss: 2.0307 - acc: 0.6875 - val_loss: 2.0435 - val_acc: 0.4500\n",
      "Epoch 11/100\n",
      "80/80 [==============================] - 0s 222us/step - loss: 1.8566 - acc: 0.7250 - val_loss: 1.8775 - val_acc: 0.5000\n",
      "Epoch 12/100\n",
      "80/80 [==============================] - 0s 174us/step - loss: 1.6989 - acc: 0.7250 - val_loss: 1.7327 - val_acc: 0.5000\n",
      "Epoch 13/100\n",
      "80/80 [==============================] - 0s 196us/step - loss: 1.5622 - acc: 0.7500 - val_loss: 1.6001 - val_acc: 0.5000\n",
      "Epoch 14/100\n",
      "80/80 [==============================] - 0s 199us/step - loss: 1.4367 - acc: 0.7750 - val_loss: 1.4886 - val_acc: 0.5000\n",
      "Epoch 15/100\n",
      "80/80 [==============================] - 0s 174us/step - loss: 1.3261 - acc: 0.8000 - val_loss: 1.3887 - val_acc: 0.5000\n",
      "Epoch 16/100\n",
      "80/80 [==============================] - 0s 174us/step - loss: 1.2284 - acc: 0.8125 - val_loss: 1.3013 - val_acc: 0.5000\n",
      "Epoch 17/100\n",
      "80/80 [==============================] - 0s 203us/step - loss: 1.1412 - acc: 0.8000 - val_loss: 1.2227 - val_acc: 0.5500\n",
      "Epoch 18/100\n",
      "80/80 [==============================] - 0s 199us/step - loss: 1.0637 - acc: 0.8125 - val_loss: 1.1557 - val_acc: 0.5500\n",
      "Epoch 19/100\n",
      "80/80 [==============================] - 0s 169us/step - loss: 0.9954 - acc: 0.8000 - val_loss: 1.0998 - val_acc: 0.5500\n",
      "Epoch 20/100\n",
      "80/80 [==============================] - 0s 224us/step - loss: 0.9364 - acc: 0.8000 - val_loss: 1.0521 - val_acc: 0.5000\n",
      "Epoch 21/100\n",
      "80/80 [==============================] - 0s 188us/step - loss: 0.8838 - acc: 0.8000 - val_loss: 1.0041 - val_acc: 0.5500\n",
      "Epoch 22/100\n",
      "80/80 [==============================] - 0s 184us/step - loss: 0.8389 - acc: 0.8000 - val_loss: 0.9590 - val_acc: 0.5500\n",
      "Epoch 23/100\n",
      "80/80 [==============================] - 0s 187us/step - loss: 0.7969 - acc: 0.8250 - val_loss: 0.9239 - val_acc: 0.5500\n",
      "Epoch 24/100\n",
      "80/80 [==============================] - 0s 176us/step - loss: 0.7616 - acc: 0.8250 - val_loss: 0.8917 - val_acc: 0.5500\n",
      "Epoch 25/100\n",
      "80/80 [==============================] - 0s 212us/step - loss: 0.7308 - acc: 0.8250 - val_loss: 0.8628 - val_acc: 0.5500\n",
      "Epoch 26/100\n",
      "80/80 [==============================] - 0s 187us/step - loss: 0.7037 - acc: 0.8375 - val_loss: 0.8362 - val_acc: 0.5500\n",
      "Epoch 27/100\n",
      "80/80 [==============================] - 0s 187us/step - loss: 0.6801 - acc: 0.8375 - val_loss: 0.8143 - val_acc: 0.5500\n",
      "Epoch 28/100\n",
      "80/80 [==============================] - 0s 167us/step - loss: 0.6597 - acc: 0.8625 - val_loss: 0.7920 - val_acc: 0.6500\n",
      "Epoch 29/100\n",
      "80/80 [==============================] - 0s 175us/step - loss: 0.6435 - acc: 0.8875 - val_loss: 0.7742 - val_acc: 0.7000\n",
      "Epoch 30/100\n",
      "80/80 [==============================] - 0s 192us/step - loss: 0.6280 - acc: 0.9125 - val_loss: 0.7642 - val_acc: 0.6500\n",
      "Epoch 31/100\n",
      "80/80 [==============================] - 0s 198us/step - loss: 0.6145 - acc: 0.9125 - val_loss: 0.7575 - val_acc: 0.7000\n",
      "Epoch 32/100\n",
      "80/80 [==============================] - 0s 187us/step - loss: 0.6031 - acc: 0.8875 - val_loss: 0.7529 - val_acc: 0.6500\n",
      "Epoch 33/100\n",
      "80/80 [==============================] - 0s 162us/step - loss: 0.5940 - acc: 0.8750 - val_loss: 0.7476 - val_acc: 0.6500\n",
      "Epoch 34/100\n",
      "80/80 [==============================] - 0s 187us/step - loss: 0.5849 - acc: 0.8500 - val_loss: 0.7380 - val_acc: 0.6500\n",
      "Epoch 35/100\n",
      "80/80 [==============================] - 0s 174us/step - loss: 0.5777 - acc: 0.9000 - val_loss: 0.7289 - val_acc: 0.7000\n",
      "Epoch 36/100\n",
      "80/80 [==============================] - 0s 202us/step - loss: 0.5713 - acc: 0.9250 - val_loss: 0.7230 - val_acc: 0.7000\n",
      "Epoch 37/100\n",
      "80/80 [==============================] - 0s 186us/step - loss: 0.5662 - acc: 0.9250 - val_loss: 0.7199 - val_acc: 0.7000\n",
      "Epoch 38/100\n",
      "80/80 [==============================] - 0s 199us/step - loss: 0.5618 - acc: 0.9250 - val_loss: 0.7148 - val_acc: 0.7000\n",
      "Epoch 39/100\n",
      "80/80 [==============================] - 0s 165us/step - loss: 0.5576 - acc: 0.9250 - val_loss: 0.7126 - val_acc: 0.7000\n",
      "Epoch 40/100\n",
      "80/80 [==============================] - 0s 200us/step - loss: 0.5544 - acc: 0.9250 - val_loss: 0.7113 - val_acc: 0.7000\n",
      "Epoch 41/100\n",
      "80/80 [==============================] - 0s 175us/step - loss: 0.5514 - acc: 0.9250 - val_loss: 0.7118 - val_acc: 0.7000\n",
      "Epoch 42/100\n",
      "80/80 [==============================] - 0s 180us/step - loss: 0.5490 - acc: 0.9000 - val_loss: 0.7155 - val_acc: 0.6500\n",
      "Epoch 43/100\n",
      "80/80 [==============================] - 0s 162us/step - loss: 0.5476 - acc: 0.8500 - val_loss: 0.7164 - val_acc: 0.6500\n",
      "Epoch 44/100\n",
      "80/80 [==============================] - 0s 199us/step - loss: 0.5464 - acc: 0.8500 - val_loss: 0.7161 - val_acc: 0.6500\n",
      "Epoch 45/100\n",
      "80/80 [==============================] - 0s 212us/step - loss: 0.5452 - acc: 0.8375 - val_loss: 0.7113 - val_acc: 0.6500\n",
      "Epoch 46/100\n",
      "80/80 [==============================] - 0s 211us/step - loss: 0.5436 - acc: 0.8750 - val_loss: 0.7048 - val_acc: 0.7500\n",
      "Epoch 47/100\n",
      "80/80 [==============================] - 0s 175us/step - loss: 0.5419 - acc: 0.9125 - val_loss: 0.7005 - val_acc: 0.7000\n",
      "Epoch 48/100\n",
      "80/80 [==============================] - 0s 177us/step - loss: 0.5407 - acc: 0.9375 - val_loss: 0.6976 - val_acc: 0.7500\n",
      "Epoch 49/100\n",
      "80/80 [==============================] - 0s 187us/step - loss: 0.5399 - acc: 0.9375 - val_loss: 0.6970 - val_acc: 0.7500\n",
      "Epoch 50/100\n",
      "80/80 [==============================] - 0s 200us/step - loss: 0.5397 - acc: 0.9375 - val_loss: 0.6979 - val_acc: 0.7500\n",
      "Epoch 51/100\n",
      "80/80 [==============================] - 0s 175us/step - loss: 0.5388 - acc: 0.9375 - val_loss: 0.7008 - val_acc: 0.7500\n",
      "Epoch 52/100\n",
      "80/80 [==============================] - 0s 176us/step - loss: 0.5384 - acc: 0.9250 - val_loss: 0.7025 - val_acc: 0.7500\n",
      "Epoch 53/100\n",
      "80/80 [==============================] - 0s 191us/step - loss: 0.5379 - acc: 0.9125 - val_loss: 0.7011 - val_acc: 0.7500\n",
      "Epoch 54/100\n",
      "80/80 [==============================] - 0s 224us/step - loss: 0.5377 - acc: 0.9375 - val_loss: 0.7000 - val_acc: 0.7500\n",
      "Epoch 55/100\n",
      "80/80 [==============================] - 0s 217us/step - loss: 0.5372 - acc: 0.9375 - val_loss: 0.7018 - val_acc: 0.7500\n",
      "Epoch 56/100\n",
      "80/80 [==============================] - 0s 162us/step - loss: 0.5370 - acc: 0.9125 - val_loss: 0.7051 - val_acc: 0.8000\n",
      "Epoch 57/100\n",
      "80/80 [==============================] - 0s 186us/step - loss: 0.5376 - acc: 0.9000 - val_loss: 0.7103 - val_acc: 0.6500\n",
      "Epoch 58/100\n",
      "80/80 [==============================] - 0s 162us/step - loss: 0.5373 - acc: 0.8875 - val_loss: 0.7097 - val_acc: 0.6500\n",
      "Epoch 59/100\n",
      "80/80 [==============================] - 0s 168us/step - loss: 0.5368 - acc: 0.9000 - val_loss: 0.7107 - val_acc: 0.7000\n",
      "Epoch 60/100\n",
      "80/80 [==============================] - 0s 175us/step - loss: 0.5368 - acc: 0.9000 - val_loss: 0.7108 - val_acc: 0.7000\n",
      "Epoch 61/100\n",
      "80/80 [==============================] - 0s 199us/step - loss: 0.5367 - acc: 0.9000 - val_loss: 0.7085 - val_acc: 0.7500\n"
     ]
    },
    {
     "name": "stdout",
     "output_type": "stream",
     "text": [
      "Epoch 62/100\n",
      "80/80 [==============================] - 0s 187us/step - loss: 0.5365 - acc: 0.9125 - val_loss: 0.7075 - val_acc: 0.7500\n",
      "Epoch 63/100\n",
      "80/80 [==============================] - 0s 174us/step - loss: 0.5362 - acc: 0.9125 - val_loss: 0.7063 - val_acc: 0.7500\n",
      "Epoch 64/100\n",
      "80/80 [==============================] - 0s 187us/step - loss: 0.5360 - acc: 0.9125 - val_loss: 0.7047 - val_acc: 0.7500\n",
      "Epoch 65/100\n",
      "80/80 [==============================] - 0s 164us/step - loss: 0.5367 - acc: 0.9250 - val_loss: 0.7015 - val_acc: 0.7500\n",
      "Epoch 66/100\n",
      "80/80 [==============================] - 0s 162us/step - loss: 0.5364 - acc: 0.9250 - val_loss: 0.7026 - val_acc: 0.7500\n",
      "Epoch 67/100\n",
      "80/80 [==============================] - 0s 137us/step - loss: 0.5359 - acc: 0.9250 - val_loss: 0.7016 - val_acc: 0.7500\n",
      "Epoch 68/100\n",
      "80/80 [==============================] - 0s 212us/step - loss: 0.5358 - acc: 0.9250 - val_loss: 0.7012 - val_acc: 0.7500\n",
      "Epoch 69/100\n",
      "80/80 [==============================] - 0s 174us/step - loss: 0.5367 - acc: 0.9250 - val_loss: 0.6977 - val_acc: 0.7500\n",
      "Epoch 70/100\n",
      "80/80 [==============================] - 0s 187us/step - loss: 0.5365 - acc: 0.9375 - val_loss: 0.6967 - val_acc: 0.7500\n",
      "Epoch 71/100\n",
      "80/80 [==============================] - 0s 175us/step - loss: 0.5379 - acc: 0.9250 - val_loss: 0.7007 - val_acc: 0.8000\n",
      "Epoch 72/100\n",
      "80/80 [==============================] - 0s 187us/step - loss: 0.5363 - acc: 0.9125 - val_loss: 0.6979 - val_acc: 0.7500\n",
      "Epoch 73/100\n",
      "80/80 [==============================] - 0s 187us/step - loss: 0.5360 - acc: 0.9125 - val_loss: 0.6978 - val_acc: 0.7500\n",
      "Epoch 74/100\n",
      "80/80 [==============================] - 0s 200us/step - loss: 0.5358 - acc: 0.9250 - val_loss: 0.6998 - val_acc: 0.7500\n",
      "Epoch 75/100\n",
      "80/80 [==============================] - 0s 187us/step - loss: 0.5362 - acc: 0.9125 - val_loss: 0.7008 - val_acc: 0.7500\n",
      "Epoch 76/100\n",
      "80/80 [==============================] - 0s 212us/step - loss: 0.5358 - acc: 0.9250 - val_loss: 0.7000 - val_acc: 0.7500\n",
      "Epoch 77/100\n",
      "80/80 [==============================] - 0s 211us/step - loss: 0.5358 - acc: 0.9250 - val_loss: 0.7016 - val_acc: 0.7500\n",
      "Epoch 78/100\n",
      "80/80 [==============================] - 0s 175us/step - loss: 0.5369 - acc: 0.9125 - val_loss: 0.7050 - val_acc: 0.7500\n",
      "Epoch 79/100\n",
      "80/80 [==============================] - 0s 175us/step - loss: 0.5357 - acc: 0.9125 - val_loss: 0.7041 - val_acc: 0.7500\n",
      "Epoch 80/100\n",
      "80/80 [==============================] - 0s 187us/step - loss: 0.5360 - acc: 0.9250 - val_loss: 0.7017 - val_acc: 0.7500\n",
      "Epoch 81/100\n",
      "80/80 [==============================] - 0s 175us/step - loss: 0.5364 - acc: 0.9250 - val_loss: 0.7026 - val_acc: 0.7500\n",
      "Epoch 82/100\n",
      "80/80 [==============================] - 0s 162us/step - loss: 0.5364 - acc: 0.9250 - val_loss: 0.6997 - val_acc: 0.7500\n",
      "Epoch 83/100\n",
      "80/80 [==============================] - 0s 203us/step - loss: 0.5356 - acc: 0.9250 - val_loss: 0.7001 - val_acc: 0.7500\n",
      "Epoch 84/100\n",
      "80/80 [==============================] - 0s 187us/step - loss: 0.5362 - acc: 0.9250 - val_loss: 0.7017 - val_acc: 0.7500\n",
      "Epoch 85/100\n",
      "80/80 [==============================] - 0s 215us/step - loss: 0.5355 - acc: 0.9250 - val_loss: 0.7016 - val_acc: 0.7500\n",
      "Epoch 86/100\n",
      "80/80 [==============================] - 0s 162us/step - loss: 0.5356 - acc: 0.9250 - val_loss: 0.7002 - val_acc: 0.7500\n",
      "Epoch 87/100\n",
      "80/80 [==============================] - 0s 187us/step - loss: 0.5360 - acc: 0.9250 - val_loss: 0.6988 - val_acc: 0.7500\n",
      "Epoch 88/100\n",
      "80/80 [==============================] - 0s 187us/step - loss: 0.5359 - acc: 0.9250 - val_loss: 0.6974 - val_acc: 0.7500\n",
      "Epoch 89/100\n",
      "80/80 [==============================] - 0s 176us/step - loss: 0.5364 - acc: 0.9250 - val_loss: 0.6970 - val_acc: 0.7500\n",
      "Epoch 90/100\n",
      "80/80 [==============================] - 0s 200us/step - loss: 0.5364 - acc: 0.9250 - val_loss: 0.6949 - val_acc: 0.7500\n",
      "Epoch 91/100\n",
      "80/80 [==============================] - 0s 174us/step - loss: 0.5365 - acc: 0.9375 - val_loss: 0.6952 - val_acc: 0.7500\n",
      "Epoch 92/100\n",
      "80/80 [==============================] - 0s 187us/step - loss: 0.5360 - acc: 0.9375 - val_loss: 0.6977 - val_acc: 0.7500\n",
      "Epoch 93/100\n",
      "80/80 [==============================] - 0s 175us/step - loss: 0.5366 - acc: 0.9375 - val_loss: 0.7016 - val_acc: 0.7500\n",
      "Epoch 94/100\n",
      "80/80 [==============================] - 0s 187us/step - loss: 0.5359 - acc: 0.9250 - val_loss: 0.7040 - val_acc: 0.8000\n",
      "Epoch 95/100\n",
      "80/80 [==============================] - 0s 175us/step - loss: 0.5355 - acc: 0.9250 - val_loss: 0.7044 - val_acc: 0.7500\n",
      "Epoch 96/100\n",
      "80/80 [==============================] - 0s 207us/step - loss: 0.5356 - acc: 0.9250 - val_loss: 0.7049 - val_acc: 0.7500\n",
      "Epoch 97/100\n",
      "80/80 [==============================] - 0s 187us/step - loss: 0.5359 - acc: 0.9250 - val_loss: 0.7070 - val_acc: 0.7500\n",
      "Epoch 98/100\n",
      "80/80 [==============================] - 0s 187us/step - loss: 0.5356 - acc: 0.9250 - val_loss: 0.7075 - val_acc: 0.7500\n",
      "Epoch 99/100\n",
      "80/80 [==============================] - 0s 187us/step - loss: 0.5359 - acc: 0.9250 - val_loss: 0.7100 - val_acc: 0.7000\n",
      "Epoch 100/100\n",
      "80/80 [==============================] - 0s 187us/step - loss: 0.5357 - acc: 0.9125 - val_loss: 0.7105 - val_acc: 0.7000\n"
     ]
    }
   ],
   "source": [
    "model = Sequential()\n",
    "model.add(Dense(2,input_shape=(28*28,),kernel_regularizer=regularizers.l2(1)))\n",
    "model.add(Activation('softmax'))\n",
    "model.compile(loss='categorical_crossentropy',optimizer='Adam',metrics=['accuracy'])\n",
    "\n",
    "hist = model.fit(X,Y,epochs=100,verbose=1,validation_split=0.2)"
   ]
  },
  {
   "cell_type": "code",
   "execution_count": 25,
   "metadata": {},
   "outputs": [
    {
     "data": {
      "text/html": [
       "<div>\n",
       "<style scoped>\n",
       "    .dataframe tbody tr th:only-of-type {\n",
       "        vertical-align: middle;\n",
       "    }\n",
       "\n",
       "    .dataframe tbody tr th {\n",
       "        vertical-align: top;\n",
       "    }\n",
       "\n",
       "    .dataframe thead th {\n",
       "        text-align: right;\n",
       "    }\n",
       "</style>\n",
       "<table border=\"1\" class=\"dataframe\">\n",
       "  <thead>\n",
       "    <tr style=\"text-align: right;\">\n",
       "      <th></th>\n",
       "      <th>epoch</th>\n",
       "      <th>training</th>\n",
       "      <th>testing</th>\n",
       "      <th>baseline</th>\n",
       "    </tr>\n",
       "  </thead>\n",
       "  <tbody>\n",
       "    <tr>\n",
       "      <th>0</th>\n",
       "      <td>1</td>\n",
       "      <td>0.4625</td>\n",
       "      <td>0.35</td>\n",
       "      <td>0.58</td>\n",
       "    </tr>\n",
       "    <tr>\n",
       "      <th>1</th>\n",
       "      <td>2</td>\n",
       "      <td>0.5500</td>\n",
       "      <td>0.40</td>\n",
       "      <td>0.58</td>\n",
       "    </tr>\n",
       "    <tr>\n",
       "      <th>2</th>\n",
       "      <td>3</td>\n",
       "      <td>0.5750</td>\n",
       "      <td>0.45</td>\n",
       "      <td>0.58</td>\n",
       "    </tr>\n",
       "    <tr>\n",
       "      <th>3</th>\n",
       "      <td>4</td>\n",
       "      <td>0.5750</td>\n",
       "      <td>0.50</td>\n",
       "      <td>0.58</td>\n",
       "    </tr>\n",
       "    <tr>\n",
       "      <th>4</th>\n",
       "      <td>5</td>\n",
       "      <td>0.5750</td>\n",
       "      <td>0.50</td>\n",
       "      <td>0.58</td>\n",
       "    </tr>\n",
       "  </tbody>\n",
       "</table>\n",
       "</div>"
      ],
      "text/plain": [
       "   epoch  training  testing  baseline\n",
       "0      1    0.4625     0.35      0.58\n",
       "1      2    0.5500     0.40      0.58\n",
       "2      3    0.5750     0.45      0.58\n",
       "3      4    0.5750     0.50      0.58\n",
       "4      5    0.5750     0.50      0.58"
      ]
     },
     "execution_count": 25,
     "metadata": {},
     "output_type": "execute_result"
    }
   ],
   "source": [
    "accuracy = pd.DataFrame()\n",
    "accuracy['epoch'] = hist.epoch\n",
    "accuracy['epoch'] = accuracy['epoch']+1\n",
    "accuracy['training'] = hist.history['acc']\n",
    "accuracy['testing'] = hist.history['val_acc']\n",
    "accuracy['baseline'] = baseline\n",
    "accuracy.head()"
   ]
  },
  {
   "cell_type": "code",
   "execution_count": 26,
   "metadata": {},
   "outputs": [
    {
     "data": {
      "text/plain": [
       "<matplotlib.axes._subplots.AxesSubplot at 0x1f50905f898>"
      ]
     },
     "execution_count": 26,
     "metadata": {},
     "output_type": "execute_result"
    },
    {
     "data": {
      "image/png": "[encoded data removed]",
      "text/plain": [
       "<Figure size 432x288 with 1 Axes>"
      ]
     },
     "metadata": {},
     "output_type": "display_data"
    }
   ],
   "source": [
    "ax = accuracy.plot.line(x='epoch',y='training')\n",
    "ax = accuracy.plot.line(x='epoch',y='testing',ax=ax)\n",
    "accuracy.plot.line(x='epoch',y='baseline',ax=ax)"
   ]
  },
  {
   "cell_type": "markdown",
   "metadata": {},
   "source": [
    "The larger the regulation value, the lower the training and testing accuracy"
   ]
  }
 ],
 "metadata": {
  "kernelspec": {
   "display_name": "Python 3",
   "language": "python",
   "name": "python3"
  },
  "language_info": {
   "codemirror_mode": {
    "name": "ipython",
    "version": 3
   },
   "file_extension": ".py",
   "mimetype": "text/x-python",
   "name": "python",
   "nbconvert_exporter": "python",
   "pygments_lexer": "ipython3",
   "version": "3.6.5"
  }
 },
 "nbformat": 4,
 "nbformat_minor": 2
}
