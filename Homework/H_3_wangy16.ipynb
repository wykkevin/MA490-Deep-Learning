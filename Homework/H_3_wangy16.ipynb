{
 "cells": [
  {
   "cell_type": "markdown",
   "metadata": {},
   "source": [
    "# Homework 3 Yuankai Wang"
   ]
  },
  {
   "cell_type": "markdown",
   "metadata": {},
   "source": [
    "# Question 1"
   ]
  },
  {
   "cell_type": "code",
   "execution_count": 1,
   "metadata": {},
   "outputs": [],
   "source": [
    "# When there are 100 features and 1000 data points(a), X will be a 1000*100 matrix. So XT*X will be a 100*100 matrix.\n",
    "# When there are 1000 features and 100 data points(b), X will be a 100*1000 matrix. So XT*X will be a 1000*1000 matrix.\n",
    "# Since the matrix for (b) is larger, solving (b) would need more work."
   ]
  },
  {
   "cell_type": "markdown",
   "metadata": {},
   "source": [
    "# Question 2"
   ]
  },
  {
   "cell_type": "code",
   "execution_count": 2,
   "metadata": {},
   "outputs": [],
   "source": [
    "# Take all the continuous math and physics class you can possibly take\n",
    "# Take Calc I, Calc II, Calc III, Linear Algebra, Probability and Statistics, and as many physics courses as you can.\n",
    "# Make sure you learn to program.\n",
    "# Take an AI-related problem you are passionate about and think about it on your own.\n",
    "# Find a professor in your school that can help you make your ideas concrete.\n",
    "# Before you graduate, try to write a paper about your research or release a piece of open source code."
   ]
  },
  {
   "cell_type": "markdown",
   "metadata": {},
   "source": [
    "# Question 3"
   ]
  },
  {
   "cell_type": "code",
   "execution_count": 3,
   "metadata": {},
   "outputs": [],
   "source": [
    "# x2 = 2.54*x1\n",
    "# Engineered network: y = w1x1 + w2x2 + b = w1x1 + w2*(2.54x1) + b = (w1 + 2.54w2)x1 + b\n",
    "# When w = w1+2.54w2, the two networks are the same."
   ]
  },
  {
   "cell_type": "markdown",
   "metadata": {},
   "source": [
    "# Question 4"
   ]
  },
  {
   "cell_type": "code",
   "execution_count": 4,
   "metadata": {},
   "outputs": [],
   "source": [
    "import numpy as np\n",
    "import pandas as pd\n",
    "import matplotlib.pyplot as plt\n",
    "%matplotlib inline"
   ]
  },
  {
   "cell_type": "code",
   "execution_count": 5,
   "metadata": {},
   "outputs": [],
   "source": [
    "def RMSE(yh,y):\n",
    "    return np.sqrt(((yh-y)**2).mean())"
   ]
  },
  {
   "cell_type": "code",
   "execution_count": 6,
   "metadata": {},
   "outputs": [],
   "source": [
    "df = pd.read_csv(\"HP_vs_MPG.csv\")"
   ]
  },
  {
   "cell_type": "code",
   "execution_count": 7,
   "metadata": {},
   "outputs": [],
   "source": [
    "df_train = df.sample(frac = 0.8, random_state = 0)\n",
    "df_test = df.drop(df_train.index)"
   ]
  },
  {
   "cell_type": "code",
   "execution_count": 8,
   "metadata": {},
   "outputs": [],
   "source": [
    "features_train = df_train.drop('mpg',axis=1)\n",
    "features_test = df_test.drop('mpg',axis=1)\n",
    "\n",
    "features_train['bias'] = 1\n",
    "features_test['bias'] = 1\n",
    "\n",
    "target_train = df_train['mpg']\n",
    "target_test = df_test['mpg']\n",
    "\n",
    "X_train = features_train.values\n",
    "X_test = features_test.values\n",
    "\n",
    "y_train = target_train.values\n",
    "y_test = target_test.values"
   ]
  },
  {
   "cell_type": "code",
   "execution_count": 9,
   "metadata": {},
   "outputs": [
    {
     "data": {
      "text/plain": [
       "horsepower    -0.155105\n",
       "bias          39.576260\n",
       "dtype: float64"
      ]
     },
     "execution_count": 9,
     "metadata": {},
     "output_type": "execute_result"
    }
   ],
   "source": [
    "A = np.matmul(X_train.T, X_train)\n",
    "b = np.matmul(X_train.T, y_train)\n",
    "wopt = np.linalg.solve(A,b)\n",
    "pd.Series(wopt, index=features_train.columns)"
   ]
  },
  {
   "cell_type": "code",
   "execution_count": 10,
   "metadata": {},
   "outputs": [
    {
     "name": "stdout",
     "output_type": "stream",
     "text": [
      "Linear training RMSE =  4.973717231611296\n"
     ]
    }
   ],
   "source": [
    "# Linear\n",
    "yh = np.matmul(X_train, wopt)\n",
    "print('Linear training RMSE = ',RMSE(yh, y_train))"
   ]
  },
  {
   "cell_type": "code",
   "execution_count": 11,
   "metadata": {},
   "outputs": [
    {
     "name": "stdout",
     "output_type": "stream",
     "text": [
      "Linear testing RMSE =  4.5639128558497175\n"
     ]
    }
   ],
   "source": [
    "yh = np.matmul(X_test, wopt)\n",
    "print('Linear testing RMSE = ',RMSE(yh, y_test))"
   ]
  },
  {
   "cell_type": "code",
   "execution_count": 12,
   "metadata": {},
   "outputs": [
    {
     "name": "stdout",
     "output_type": "stream",
     "text": [
      "Constant training RMSE =  7.716335414199606\n",
      "Constant testing RMSE =  8.08125697727005\n"
     ]
    }
   ],
   "source": [
    "# Constant\n",
    "print('Constant training RMSE = ', y_train.std())\n",
    "print('Constant testing RMSE = ', y_test.std())"
   ]
  },
  {
   "cell_type": "code",
   "execution_count": 13,
   "metadata": {},
   "outputs": [],
   "source": [
    "features_train = df_train.drop('mpg',axis=1)\n",
    "features_test = df_test.drop('mpg',axis=1)\n",
    "\n",
    "features_train['h2'] = df['horsepower']**2\n",
    "features_test['h2'] = df['horsepower']**2\n",
    "features_train['bias'] = 1\n",
    "features_test['bias'] = 1\n",
    "\n",
    "X_train = features_train.values\n",
    "y_train = target_train.values\n",
    "X_test = features_test.values\n",
    "y_test = target_test.values"
   ]
  },
  {
   "cell_type": "code",
   "execution_count": 14,
   "metadata": {},
   "outputs": [
    {
     "data": {
      "text/plain": [
       "horsepower    -0.445182\n",
       "h2             0.001159\n",
       "bias          55.575239\n",
       "dtype: float64"
      ]
     },
     "execution_count": 14,
     "metadata": {},
     "output_type": "execute_result"
    }
   ],
   "source": [
    "A = np.matmul(X_train.T, X_train)\n",
    "b = np.matmul(X_train.T, y_train)\n",
    "wopt = np.linalg.solve(A,b)\n",
    "pd.Series(wopt, index=features_train.columns)"
   ]
  },
  {
   "cell_type": "code",
   "execution_count": 15,
   "metadata": {},
   "outputs": [
    {
     "name": "stdout",
     "output_type": "stream",
     "text": [
      "Parabolic training RMSE =  4.5269404149148125\n"
     ]
    }
   ],
   "source": [
    "# Parabolic\n",
    "yh = np.matmul(X_train, wopt)\n",
    "print('Parabolic training RMSE = ',RMSE(yh, y_train))"
   ]
  },
  {
   "cell_type": "code",
   "execution_count": 16,
   "metadata": {},
   "outputs": [
    {
     "name": "stdout",
     "output_type": "stream",
     "text": [
      "Parabolic testing RMSE =  3.6149222456032772\n"
     ]
    }
   ],
   "source": [
    "yh = np.matmul(X_test, wopt)\n",
    "print('Parabolic testing RMSE = ',RMSE(yh, y_test))"
   ]
  },
  {
   "cell_type": "code",
   "execution_count": 17,
   "metadata": {},
   "outputs": [],
   "source": [
    "# Parabolic performs best, because its RMSE is the smallest."
   ]
  },
  {
   "cell_type": "code",
   "execution_count": null,
   "metadata": {},
   "outputs": [],
   "source": []
  }
 ],
 "metadata": {
  "kernelspec": {
   "display_name": "Python 3",
   "language": "python",
   "name": "python3"
  },
  "language_info": {
   "codemirror_mode": {
    "name": "ipython",
    "version": 3
   },
   "file_extension": ".py",
   "mimetype": "text/x-python",
   "name": "python",
   "nbconvert_exporter": "python",
   "pygments_lexer": "ipython3",
   "version": "3.6.5"
  }
 },
 "nbformat": 4,
 "nbformat_minor": 2
}
