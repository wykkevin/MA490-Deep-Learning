{
 "cells": [
  {
   "cell_type": "code",
   "execution_count": 1,
   "metadata": {},
   "outputs": [
    {
     "name": "stderr",
     "output_type": "stream",
     "text": [
      "C:\\Users\\Administrator\\Anaconda3\\lib\\site-packages\\h5py\\__init__.py:36: FutureWarning: Conversion of the second argument of issubdtype from `float` to `np.floating` is deprecated. In future, it will be treated as `np.float64 == np.dtype(float).type`.\n",
      "  from ._conv import register_converters as _register_converters\n",
      "Using TensorFlow backend.\n"
     ]
    }
   ],
   "source": [
    "import numpy as np\n",
    "import pandas as pd\n",
    "from keras.models import Sequential\n",
    "from keras.layers.core import Dense, Activation\n",
    "from keras.optimizers import Adam"
   ]
  },
  {
   "cell_type": "code",
   "execution_count": 2,
   "metadata": {},
   "outputs": [],
   "source": [
    "def fsmax(x):\n",
    "    e = np.exp(x-x.max())\n",
    "    p = e/e.sum()\n",
    "    return p\n",
    "def Dfsmax(x):\n",
    "    e = np.exp(x-x.max())\n",
    "    p = e/e.sum()\n",
    "    dpdx = np.diag(p) - np.outer(p,p)\n",
    "    return dpdx\n",
    "def CE(p,ph):\n",
    "    ce = -(p*np.log(ph)).sum()\n",
    "    return ce\n",
    "def loss(x,p,W):\n",
    "    yh = np.matmul(x,W)\n",
    "    ph = fsmax(yh)\n",
    "    l = CE(p,ph)\n",
    "    return l\n",
    "def TotalLoss(X,P,W):\n",
    "    num = X.shape[0]\n",
    "    l = 0\n",
    "    for i in range(num):\n",
    "        l = l + loss(X[i,:],P[i,:],W)\n",
    "    l = l / num\n",
    "    return l\n",
    "def Dloss(x,p,W):\n",
    "    yh = np.matmul(x,W)\n",
    "    ph = fsmax(yh)\n",
    "    dpdy = Dfsmax(yh)\n",
    "    u = p/ph\n",
    "    v = np.matmul(u,dpdy)\n",
    "    dldW = - np.outer(x,v)\n",
    "    return dldW\n",
    "def Dloss_numeric(x,p,W):\n",
    "    eps = 10**(-5)\n",
    "    (d,N) = W.shape\n",
    "    d = d-1\n",
    "    dldW = np.zeros((d+1,N))\n",
    "    for j in range(d+1):\n",
    "        for k in range(N):\n",
    "            dW = np.zeros((d+1,N))\n",
    "            dW[j,k] = eps\n",
    "            l_p = loss(x,p,W+dW)\n",
    "            l_m = loss(x,p,W-dW)\n",
    "            dldW[j,k] = (l_p - l_m)/(2*eps)\n",
    "    return dldW\n",
    "def accuracy(X,P,W):\n",
    "    n = X.shape[0]\n",
    "    Yh = np.matmul(X,W)\n",
    "    Ph = np.zeros(Yh.shape)\n",
    "    for i in range(n):\n",
    "        Ph[i,:] = fsmax(Yh[i,:])\n",
    "    num_correct = (Ph.argmax(axis=1) == P.argmax(axis=1)).sum()\n",
    "    acc = num_correct/n\n",
    "    return acc\n",
    "def StochasticGradientDescent(X,P,W,h,epochs,verbose=0):\n",
    "    num = X.shape[0]\n",
    "    l = 0\n",
    "    for i in range(epochs):\n",
    "        for j in range(num):\n",
    "            W = W - h * Dloss(X[j,:],P[j,:],W)\n",
    "        l = TotalLoss(X,P,W)\n",
    "        acc = accuracy(X,P,W)\n",
    "        if verbose!=0:\n",
    "            print('epoch =',epoch+1,'of',epochs,' loss =',l,' acc =',np.round(acc,3))\n",
    "    return (W,l,acc)"
   ]
  },
  {
   "cell_type": "code",
   "execution_count": 3,
   "metadata": {},
   "outputs": [
    {
     "name": "stdout",
     "output_type": "stream",
     "text": [
      "numeric dldW: [[-0.03482371 -0.15735717  0.19218088]\n",
      " [-0.04028602 -0.1820396   0.22232562]\n",
      " [-0.00283245 -0.01279894  0.0156314 ]]\n",
      "analytical dldW: [[-0.03482371 -0.15735717  0.19218088]\n",
      " [-0.04028602 -0.1820396   0.22232562]\n",
      " [-0.00283245 -0.01279894  0.0156314 ]]\n",
      "error: [[ 1.52863694e-11  5.01568231e-12  1.30045696e-11]\n",
      " [-6.46865894e-12  8.47544257e-13 -5.48117107e-12]\n",
      " [-1.02421040e-11 -1.01659722e-11  9.30584429e-12]]\n"
     ]
    }
   ],
   "source": [
    "d = 2\n",
    "N = 3\n",
    "x = np.random.rand(d+1)\n",
    "W = np.random.rand(d+1,N)\n",
    "p = fsmax(np.random.rand(N))\n",
    "print('numeric dldW:',Dloss_numeric(x,p,W))\n",
    "print('analytical dldW:',Dloss(x,p,W))\n",
    "print('error:',Dloss_numeric(x,p,W) - Dloss(x,p,W))"
   ]
  },
  {
   "cell_type": "code",
   "execution_count": 4,
   "metadata": {},
   "outputs": [
    {
     "data": {
      "text/html": [
       "<div>\n",
       "<style scoped>\n",
       "    .dataframe tbody tr th:only-of-type {\n",
       "        vertical-align: middle;\n",
       "    }\n",
       "\n",
       "    .dataframe tbody tr th {\n",
       "        vertical-align: top;\n",
       "    }\n",
       "\n",
       "    .dataframe thead th {\n",
       "        text-align: right;\n",
       "    }\n",
       "</style>\n",
       "<table border=\"1\" class=\"dataframe\">\n",
       "  <thead>\n",
       "    <tr style=\"text-align: right;\">\n",
       "      <th></th>\n",
       "      <th>sepal length</th>\n",
       "      <th>sepal width</th>\n",
       "      <th>petal length</th>\n",
       "      <th>petal width</th>\n",
       "      <th>species</th>\n",
       "    </tr>\n",
       "  </thead>\n",
       "  <tbody>\n",
       "    <tr>\n",
       "      <th>0</th>\n",
       "      <td>5.1</td>\n",
       "      <td>3.5</td>\n",
       "      <td>1.4</td>\n",
       "      <td>0.2</td>\n",
       "      <td>setosa</td>\n",
       "    </tr>\n",
       "    <tr>\n",
       "      <th>1</th>\n",
       "      <td>4.9</td>\n",
       "      <td>3.0</td>\n",
       "      <td>1.4</td>\n",
       "      <td>0.2</td>\n",
       "      <td>setosa</td>\n",
       "    </tr>\n",
       "    <tr>\n",
       "      <th>2</th>\n",
       "      <td>4.7</td>\n",
       "      <td>3.2</td>\n",
       "      <td>1.3</td>\n",
       "      <td>0.2</td>\n",
       "      <td>setosa</td>\n",
       "    </tr>\n",
       "  </tbody>\n",
       "</table>\n",
       "</div>"
      ],
      "text/plain": [
       "   sepal length  sepal width  petal length  petal width species\n",
       "0           5.1          3.5           1.4          0.2  setosa\n",
       "1           4.9          3.0           1.4          0.2  setosa\n",
       "2           4.7          3.2           1.3          0.2  setosa"
      ]
     },
     "execution_count": 4,
     "metadata": {},
     "output_type": "execute_result"
    }
   ],
   "source": [
    "df = pd.read_csv('Iris-cleaned.csv')\n",
    "df.head(3)"
   ]
  },
  {
   "cell_type": "code",
   "execution_count": 5,
   "metadata": {},
   "outputs": [],
   "source": [
    "features = df.drop(['species'],axis=1)\n",
    "features = (features - features.mean())/features.std()\n",
    "features['bias'] = 1\n",
    "target = pd.get_dummies(df['species'])\n",
    "X = features.values\n",
    "P = target.values"
   ]
  },
  {
   "cell_type": "code",
   "execution_count": 6,
   "metadata": {},
   "outputs": [
    {
     "name": "stdout",
     "output_type": "stream",
     "text": [
      "Stochastic loss 0.04226207508604257\n",
      "Stochastic acc 0.98\n"
     ]
    }
   ],
   "source": [
    "W = np.random.rand(X.shape[1],P.shape[1])\n",
    "(W,l,acc) = StochasticGradientDescent(X,P,W,0.1,500,verbose=0)\n",
    "print('Stochastic loss', l)\n",
    "print('Stochastic acc', acc)"
   ]
  },
  {
   "cell_type": "code",
   "execution_count": 7,
   "metadata": {},
   "outputs": [],
   "source": [
    "model = Sequential()\n",
    "model.add(Dense(3,input_shape=(5,),use_bias=False))\n",
    "model.add(Activation('softmax'))\n",
    "model.compile(loss='categorical_crossentropy',optimizer='Adam',metrics=['accuracy'])\n",
    "hist = model.fit(X,P,epochs=500,verbose=0)"
   ]
  },
  {
   "cell_type": "code",
   "execution_count": 8,
   "metadata": {},
   "outputs": [
    {
     "name": "stdout",
     "output_type": "stream",
     "text": [
      "Keras loss 0.21672653218110402\n",
      "Keras acc 0.9399999976158142\n"
     ]
    }
   ],
   "source": [
    "print('Keras loss',hist.history['loss'][-1])\n",
    "print('Keras acc',hist.history['acc'][-1])"
   ]
  }
 ],
 "metadata": {
  "kernelspec": {
   "display_name": "Python 3",
   "language": "python",
   "name": "python3"
  },
  "language_info": {
   "codemirror_mode": {
    "name": "ipython",
    "version": 3
   },
   "file_extension": ".py",
   "mimetype": "text/x-python",
   "name": "python",
   "nbconvert_exporter": "python",
   "pygments_lexer": "ipython3",
   "version": "3.6.5"
  }
 },
 "nbformat": 4,
 "nbformat_minor": 2
}
