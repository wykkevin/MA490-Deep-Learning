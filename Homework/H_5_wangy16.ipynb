{
 "cells": [
  {
   "cell_type": "markdown",
   "metadata": {},
   "source": [
    "# Question 3"
   ]
  },
  {
   "cell_type": "code",
   "execution_count": 1,
   "metadata": {},
   "outputs": [],
   "source": [
    "import numpy as np\n",
    "import pandas as pd\n",
    "import matplotlib.pyplot as plt\n",
    "%matplotlib inline"
   ]
  },
  {
   "cell_type": "code",
   "execution_count": 2,
   "metadata": {},
   "outputs": [
    {
     "data": {
      "text/html": [
       "<div>\n",
       "<style scoped>\n",
       "    .dataframe tbody tr th:only-of-type {\n",
       "        vertical-align: middle;\n",
       "    }\n",
       "\n",
       "    .dataframe tbody tr th {\n",
       "        vertical-align: top;\n",
       "    }\n",
       "\n",
       "    .dataframe thead th {\n",
       "        text-align: right;\n",
       "    }\n",
       "</style>\n",
       "<table border=\"1\" class=\"dataframe\">\n",
       "  <thead>\n",
       "    <tr style=\"text-align: right;\">\n",
       "      <th></th>\n",
       "      <th>fixed acidity</th>\n",
       "      <th>volatile acidity</th>\n",
       "      <th>citric acid</th>\n",
       "      <th>residual sugar</th>\n",
       "      <th>chlorides</th>\n",
       "      <th>free sulfur dioxide</th>\n",
       "      <th>total sulfur dioxide</th>\n",
       "      <th>density</th>\n",
       "      <th>pH</th>\n",
       "      <th>sulphates</th>\n",
       "      <th>alcohol</th>\n",
       "      <th>quality</th>\n",
       "    </tr>\n",
       "  </thead>\n",
       "  <tbody>\n",
       "    <tr>\n",
       "      <th>0</th>\n",
       "      <td>7.0</td>\n",
       "      <td>0.27</td>\n",
       "      <td>0.36</td>\n",
       "      <td>20.7</td>\n",
       "      <td>0.045</td>\n",
       "      <td>45.0</td>\n",
       "      <td>170.0</td>\n",
       "      <td>1.0010</td>\n",
       "      <td>3.00</td>\n",
       "      <td>0.45</td>\n",
       "      <td>8.8</td>\n",
       "      <td>6</td>\n",
       "    </tr>\n",
       "    <tr>\n",
       "      <th>1</th>\n",
       "      <td>6.3</td>\n",
       "      <td>0.30</td>\n",
       "      <td>0.34</td>\n",
       "      <td>1.6</td>\n",
       "      <td>0.049</td>\n",
       "      <td>14.0</td>\n",
       "      <td>132.0</td>\n",
       "      <td>0.9940</td>\n",
       "      <td>3.30</td>\n",
       "      <td>0.49</td>\n",
       "      <td>9.5</td>\n",
       "      <td>6</td>\n",
       "    </tr>\n",
       "    <tr>\n",
       "      <th>2</th>\n",
       "      <td>8.1</td>\n",
       "      <td>0.28</td>\n",
       "      <td>0.40</td>\n",
       "      <td>6.9</td>\n",
       "      <td>0.050</td>\n",
       "      <td>30.0</td>\n",
       "      <td>97.0</td>\n",
       "      <td>0.9951</td>\n",
       "      <td>3.26</td>\n",
       "      <td>0.44</td>\n",
       "      <td>10.1</td>\n",
       "      <td>6</td>\n",
       "    </tr>\n",
       "    <tr>\n",
       "      <th>3</th>\n",
       "      <td>7.2</td>\n",
       "      <td>0.23</td>\n",
       "      <td>0.32</td>\n",
       "      <td>8.5</td>\n",
       "      <td>0.058</td>\n",
       "      <td>47.0</td>\n",
       "      <td>186.0</td>\n",
       "      <td>0.9956</td>\n",
       "      <td>3.19</td>\n",
       "      <td>0.40</td>\n",
       "      <td>9.9</td>\n",
       "      <td>6</td>\n",
       "    </tr>\n",
       "    <tr>\n",
       "      <th>4</th>\n",
       "      <td>7.2</td>\n",
       "      <td>0.23</td>\n",
       "      <td>0.32</td>\n",
       "      <td>8.5</td>\n",
       "      <td>0.058</td>\n",
       "      <td>47.0</td>\n",
       "      <td>186.0</td>\n",
       "      <td>0.9956</td>\n",
       "      <td>3.19</td>\n",
       "      <td>0.40</td>\n",
       "      <td>9.9</td>\n",
       "      <td>6</td>\n",
       "    </tr>\n",
       "  </tbody>\n",
       "</table>\n",
       "</div>"
      ],
      "text/plain": [
       "   fixed acidity  volatile acidity  citric acid  residual sugar  chlorides  \\\n",
       "0            7.0              0.27         0.36            20.7      0.045   \n",
       "1            6.3              0.30         0.34             1.6      0.049   \n",
       "2            8.1              0.28         0.40             6.9      0.050   \n",
       "3            7.2              0.23         0.32             8.5      0.058   \n",
       "4            7.2              0.23         0.32             8.5      0.058   \n",
       "\n",
       "   free sulfur dioxide  total sulfur dioxide  density    pH  sulphates  \\\n",
       "0                 45.0                 170.0   1.0010  3.00       0.45   \n",
       "1                 14.0                 132.0   0.9940  3.30       0.49   \n",
       "2                 30.0                  97.0   0.9951  3.26       0.44   \n",
       "3                 47.0                 186.0   0.9956  3.19       0.40   \n",
       "4                 47.0                 186.0   0.9956  3.19       0.40   \n",
       "\n",
       "   alcohol  quality  \n",
       "0      8.8        6  \n",
       "1      9.5        6  \n",
       "2     10.1        6  \n",
       "3      9.9        6  \n",
       "4      9.9        6  "
      ]
     },
     "execution_count": 2,
     "metadata": {},
     "output_type": "execute_result"
    }
   ],
   "source": [
    "# a\n",
    "df = pd.read_csv(\"wine_quality_white.csv\",sep=\";\")\n",
    "df.head(5)"
   ]
  },
  {
   "cell_type": "code",
   "execution_count": 3,
   "metadata": {},
   "outputs": [],
   "source": [
    "features = df.drop(\"quality\",axis=1)\n",
    "target = df['quality']"
   ]
  },
  {
   "cell_type": "code",
   "execution_count": 4,
   "metadata": {},
   "outputs": [
    {
     "data": {
      "text/html": [
       "<div>\n",
       "<style scoped>\n",
       "    .dataframe tbody tr th:only-of-type {\n",
       "        vertical-align: middle;\n",
       "    }\n",
       "\n",
       "    .dataframe tbody tr th {\n",
       "        vertical-align: top;\n",
       "    }\n",
       "\n",
       "    .dataframe thead th {\n",
       "        text-align: right;\n",
       "    }\n",
       "</style>\n",
       "<table border=\"1\" class=\"dataframe\">\n",
       "  <thead>\n",
       "    <tr style=\"text-align: right;\">\n",
       "      <th></th>\n",
       "      <th>fixed acidity</th>\n",
       "      <th>volatile acidity</th>\n",
       "      <th>citric acid</th>\n",
       "      <th>residual sugar</th>\n",
       "      <th>chlorides</th>\n",
       "      <th>free sulfur dioxide</th>\n",
       "      <th>total sulfur dioxide</th>\n",
       "      <th>density</th>\n",
       "      <th>pH</th>\n",
       "      <th>sulphates</th>\n",
       "      <th>alcohol</th>\n",
       "    </tr>\n",
       "  </thead>\n",
       "  <tbody>\n",
       "    <tr>\n",
       "      <th>0</th>\n",
       "      <td>0.172079</td>\n",
       "      <td>-0.081762</td>\n",
       "      <td>0.213258</td>\n",
       "      <td>2.821061</td>\n",
       "      <td>-0.035351</td>\n",
       "      <td>0.569873</td>\n",
       "      <td>0.744489</td>\n",
       "      <td>2.331274</td>\n",
       "      <td>-1.246794</td>\n",
       "      <td>-0.349149</td>\n",
       "      <td>-1.393010</td>\n",
       "    </tr>\n",
       "    <tr>\n",
       "      <th>1</th>\n",
       "      <td>-0.657434</td>\n",
       "      <td>0.215874</td>\n",
       "      <td>0.047996</td>\n",
       "      <td>-0.944669</td>\n",
       "      <td>0.147732</td>\n",
       "      <td>-1.252891</td>\n",
       "      <td>-0.149669</td>\n",
       "      <td>-0.009153</td>\n",
       "      <td>0.739953</td>\n",
       "      <td>0.001342</td>\n",
       "      <td>-0.824192</td>\n",
       "    </tr>\n",
       "    <tr>\n",
       "      <th>2</th>\n",
       "      <td>1.475600</td>\n",
       "      <td>0.017450</td>\n",
       "      <td>0.543783</td>\n",
       "      <td>0.100272</td>\n",
       "      <td>0.193503</td>\n",
       "      <td>-0.312109</td>\n",
       "      <td>-0.973236</td>\n",
       "      <td>0.358628</td>\n",
       "      <td>0.475053</td>\n",
       "      <td>-0.436771</td>\n",
       "      <td>-0.336633</td>\n",
       "    </tr>\n",
       "    <tr>\n",
       "      <th>3</th>\n",
       "      <td>0.409083</td>\n",
       "      <td>-0.478608</td>\n",
       "      <td>-0.117266</td>\n",
       "      <td>0.415726</td>\n",
       "      <td>0.559670</td>\n",
       "      <td>0.687471</td>\n",
       "      <td>1.120977</td>\n",
       "      <td>0.525802</td>\n",
       "      <td>0.011479</td>\n",
       "      <td>-0.787262</td>\n",
       "      <td>-0.499152</td>\n",
       "    </tr>\n",
       "    <tr>\n",
       "      <th>4</th>\n",
       "      <td>0.409083</td>\n",
       "      <td>-0.478608</td>\n",
       "      <td>-0.117266</td>\n",
       "      <td>0.415726</td>\n",
       "      <td>0.559670</td>\n",
       "      <td>0.687471</td>\n",
       "      <td>1.120977</td>\n",
       "      <td>0.525802</td>\n",
       "      <td>0.011479</td>\n",
       "      <td>-0.787262</td>\n",
       "      <td>-0.499152</td>\n",
       "    </tr>\n",
       "  </tbody>\n",
       "</table>\n",
       "</div>"
      ],
      "text/plain": [
       "   fixed acidity  volatile acidity  citric acid  residual sugar  chlorides  \\\n",
       "0       0.172079         -0.081762     0.213258        2.821061  -0.035351   \n",
       "1      -0.657434          0.215874     0.047996       -0.944669   0.147732   \n",
       "2       1.475600          0.017450     0.543783        0.100272   0.193503   \n",
       "3       0.409083         -0.478608    -0.117266        0.415726   0.559670   \n",
       "4       0.409083         -0.478608    -0.117266        0.415726   0.559670   \n",
       "\n",
       "   free sulfur dioxide  total sulfur dioxide   density        pH  sulphates  \\\n",
       "0             0.569873              0.744489  2.331274 -1.246794  -0.349149   \n",
       "1            -1.252891             -0.149669 -0.009153  0.739953   0.001342   \n",
       "2            -0.312109             -0.973236  0.358628  0.475053  -0.436771   \n",
       "3             0.687471              1.120977  0.525802  0.011479  -0.787262   \n",
       "4             0.687471              1.120977  0.525802  0.011479  -0.787262   \n",
       "\n",
       "    alcohol  \n",
       "0 -1.393010  \n",
       "1 -0.824192  \n",
       "2 -0.336633  \n",
       "3 -0.499152  \n",
       "4 -0.499152  "
      ]
     },
     "execution_count": 4,
     "metadata": {},
     "output_type": "execute_result"
    }
   ],
   "source": [
    "mu = features.mean()\n",
    "sd = features.std()\n",
    "features_s = (features - mu)/sd\n",
    "features_s.head(5)"
   ]
  },
  {
   "cell_type": "code",
   "execution_count": 5,
   "metadata": {},
   "outputs": [],
   "source": [
    "features_s['bias']=1\n",
    "X = features_s.values\n",
    "y = target.values"
   ]
  },
  {
   "cell_type": "code",
   "execution_count": 6,
   "metadata": {},
   "outputs": [],
   "source": [
    "def MSE(X,w,y):\n",
    "    yh = np.matmul(X,w)\n",
    "    return ((yh-y)**2).mean()\n",
    "def gradient_MSE(X,w,y):\n",
    "    n = len(y)\n",
    "    return (2/n)*np.matmul(X.T,np.matmul(X,w)-y)\n",
    "def gradient_descent(h,X,w,y,max_k):\n",
    "    f = MSE(X,w,y)\n",
    "    k = 0\n",
    "    mse = f\n",
    "    while (mse <= f) and (k <= max_k):\n",
    "        f = mse\n",
    "        wopt = w\n",
    "        w = w - h*gradient_MSE(X,w,y)\n",
    "        mse = MSE(X,w,y)\n",
    "        k = k + 1\n",
    "    return (wopt,f)"
   ]
  },
  {
   "cell_type": "code",
   "execution_count": 7,
   "metadata": {},
   "outputs": [
    {
     "data": {
      "text/plain": [
       "(4898, 12)"
      ]
     },
     "execution_count": 7,
     "metadata": {},
     "output_type": "execute_result"
    }
   ],
   "source": [
    "X.shape"
   ]
  },
  {
   "cell_type": "code",
   "execution_count": 8,
   "metadata": {},
   "outputs": [
    {
     "data": {
      "text/plain": [
       "(4898,)"
      ]
     },
     "execution_count": 8,
     "metadata": {},
     "output_type": "execute_result"
    }
   ],
   "source": [
    "y.shape"
   ]
  },
  {
   "cell_type": "code",
   "execution_count": 9,
   "metadata": {},
   "outputs": [
    {
     "name": "stdout",
     "output_type": "stream",
     "text": [
      "min MSE = 0.5675341333849714\n"
     ]
    }
   ],
   "source": [
    "w = np.ones(12)\n",
    "h = 0.1\n",
    "max_k = 100\n",
    "(wopt,mse_min) = gradient_descent(h,X,w,y,max_k)\n",
    "print('min MSE =',mse_min)"
   ]
  },
  {
   "cell_type": "code",
   "execution_count": 10,
   "metadata": {},
   "outputs": [
    {
     "name": "stdout",
     "output_type": "stream",
     "text": [
      "min MSE = 42354.69255772184\n"
     ]
    }
   ],
   "source": [
    "# b\n",
    "df = pd.read_csv(\"wine_quality_white.csv\",sep=\";\")\n",
    "features = df.drop(\"quality\",axis=1)\n",
    "target = df['quality']\n",
    "features['bias']=1\n",
    "X = features.values\n",
    "y = target.values\n",
    "w = np.ones(12)\n",
    "h = 0.1\n",
    "max_k = 1000\n",
    "(wopt,mse_min) = gradient_descent(h,X,w,y,max_k)\n",
    "print('min MSE =',mse_min)"
   ]
  },
  {
   "cell_type": "code",
   "execution_count": 11,
   "metadata": {},
   "outputs": [
    {
     "name": "stdout",
     "output_type": "stream",
     "text": [
      "min MSE = 0.5631540629886571\n"
     ]
    }
   ],
   "source": [
    "# c\n",
    "A = np.matmul(X.T, X)\n",
    "b = np.matmul(X.T, y)\n",
    "wopt = np.linalg.solve(A,b)\n",
    "mse_min = MSE(X,wopt,y)\n",
    "print('min MSE =',mse_min)"
   ]
  },
  {
   "cell_type": "code",
   "execution_count": 12,
   "metadata": {},
   "outputs": [],
   "source": [
    "# d\n",
    "# Both a and c are accurate. b is not accurate. c runs faster."
   ]
  },
  {
   "cell_type": "markdown",
   "metadata": {},
   "source": [
    "# Question 4"
   ]
  },
  {
   "cell_type": "code",
   "execution_count": 13,
   "metadata": {},
   "outputs": [],
   "source": [
    "# For a\n",
    "df = pd.read_csv(\"wine_quality_white.csv\",sep=\";\",nrows=100)\n",
    "# For b\n",
    "# df = pd.read_csv(\"wine_quality_white.csv\",sep=\";\")\n",
    "\n",
    "df_train = df.sample(frac = 0.8, random_state = 0)\n",
    "df_test = df.drop(df_train.index)\n",
    "\n",
    "features_train = df_train.drop(\"quality\",axis=1)\n",
    "features_test = df_test.drop(\"quality\",axis=1)\n",
    "target_train = df_train['quality']\n",
    "target_test = df_test['quality']\n",
    "mu = features_train.mean()\n",
    "sd = features_train.std()\n",
    "features_train_s = (features_train - mu)/sd\n",
    "features_test_s = (features_test - mu)/sd\n",
    "features_train_s['bias']=1\n",
    "features_test_s['bias']=1\n",
    "X_train = features_train_s.values\n",
    "y_train = target_train.values\n",
    "X_test  = features_test_s.values\n",
    "y_test  = target_test.values"
   ]
  },
  {
   "cell_type": "code",
   "execution_count": 14,
   "metadata": {},
   "outputs": [],
   "source": [
    "def RMSE(yh,y):\n",
    "    return np.sqrt(((yh-y)**2).mean())"
   ]
  },
  {
   "cell_type": "code",
   "execution_count": 15,
   "metadata": {},
   "outputs": [
    {
     "name": "stdout",
     "output_type": "stream",
     "text": [
      "training RMSE= 0.5765896332816006\n",
      "testing RMSE =  0.8595996180880167\n"
     ]
    }
   ],
   "source": [
    "error = pd.DataFrame(np.zeros((101,3)),columns=['alpha','train RMSE','test RMSE'])\n",
    "A = np.matmul(X_train.T, X_train)\n",
    "b = np.matmul(X_train.T, y_train)\n",
    "wopt = np.linalg.solve(A,b)\n",
    "yh_train = np.matmul(X_train,wopt)\n",
    "print(\"training RMSE=\",RMSE(yh_train,y_train))\n",
    "yh_test = np.matmul(X_test, wopt)\n",
    "print('testing RMSE = ',RMSE(yh_test, y_test))"
   ]
  },
  {
   "cell_type": "code",
   "execution_count": 16,
   "metadata": {},
   "outputs": [],
   "source": [
    "I = np.eye(12)\n",
    "alpha = np.linspace(0,10,101)\n",
    "k = 0\n",
    "for a in alpha:\n",
    "    wopt = np.linalg.solve((A+a*I),b)\n",
    "    yh_train = np.matmul(X_train,wopt)\n",
    "    yh_test  = np.matmul(X_test,wopt)\n",
    "    error.iloc[k,0] = a\n",
    "    error.iloc[k,1] = RMSE(yh_train,y_train)\n",
    "    error.iloc[k,2]  = RMSE(yh_test,y_test)\n",
    "    k = k + 1"
   ]
  },
  {
   "cell_type": "code",
   "execution_count": 17,
   "metadata": {},
   "outputs": [
    {
     "data": {
      "text/plain": [
       "alpha         5.700000\n",
       "train RMSE    0.704282\n",
       "test RMSE     0.758067\n",
       "Name: 57, dtype: float64"
      ]
     },
     "execution_count": 17,
     "metadata": {},
     "output_type": "execute_result"
    }
   ],
   "source": [
    "ix = error['test RMSE'].idxmin()\n",
    "error.iloc[ix,:]"
   ]
  },
  {
   "cell_type": "code",
   "execution_count": 18,
   "metadata": {},
   "outputs": [],
   "source": [
    "# When there are 100 rows of data, alpha = 5.700000, train RMSE = 0.704282, test RMSE = 0.758067\n",
    "# When there are all the data, alpha = 0.000000, train RMSE = 0.755418, test RMSE = 0.731218\n",
    "# With more data, training RMSE increase and testing RMSE decrease.\n",
    "# As amount of data increases, less regularization is needed."
   ]
  }
 ],
 "metadata": {
  "kernelspec": {
   "display_name": "Python 3",
   "language": "python",
   "name": "python3"
  },
  "language_info": {
   "codemirror_mode": {
    "name": "ipython",
    "version": 3
   },
   "file_extension": ".py",
   "mimetype": "text/x-python",
   "name": "python",
   "nbconvert_exporter": "python",
   "pygments_lexer": "ipython3",
   "version": "3.6.5"
  }
 },
 "nbformat": 4,
 "nbformat_minor": 2
}
