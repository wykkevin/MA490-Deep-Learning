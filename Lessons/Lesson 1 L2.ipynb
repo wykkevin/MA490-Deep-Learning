{
 "cells": [
  {
   "cell_type": "code",
   "execution_count": 1,
   "metadata": {},
   "outputs": [],
   "source": [
    "import numpy as np\n",
    "import matplotlib.pyplot as plt"
   ]
  },
  {
   "cell_type": "code",
   "execution_count": 2,
   "metadata": {},
   "outputs": [],
   "source": [
    "# output (targets)\n",
    "y = np.array([128,123,129,143,132,142,112,118,108,119])"
   ]
  },
  {
   "cell_type": "code",
   "execution_count": 3,
   "metadata": {},
   "outputs": [],
   "source": [
    "# define L2 loss function\n",
    "def L2(b,y):\n",
    "    n = len(y)\n",
    "    return (1/n)*(np.abs(y-b)**2).sum()"
   ]
  },
  {
   "cell_type": "code",
   "execution_count": 4,
   "metadata": {},
   "outputs": [
    {
     "data": {
      "text/plain": [
       "123.24000000000001"
      ]
     },
     "execution_count": 4,
     "metadata": {},
     "output_type": "execute_result"
    }
   ],
   "source": [
    "L2(y.mean(),y)"
   ]
  },
  {
   "cell_type": "code",
   "execution_count": 5,
   "metadata": {},
   "outputs": [],
   "source": [
    "L2_loss = np.zeros(100)\n",
    "B = np.linspace(y.min(),y.max(),100)\n",
    "for k in range(100):\n",
    "    L2_loss[k] = L2(B[k],y)"
   ]
  },
  {
   "cell_type": "code",
   "execution_count": 6,
   "metadata": {},
   "outputs": [
    {
     "data": {
      "image/png": "[encoded data removed]",
      "text/plain": [
       "<Figure size 432x288 with 1 Axes>"
      ]
     },
     "metadata": {},
     "output_type": "display_data"
    }
   ],
   "source": [
    "plt.plot(B,L2_loss)\n",
    "plt.show()"
   ]
  },
  {
   "cell_type": "code",
   "execution_count": 8,
   "metadata": {},
   "outputs": [
    {
     "data": {
      "text/plain": [
       "array([426.        , 413.82195694, 401.89388838, 390.21579431,\n",
       "       378.78767473, 367.60952964, 356.68135904, 346.00316294,\n",
       "       335.57494133, 325.39669421, 315.46842159, 305.79012346,\n",
       "       296.36179982, 287.18345067, 278.25507601, 269.57667585,\n",
       "       261.14825018, 252.969799  , 245.04132231, 237.36282012,\n",
       "       229.93429242, 222.75573921, 215.82716049, 209.14855627,\n",
       "       202.71992654, 196.5412713 , 190.61259055, 184.9338843 ,\n",
       "       179.50515254, 174.32639527, 169.39761249, 164.7188042 ,\n",
       "       160.28997041, 156.11111111, 152.1822263 , 148.50331599,\n",
       "       145.07438017, 141.89541883, 138.966432  , 136.28741965,\n",
       "       133.8583818 , 131.67931844, 129.75022957, 128.07111519,\n",
       "       126.64197531, 125.46280992, 124.53361902, 123.85440261,\n",
       "       123.4251607 , 123.24589328, 123.31660035, 123.63728191,\n",
       "       124.20793797, 125.02856851, 126.09917355, 127.41975309,\n",
       "       128.99030711, 130.81083563, 132.88133864, 135.20181614,\n",
       "       137.77226814, 140.59269462, 143.6630956 , 146.98347107,\n",
       "       150.55382104, 154.3741455 , 158.44444444, 162.76471789,\n",
       "       167.33496582, 172.15518825, 177.22538516, 182.54555658,\n",
       "       188.11570248, 193.93582288, 200.00591776, 206.32598714,\n",
       "       212.89603102, 219.71604938, 226.78604224, 234.10600959,\n",
       "       241.67595143, 249.49586777, 257.5657586 , 265.88562392,\n",
       "       274.45546373, 283.27527803, 292.34506683, 301.66483012,\n",
       "       311.2345679 , 321.05428018, 331.12396694, 341.4436282 ,\n",
       "       352.01326395, 362.8328742 , 373.90245893, 385.22201816,\n",
       "       396.79155188, 408.6110601 , 420.6805428 , 433.        ])"
      ]
     },
     "execution_count": 8,
     "metadata": {},
     "output_type": "execute_result"
    }
   ],
   "source": [
    "L2_loss"
   ]
  },
  {
   "cell_type": "code",
   "execution_count": 10,
   "metadata": {},
   "outputs": [
    {
     "data": {
      "text/plain": [
       "125.32323232323232"
      ]
     },
     "execution_count": 10,
     "metadata": {},
     "output_type": "execute_result"
    }
   ],
   "source": [
    "B[L2_loss.argmin()]"
   ]
  },
  {
   "cell_type": "code",
   "execution_count": null,
   "metadata": {},
   "outputs": [],
   "source": []
  }
 ],
 "metadata": {
  "kernelspec": {
   "display_name": "Python 3",
   "language": "python",
   "name": "python3"
  },
  "language_info": {
   "codemirror_mode": {
    "name": "ipython",
    "version": 3
   },
   "file_extension": ".py",
   "mimetype": "text/x-python",
   "name": "python",
   "nbconvert_exporter": "python",
   "pygments_lexer": "ipython3",
   "version": "3.6.5"
  }
 },
 "nbformat": 4,
 "nbformat_minor": 2
}
