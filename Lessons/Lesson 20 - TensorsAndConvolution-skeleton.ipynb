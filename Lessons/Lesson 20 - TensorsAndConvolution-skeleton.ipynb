{
 "cells": [
  {
   "cell_type": "markdown",
   "metadata": {},
   "source": [
    "# Lesson  (Tensors and Convolution)"
   ]
  },
  {
   "cell_type": "markdown",
   "metadata": {},
   "source": [
    "http://cs231n.github.io/convolutional-networks/"
   ]
  },
  {
   "cell_type": "code",
   "execution_count": 1,
   "metadata": {},
   "outputs": [],
   "source": [
    "import numpy as np\n",
    "\n",
    "X = np.zeros((7,7,3))\n",
    "\n",
    "W = np.zeros((2,3,3,3))\n",
    "\n",
    "X[:,:,0] = np.array([\n",
    "        [0,0,0,0,0,0,0],\n",
    "        [0,0,0,1,1,0,0],\n",
    "        [0,0,2,0,1,1,0],\n",
    "        [0,0,0,2,1,1,0],\n",
    "        [0,2,1,0,0,1,0],\n",
    "        [0,1,1,2,1,0,0],\n",
    "        [0,0,0,0,0,0,0]\n",
    "    ])\n",
    "X[:,:,1] = np.array([\n",
    "        [0,0,0,0,0,0,0],\n",
    "        [0,2,2,0,1,2,0],\n",
    "        [0,0,0,2,2,1,0],\n",
    "        [0,1,2,0,2,0,0],\n",
    "        [0,0,2,0,0,2,0],\n",
    "        [0,2,1,0,2,1,0],\n",
    "        [0,0,0,0,0,0,0]\n",
    "    ])\n",
    "X[:,:,2] = np.array([\n",
    "        [0,0,0,0,0,0,0],\n",
    "        [0,0,1,0,2,1,0],\n",
    "        [0,2,1,1,2,0,0],\n",
    "        [0,0,2,1,1,0,0],\n",
    "        [0,0,2,2,0,0,0],\n",
    "        [0,2,0,0,2,0,0],\n",
    "        [0,0,0,0,0,0,0]\n",
    "    ])\n",
    "W[0,:,:,0] = np.array([\n",
    "        [1,1,0],\n",
    "        [0,-1,-1],\n",
    "        [0,1,-1],\n",
    "    ])\n",
    "W[0,:,:,1] = np.array([\n",
    "        [1,0,0],\n",
    "        [0,0,-1],\n",
    "        [-1,1,0],\n",
    "    ])\n",
    "W[0,:,:,2] = np.array([\n",
    "        [0,-1,0],\n",
    "        [-1,1,1],\n",
    "        [1,1,0],\n",
    "    ])\n",
    "W[1,:,:,0] = np.array([\n",
    "        [-1,-1,0],\n",
    "        [1,0,0],\n",
    "        [-1,1,1],\n",
    "    ])\n",
    "W[1,:,:,1] = np.array([\n",
    "        [0,-1,0],\n",
    "        [1,-1,0],\n",
    "        [-1,0,1],\n",
    "    ])\n",
    "W[1,:,:,2] = np.array([\n",
    "        [0,-1,1],\n",
    "        [-1,1,1],\n",
    "        [1,0,0],\n",
    "    ])\n",
    "b = np.array([1,0])"
   ]
  },
  {
   "cell_type": "code",
   "execution_count": 2,
   "metadata": {},
   "outputs": [
    {
     "name": "stdout",
     "output_type": "stream",
     "text": [
      "[[0. 0. 0.]\n",
      " [0. 0. 0.]\n",
      " [0. 0. 0.]]\n",
      "\n",
      "[[0. 0. 0.]\n",
      " [0. 0. 0.]\n",
      " [0. 0. 0.]]\n",
      "\n"
     ]
    }
   ],
   "source": [
    "Y = np.zeros((3,3,2))\n",
    "\n",
    "# < code removed >\n",
    "\n",
    "for l in range(2):\n",
    "    print(Y[:,:,l])\n",
    "    print()"
   ]
  },
  {
   "cell_type": "code",
   "execution_count": 4,
   "metadata": {},
   "outputs": [
    {
     "ename": "ValueError",
     "evalue": "operands could not be broadcast together with remapped shapes [original->remapped]: (2,2,3)->(2,2,newaxis,3) (3,3,3)->(3,newaxis,3,3) ",
     "output_type": "error",
     "traceback": [
      "\u001b[1;31m---------------------------------------------------------------------------\u001b[0m",
      "\u001b[1;31mValueError\u001b[0m                                Traceback (most recent call last)",
      "\u001b[1;32m<ipython-input-4-1e9e13ae0378>\u001b[0m in \u001b[0;36m<module>\u001b[1;34m()\u001b[0m\n\u001b[0;32m      2\u001b[0m     \u001b[1;32mfor\u001b[0m \u001b[0mj\u001b[0m \u001b[1;32min\u001b[0m \u001b[0mrange\u001b[0m\u001b[1;33m(\u001b[0m\u001b[1;36m2\u001b[0m\u001b[1;33m)\u001b[0m\u001b[1;33m:\u001b[0m\u001b[1;33m\u001b[0m\u001b[0m\n\u001b[0;32m      3\u001b[0m         \u001b[1;32mfor\u001b[0m \u001b[0mk\u001b[0m \u001b[1;32min\u001b[0m \u001b[0mrange\u001b[0m\u001b[1;33m(\u001b[0m\u001b[1;36m1\u001b[0m\u001b[1;33m)\u001b[0m\u001b[1;33m:\u001b[0m\u001b[1;33m\u001b[0m\u001b[0m\n\u001b[1;32m----> 4\u001b[1;33m             \u001b[0mtemp\u001b[0m \u001b[1;33m=\u001b[0m \u001b[0mnp\u001b[0m\u001b[1;33m.\u001b[0m\u001b[0mmatmul\u001b[0m\u001b[1;33m(\u001b[0m\u001b[0mX\u001b[0m\u001b[1;33m[\u001b[0m\u001b[0mi\u001b[0m\u001b[1;33m*\u001b[0m\u001b[1;36m2\u001b[0m\u001b[1;33m:\u001b[0m\u001b[1;33m(\u001b[0m\u001b[0mi\u001b[0m\u001b[1;33m+\u001b[0m\u001b[1;36m1\u001b[0m\u001b[1;33m)\u001b[0m\u001b[1;33m*\u001b[0m\u001b[1;36m2\u001b[0m\u001b[1;33m,\u001b[0m\u001b[0mj\u001b[0m\u001b[1;33m*\u001b[0m\u001b[1;36m2\u001b[0m\u001b[1;33m:\u001b[0m\u001b[1;33m(\u001b[0m\u001b[0mj\u001b[0m\u001b[1;33m+\u001b[0m\u001b[1;36m1\u001b[0m\u001b[1;33m)\u001b[0m\u001b[1;33m*\u001b[0m\u001b[1;36m2\u001b[0m\u001b[1;33m,\u001b[0m\u001b[1;33m:\u001b[0m\u001b[1;33m]\u001b[0m\u001b[1;33m,\u001b[0m\u001b[0mW\u001b[0m\u001b[1;33m[\u001b[0m\u001b[0mk\u001b[0m\u001b[1;33m,\u001b[0m\u001b[1;33m:\u001b[0m\u001b[1;33m,\u001b[0m\u001b[1;33m:\u001b[0m\u001b[1;33m,\u001b[0m\u001b[1;33m:\u001b[0m\u001b[1;33m]\u001b[0m\u001b[1;33m)\u001b[0m\u001b[1;33m\u001b[0m\u001b[0m\n\u001b[0m\u001b[0;32m      5\u001b[0m             \u001b[0mY\u001b[0m\u001b[1;33m[\u001b[0m\u001b[0mi\u001b[0m\u001b[1;33m,\u001b[0m\u001b[0mj\u001b[0m\u001b[1;33m,\u001b[0m\u001b[0mk\u001b[0m\u001b[1;33m]\u001b[0m \u001b[1;33m=\u001b[0m \u001b[0mtemp\u001b[0m\u001b[1;33m\u001b[0m\u001b[0m\n",
      "\u001b[1;31mValueError\u001b[0m: operands could not be broadcast together with remapped shapes [original->remapped]: (2,2,3)->(2,2,newaxis,3) (3,3,3)->(3,newaxis,3,3) "
     ]
    }
   ],
   "source": [
    "for i in range(2):\n",
    "    for j in range(2):\n",
    "        for k in range(1):\n",
    "            temp = np.matmul(X[i*2:(i+1)*2,j*2:(j+1)*2,:],W[k,:,:,:])\n",
    "            Y[i,j,k] = temp"
   ]
  },
  {
   "cell_type": "code",
   "execution_count": null,
   "metadata": {},
   "outputs": [],
   "source": []
  }
 ],
 "metadata": {
  "anaconda-cloud": {},
  "kernelspec": {
   "display_name": "Python 3",
   "language": "python",
   "name": "python3"
  },
  "language_info": {
   "codemirror_mode": {
    "name": "ipython",
    "version": 3
   },
   "file_extension": ".py",
   "mimetype": "text/x-python",
   "name": "python",
   "nbconvert_exporter": "python",
   "pygments_lexer": "ipython3",
   "version": "3.6.5"
  }
 },
 "nbformat": 4,
 "nbformat_minor": 1
}
