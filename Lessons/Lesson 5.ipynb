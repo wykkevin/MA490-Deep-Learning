{
 "cells": [
  {
   "cell_type": "markdown",
   "metadata": {},
   "source": [
    "# Feature Engineering"
   ]
  },
  {
   "cell_type": "code",
   "execution_count": 1,
   "metadata": {},
   "outputs": [],
   "source": [
    "import numpy as np\n",
    "import pandas as pd"
   ]
  },
  {
   "cell_type": "code",
   "execution_count": 2,
   "metadata": {},
   "outputs": [],
   "source": [
    "x = np.array([67,67,72,69,69,70,67,67,66,68])\n",
    "y = np.array([128,123,129,143,132,142,112,118,108,119])"
   ]
  },
  {
   "cell_type": "code",
   "execution_count": 3,
   "metadata": {},
   "outputs": [
    {
     "data": {
      "text/html": [
       "<div>\n",
       "<style scoped>\n",
       "    .dataframe tbody tr th:only-of-type {\n",
       "        vertical-align: middle;\n",
       "    }\n",
       "\n",
       "    .dataframe tbody tr th {\n",
       "        vertical-align: top;\n",
       "    }\n",
       "\n",
       "    .dataframe thead th {\n",
       "        text-align: right;\n",
       "    }\n",
       "</style>\n",
       "<table border=\"1\" class=\"dataframe\">\n",
       "  <thead>\n",
       "    <tr style=\"text-align: right;\">\n",
       "      <th></th>\n",
       "      <th>height</th>\n",
       "      <th>height2</th>\n",
       "      <th>height3</th>\n",
       "      <th>weight</th>\n",
       "      <th>bias</th>\n",
       "    </tr>\n",
       "  </thead>\n",
       "  <tbody>\n",
       "    <tr>\n",
       "      <th>0</th>\n",
       "      <td>67</td>\n",
       "      <td>4489</td>\n",
       "      <td>300763</td>\n",
       "      <td>128</td>\n",
       "      <td>1</td>\n",
       "    </tr>\n",
       "    <tr>\n",
       "      <th>1</th>\n",
       "      <td>67</td>\n",
       "      <td>4489</td>\n",
       "      <td>300763</td>\n",
       "      <td>123</td>\n",
       "      <td>1</td>\n",
       "    </tr>\n",
       "    <tr>\n",
       "      <th>2</th>\n",
       "      <td>72</td>\n",
       "      <td>5184</td>\n",
       "      <td>373248</td>\n",
       "      <td>129</td>\n",
       "      <td>1</td>\n",
       "    </tr>\n",
       "  </tbody>\n",
       "</table>\n",
       "</div>"
      ],
      "text/plain": [
       "   height  height2  height3  weight  bias\n",
       "0      67     4489   300763     128     1\n",
       "1      67     4489   300763     123     1\n",
       "2      72     5184   373248     129     1"
      ]
     },
     "execution_count": 3,
     "metadata": {},
     "output_type": "execute_result"
    }
   ],
   "source": [
    "df_train = pd.DataFrame()\n",
    "df_train['height']=x\n",
    "df_train['height2']=x**2\n",
    "df_train['height3']=x**3\n",
    "df_train['weight']=y\n",
    "df_train['bias']=1\n",
    "df_train.head(3)"
   ]
  },
  {
   "cell_type": "code",
   "execution_count": 4,
   "metadata": {},
   "outputs": [],
   "source": [
    "df_test = pd.read_csv(\"height_weight.csv\")\n",
    "df_test['height2']=df_test.height**2\n",
    "df_test['height3']=df_test.height**3\n",
    "df_test['bias']=1"
   ]
  },
  {
   "cell_type": "code",
   "execution_count": 5,
   "metadata": {},
   "outputs": [],
   "source": [
    "X_train = df_train.drop('weight',axis=1).values\n",
    "X_test=df_test.drop('weight',axis=1).values\n",
    "y_train=df_train['weight'].values\n",
    "y_test=df_test['weight'].values"
   ]
  },
  {
   "cell_type": "code",
   "execution_count": 6,
   "metadata": {},
   "outputs": [],
   "source": [
    "A = np.matmul(X_train.T, X_train)\n",
    "b = np.matmul(X_train.T, y_train)\n",
    "wopt = np.linalg.solve(A,b)\n",
    "yh_train = np.matmul(X_train,wopt)\n",
    "yh_test = np.matmul(X_test,wopt)"
   ]
  },
  {
   "cell_type": "code",
   "execution_count": 7,
   "metadata": {},
   "outputs": [],
   "source": [
    "def RMSE(yh,y):\n",
    "    return np.sqrt(((yh-y)**2).mean())"
   ]
  },
  {
   "cell_type": "code",
   "execution_count": 8,
   "metadata": {},
   "outputs": [
    {
     "name": "stdout",
     "output_type": "stream",
     "text": [
      "3 training RMSE 5.509352656151069\n",
      "3 testing RMSE 13.014213492696403\n"
     ]
    }
   ],
   "source": [
    "print('3 training RMSE', RMSE(yh_train,y_train))\n",
    "print('3 testing RMSE', RMSE(yh_test,y_test))\n",
    "# Show there is over fitting"
   ]
  },
  {
   "cell_type": "code",
   "execution_count": 9,
   "metadata": {},
   "outputs": [
    {
     "name": "stdout",
     "output_type": "stream",
     "text": [
      "2 training RMSE 5.8784171605224715\n",
      "2 testing RMSE 17.145986850599748\n"
     ]
    }
   ],
   "source": [
    "temp_train = df_train.drop('weight',axis=1)\n",
    "temp_test = df_test.drop('weight',axis=1)\n",
    "temp_train = temp_train.drop('height3',axis=1)\n",
    "temp_test = temp_test.drop('height3',axis=1)\n",
    "X_train = temp_train.values\n",
    "X_test=temp_test.values\n",
    "A = np.matmul(X_train.T, X_train)\n",
    "b = np.matmul(X_train.T, y_train)\n",
    "wopt = np.linalg.solve(A,b)\n",
    "yh_train = np.matmul(X_train,wopt)\n",
    "yh_test = np.matmul(X_test,wopt)\n",
    "print('2 training RMSE', RMSE(yh_train,y_train))\n",
    "print('2 testing RMSE', RMSE(yh_test,y_test))"
   ]
  },
  {
   "cell_type": "code",
   "execution_count": 10,
   "metadata": {},
   "outputs": [
    {
     "name": "stdout",
     "output_type": "stream",
     "text": [
      "1 training RMSE 8.281206335937918\n",
      "1 testing RMSE 10.654276715545375\n"
     ]
    }
   ],
   "source": [
    "temp_train = temp_train.drop('height2',axis=1)\n",
    "temp_test = temp_test.drop('height2',axis=1)\n",
    "X_train = temp_train.values\n",
    "X_test=temp_test.values\n",
    "A = np.matmul(X_train.T, X_train)\n",
    "b = np.matmul(X_train.T, y_train)\n",
    "wopt = np.linalg.solve(A,b)\n",
    "yh_train = np.matmul(X_train,wopt)\n",
    "yh_test = np.matmul(X_test,wopt)\n",
    "print('1 training RMSE', RMSE(yh_train,y_train))\n",
    "print('1 testing RMSE', RMSE(yh_test,y_test))"
   ]
  },
  {
   "cell_type": "code",
   "execution_count": 11,
   "metadata": {},
   "outputs": [
    {
     "name": "stdout",
     "output_type": "stream",
     "text": [
      "0 training RMSE 11.101351269102334\n"
     ]
    }
   ],
   "source": [
    "print('0 training RMSE', y_train.std())"
   ]
  },
  {
   "cell_type": "code",
   "execution_count": 12,
   "metadata": {},
   "outputs": [
    {
     "name": "stdout",
     "output_type": "stream",
     "text": [
      "0 testing RMSE 11.660664343320782\n"
     ]
    }
   ],
   "source": [
    "print('0 testing RMSE', y_test.std())"
   ]
  },
  {
   "cell_type": "code",
   "execution_count": null,
   "metadata": {},
   "outputs": [],
   "source": []
  }
 ],
 "metadata": {
  "kernelspec": {
   "display_name": "Python 3",
   "language": "python",
   "name": "python3"
  },
  "language_info": {
   "codemirror_mode": {
    "name": "ipython",
    "version": 3
   },
   "file_extension": ".py",
   "mimetype": "text/x-python",
   "name": "python",
   "nbconvert_exporter": "python",
   "pygments_lexer": "ipython3",
   "version": "3.6.5"
  }
 },
 "nbformat": 4,
 "nbformat_minor": 2
}
