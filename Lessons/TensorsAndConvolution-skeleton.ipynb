{
 "cells": [
  {
   "cell_type": "markdown",
   "metadata": {},
   "source": [
    "# Lesson  (Tensors and Convolution)"
   ]
  },
  {
   "cell_type": "markdown",
   "metadata": {},
   "source": [
    "http://cs231n.github.io/convolutional-networks/"
   ]
  },
  {
   "cell_type": "code",
   "execution_count": 1,
   "metadata": {
    "collapsed": false
   },
   "outputs": [],
   "source": [
    "import numpy as np\n",
    "\n",
    "X = np.zeros((7,7,3))\n",
    "\n",
    "W = np.zeros((2,3,3,3))\n",
    "\n",
    "X[:,:,0] = np.array([\n",
    "        [0,0,0,0,0,0,0],\n",
    "        [0,0,0,1,1,0,0],\n",
    "        [0,0,2,0,1,1,0],\n",
    "        [0,0,0,2,1,1,0],\n",
    "        [0,2,1,0,0,1,0],\n",
    "        [0,1,1,2,1,0,0],\n",
    "        [0,0,0,0,0,0,0]\n",
    "    ])\n",
    "X[:,:,1] = np.array([\n",
    "        [0,0,0,0,0,0,0],\n",
    "        [0,2,2,0,1,2,0],\n",
    "        [0,0,0,2,2,1,0],\n",
    "        [0,1,2,0,2,0,0],\n",
    "        [0,0,2,0,0,2,0],\n",
    "        [0,2,1,0,2,1,0],\n",
    "        [0,0,0,0,0,0,0]\n",
    "    ])\n",
    "X[:,:,2] = np.array([\n",
    "        [0,0,0,0,0,0,0],\n",
    "        [0,0,1,0,2,1,0],\n",
    "        [0,2,1,1,2,0,0],\n",
    "        [0,0,2,1,1,0,0],\n",
    "        [0,0,2,2,0,0,0],\n",
    "        [0,2,0,0,2,0,0],\n",
    "        [0,0,0,0,0,0,0]\n",
    "    ])\n",
    "W[0,:,:,0] = np.array([\n",
    "        [1,1,0],\n",
    "        [0,-1,-1],\n",
    "        [0,1,-1],\n",
    "    ])\n",
    "W[0,:,:,1] = np.array([\n",
    "        [1,0,0],\n",
    "        [0,0,-1],\n",
    "        [-1,1,0],\n",
    "    ])\n",
    "W[0,:,:,2] = np.array([\n",
    "        [0,-1,0],\n",
    "        [-1,1,1],\n",
    "        [1,1,0],\n",
    "    ])\n",
    "W[1,:,:,0] = np.array([\n",
    "        [-1,-1,0],\n",
    "        [1,0,0],\n",
    "        [-1,1,1],\n",
    "    ])\n",
    "W[1,:,:,1] = np.array([\n",
    "        [0,-1,0],\n",
    "        [1,-1,0],\n",
    "        [-1,0,1],\n",
    "    ])\n",
    "W[1,:,:,2] = np.array([\n",
    "        [0,-1,1],\n",
    "        [-1,1,1],\n",
    "        [1,0,0],\n",
    "    ])\n",
    "b = np.array([1,0])"
   ]
  },
  {
   "cell_type": "code",
   "execution_count": 2,
   "metadata": {
    "collapsed": false
   },
   "outputs": [
    {
     "name": "stdout",
     "output_type": "stream",
     "text": [
      "[[ 0.  0.  0.]\n",
      " [ 0.  0.  0.]\n",
      " [ 0.  0.  0.]]\n",
      "\n",
      "[[ 0.  0.  0.]\n",
      " [ 0.  0.  0.]\n",
      " [ 0.  0.  0.]]\n",
      "\n"
     ]
    }
   ],
   "source": [
    "Y = np.zeros((3,3,2))\n",
    "\n",
    "# < code removed >\n",
    "\n",
    "for l in range(2):\n",
    "    print(Y[:,:,l])\n",
    "    print()"
   ]
  },
  {
   "cell_type": "code",
   "execution_count": null,
   "metadata": {
    "collapsed": true
   },
   "outputs": [],
   "source": []
  }
 ],
 "metadata": {
  "anaconda-cloud": {},
  "kernelspec": {
   "display_name": "Python [Root]",
   "language": "python",
   "name": "Python [Root]"
  },
  "language_info": {
   "codemirror_mode": {
    "name": "ipython",
    "version": 3
   },
   "file_extension": ".py",
   "mimetype": "text/x-python",
   "name": "python",
   "nbconvert_exporter": "python",
   "pygments_lexer": "ipython3",
   "version": "3.5.2"
  }
 },
 "nbformat": 4,
 "nbformat_minor": 0
}
