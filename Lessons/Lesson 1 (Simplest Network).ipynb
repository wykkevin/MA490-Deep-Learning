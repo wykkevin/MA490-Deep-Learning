{
 "cells": [
  {
   "cell_type": "code",
   "execution_count": 1,
   "metadata": {},
   "outputs": [],
   "source": [
    "import numpy as np\n",
    "import matplotlib.pyplot as plt"
   ]
  },
  {
   "cell_type": "code",
   "execution_count": 2,
   "metadata": {},
   "outputs": [],
   "source": [
    "# output (targets)\n",
    "y = np.array([128,123,129,143,132,142,112,118,108,119])"
   ]
  },
  {
   "cell_type": "code",
   "execution_count": 3,
   "metadata": {},
   "outputs": [
    {
     "data": {
      "text/plain": [
       "array([128, 123, 129, 143, 132, 142, 112, 118, 108, 119])"
      ]
     },
     "execution_count": 3,
     "metadata": {},
     "output_type": "execute_result"
    }
   ],
   "source": [
    "y"
   ]
  },
  {
   "cell_type": "code",
   "execution_count": 4,
   "metadata": {},
   "outputs": [],
   "source": [
    "# define L1 loss function\n",
    "def L1(b,y):\n",
    "    n = len(y)\n",
    "    return (1/n)*np.abs(y-b).sum()"
   ]
  },
  {
   "cell_type": "code",
   "execution_count": 5,
   "metadata": {},
   "outputs": [
    {
     "data": {
      "text/plain": [
       "115.4"
      ]
     },
     "execution_count": 5,
     "metadata": {},
     "output_type": "execute_result"
    }
   ],
   "source": [
    "L1(10,y)"
   ]
  },
  {
   "cell_type": "code",
   "execution_count": 6,
   "metadata": {},
   "outputs": [
    {
     "data": {
      "text/plain": [
       "25.400000000000002"
      ]
     },
     "execution_count": 6,
     "metadata": {},
     "output_type": "execute_result"
    }
   ],
   "source": [
    "L1(100,y)"
   ]
  },
  {
   "cell_type": "code",
   "execution_count": 7,
   "metadata": {},
   "outputs": [
    {
     "data": {
      "text/plain": [
       "9.4"
      ]
     },
     "execution_count": 7,
     "metadata": {},
     "output_type": "execute_result"
    }
   ],
   "source": [
    "L1(y.mean(),y)"
   ]
  },
  {
   "cell_type": "code",
   "execution_count": 8,
   "metadata": {},
   "outputs": [],
   "source": [
    "L1_loss = np.zeros(100)\n",
    "B = np.linspace(y.min(),y.max(),100)\n",
    "for k in range(100):\n",
    "    L1_loss[k] = L1(B[k],y)"
   ]
  },
  {
   "cell_type": "code",
   "execution_count": 9,
   "metadata": {},
   "outputs": [
    {
     "data": {
      "text/plain": [
       "array([108.        , 108.35353535, 108.70707071, 109.06060606,\n",
       "       109.41414141, 109.76767677, 110.12121212, 110.47474747,\n",
       "       110.82828283, 111.18181818, 111.53535354, 111.88888889,\n",
       "       112.24242424, 112.5959596 , 112.94949495, 113.3030303 ,\n",
       "       113.65656566, 114.01010101, 114.36363636, 114.71717172,\n",
       "       115.07070707, 115.42424242, 115.77777778, 116.13131313,\n",
       "       116.48484848, 116.83838384, 117.19191919, 117.54545455,\n",
       "       117.8989899 , 118.25252525, 118.60606061, 118.95959596,\n",
       "       119.31313131, 119.66666667, 120.02020202, 120.37373737,\n",
       "       120.72727273, 121.08080808, 121.43434343, 121.78787879,\n",
       "       122.14141414, 122.49494949, 122.84848485, 123.2020202 ,\n",
       "       123.55555556, 123.90909091, 124.26262626, 124.61616162,\n",
       "       124.96969697, 125.32323232, 125.67676768, 126.03030303,\n",
       "       126.38383838, 126.73737374, 127.09090909, 127.44444444,\n",
       "       127.7979798 , 128.15151515, 128.50505051, 128.85858586,\n",
       "       129.21212121, 129.56565657, 129.91919192, 130.27272727,\n",
       "       130.62626263, 130.97979798, 131.33333333, 131.68686869,\n",
       "       132.04040404, 132.39393939, 132.74747475, 133.1010101 ,\n",
       "       133.45454545, 133.80808081, 134.16161616, 134.51515152,\n",
       "       134.86868687, 135.22222222, 135.57575758, 135.92929293,\n",
       "       136.28282828, 136.63636364, 136.98989899, 137.34343434,\n",
       "       137.6969697 , 138.05050505, 138.4040404 , 138.75757576,\n",
       "       139.11111111, 139.46464646, 139.81818182, 140.17171717,\n",
       "       140.52525253, 140.87878788, 141.23232323, 141.58585859,\n",
       "       141.93939394, 142.29292929, 142.64646465, 143.        ])"
      ]
     },
     "execution_count": 9,
     "metadata": {},
     "output_type": "execute_result"
    }
   ],
   "source": [
    "B"
   ]
  },
  {
   "cell_type": "code",
   "execution_count": 10,
   "metadata": {},
   "outputs": [
    {
     "data": {
      "text/plain": [
       "array([17.4       , 17.11717172, 16.83434343, 16.55151515, 16.26868687,\n",
       "       15.98585859, 15.7030303 , 15.42020202, 15.13737374, 14.85454545,\n",
       "       14.57171717, 14.28888889, 14.05454545, 13.84242424, 13.63030303,\n",
       "       13.41818182, 13.20606061, 12.99393939, 12.78181818, 12.56969697,\n",
       "       12.35757576, 12.14545455, 11.93333333, 11.72121212, 11.50909091,\n",
       "       11.2969697 , 11.08484848, 10.87272727, 10.66060606, 10.4989899 ,\n",
       "       10.35757576, 10.21616162, 10.13737374, 10.06666667,  9.9959596 ,\n",
       "        9.92525253,  9.85454545,  9.78383838,  9.71313131,  9.64242424,\n",
       "        9.57171717,  9.5010101 ,  9.43030303,  9.4       ,  9.4       ,\n",
       "        9.4       ,  9.4       ,  9.4       ,  9.4       ,  9.4       ,\n",
       "        9.4       ,  9.4       ,  9.4       ,  9.4       ,  9.4       ,\n",
       "        9.4       ,  9.4       ,  9.43030303,  9.5010101 ,  9.57171717,\n",
       "        9.68484848,  9.82626263,  9.96767677, 10.10909091, 10.25050505,\n",
       "       10.39191919, 10.53333333, 10.67474747, 10.82424242, 11.03636364,\n",
       "       11.24848485, 11.46060606, 11.67272727, 11.88484848, 12.0969697 ,\n",
       "       12.30909091, 12.52121212, 12.73333333, 12.94545455, 13.15757576,\n",
       "       13.36969697, 13.58181818, 13.79393939, 14.00606061, 14.21818182,\n",
       "       14.43030303, 14.64242424, 14.85454545, 15.06666667, 15.27878788,\n",
       "       15.49090909, 15.7030303 , 15.91515152, 16.12727273, 16.33939394,\n",
       "       16.55151515, 16.76363636, 17.03434343, 17.31717172, 17.6       ])"
      ]
     },
     "execution_count": 10,
     "metadata": {},
     "output_type": "execute_result"
    }
   ],
   "source": [
    "L1_loss"
   ]
  },
  {
   "cell_type": "code",
   "execution_count": 11,
   "metadata": {},
   "outputs": [
    {
     "data": {
      "image/png": "[encoded data removed]",
      "text/plain": [
       "<Figure size 432x288 with 1 Axes>"
      ]
     },
     "metadata": {},
     "output_type": "display_data"
    }
   ],
   "source": [
    "plt.plot(B,L1_loss)\n",
    "plt.show()"
   ]
  },
  {
   "cell_type": "code",
   "execution_count": null,
   "metadata": {},
   "outputs": [],
   "source": [
    "\n"
   ]
  },
  {
   "cell_type": "code",
   "execution_count": null,
   "metadata": {},
   "outputs": [],
   "source": []
  },
  {
   "cell_type": "code",
   "execution_count": null,
   "metadata": {},
   "outputs": [],
   "source": []
  }
 ],
 "metadata": {
  "kernelspec": {
   "display_name": "Python 3",
   "language": "python",
   "name": "python3"
  },
  "language_info": {
   "codemirror_mode": {
    "name": "ipython",
    "version": 3
   },
   "file_extension": ".py",
   "mimetype": "text/x-python",
   "name": "python",
   "nbconvert_exporter": "python",
   "pygments_lexer": "ipython3",
   "version": "3.6.5"
  }
 },
 "nbformat": 4,
 "nbformat_minor": 2
}
