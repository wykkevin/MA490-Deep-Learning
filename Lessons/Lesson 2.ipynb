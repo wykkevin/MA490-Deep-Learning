{
 "cells": [
  {
   "cell_type": "markdown",
   "metadata": {},
   "source": [
    "# Lesson 2 (Simple Linear Regression)"
   ]
  },
  {
   "cell_type": "code",
   "execution_count": 3,
   "metadata": {},
   "outputs": [],
   "source": [
    "import numpy as np\n",
    "import matplotlib.pyplot as plt\n",
    "%matplotlib inline"
   ]
  },
  {
   "cell_type": "code",
   "execution_count": 4,
   "metadata": {},
   "outputs": [],
   "source": [
    "# inputs and corresponding outputs (targets)\n",
    "x = np.array([67,67,72,69,69,70,67,67,66,68])\n",
    "y = np.array([128,123,129,143,132,142,112,118,108,119])"
   ]
  },
  {
   "cell_type": "code",
   "execution_count": 5,
   "metadata": {},
   "outputs": [],
   "source": [
    "#def MSE loss funciton\n",
    "def MSE(w,b,x,y):\n",
    "    n = len(x)\n",
    "    yh = w * x + b\n",
    "    dy = y - yh\n",
    "    dy2 = dy * dy\n",
    "    return dy2.mean()"
   ]
  },
  {
   "cell_type": "code",
   "execution_count": 8,
   "metadata": {},
   "outputs": [],
   "source": [
    "#def contour plot\n",
    "def plot_RMSE(wmin,wmax,bmin,bmax,num_pts,x,y):\n",
    "    rmse = np.zeros((num_pts,num_pts))\n",
    "    ww,bb = np.meshgrid(np.linspace(wmin,wmax,num_pts),np.linspace(bmin,bmax,num_pts))\n",
    "    for i in range(num_pts):\n",
    "        for j in range(num_pts):\n",
    "            rmse[i,j] = np.sqrt(MSE(ww[i,j],bb[i,j],x,y))\n",
    "    plt.contourf(ww,bb,rmse)\n",
    "    plt.show()\n",
    "    return (ww,bb,rmse)"
   ]
  },
  {
   "cell_type": "code",
   "execution_count": 10,
   "metadata": {},
   "outputs": [
    {
     "data": {
      "image/png": "[encoded data removed]",
      "text/plain": [
       "<Figure size 432x288 with 1 Axes>"
      ]
     },
     "metadata": {},
     "output_type": "display_data"
    }
   ],
   "source": [
    "(ww,bb,rmse)=plot_RMSE(-5,10,-177,-157,100,x,y)"
   ]
  },
  {
   "cell_type": "code",
   "execution_count": 11,
   "metadata": {},
   "outputs": [
    {
     "data": {
      "text/plain": [
       "array([[643.65207993, 633.31632934, 622.98060762, ..., 359.149021  ,\n",
       "        369.48296837, 379.81706123],\n",
       "       [643.45013887, 633.1143888 , 622.77866763, ..., 359.35091994,\n",
       "        369.68487037, 380.01896604],\n",
       "       [643.24819787, 632.91244831, 622.57672769, ..., 359.55281903,\n",
       "        369.8867725 , 380.22087097],\n",
       "       ...,\n",
       "       [624.06403584, 613.72834136, 603.39267863, ..., 378.73382092,\n",
       "        389.06803377, 399.40237125],\n",
       "       [623.86209983, 613.52640599, 603.19074393, ..., 378.93573209,\n",
       "        389.26994738, 399.6042871 ],\n",
       "       [623.66016387, 613.32447068, 602.98880929, ..., 379.13764337,\n",
       "        389.47186109, 399.80620305]])"
      ]
     },
     "execution_count": 11,
     "metadata": {},
     "output_type": "execute_result"
    }
   ],
   "source": [
    "rmse"
   ]
  },
  {
   "cell_type": "code",
   "execution_count": 12,
   "metadata": {},
   "outputs": [
    {
     "data": {
      "text/plain": [
       "(100, 100)"
      ]
     },
     "execution_count": 12,
     "metadata": {},
     "output_type": "execute_result"
    }
   ],
   "source": [
    "rmse.shape"
   ]
  },
  {
   "cell_type": "code",
   "execution_count": 13,
   "metadata": {},
   "outputs": [
    {
     "data": {
      "text/plain": [
       "8.281996755501483"
      ]
     },
     "execution_count": 13,
     "metadata": {},
     "output_type": "execute_result"
    }
   ],
   "source": [
    "rmse.min()"
   ]
  },
  {
   "cell_type": "code",
   "execution_count": 15,
   "metadata": {},
   "outputs": [],
   "source": [
    "lx = rmse.argmin()"
   ]
  },
  {
   "cell_type": "code",
   "execution_count": 19,
   "metadata": {},
   "outputs": [],
   "source": [
    "w1 = ww.flatten()[lx]"
   ]
  },
  {
   "cell_type": "code",
   "execution_count": 20,
   "metadata": {},
   "outputs": [],
   "source": [
    "b1 = bb.flatten()[lx]"
   ]
  },
  {
   "cell_type": "code",
   "execution_count": 22,
   "metadata": {},
   "outputs": [
    {
     "name": "stdout",
     "output_type": "stream",
     "text": [
      "w 4.242424242424242\n",
      "b -163.86868686868686\n"
     ]
    }
   ],
   "source": [
    "print('w',w1)\n",
    "print('b',b1)"
   ]
  },
  {
   "cell_type": "code",
   "execution_count": 24,
   "metadata": {},
   "outputs": [],
   "source": [
    "wopt = 4.2972973\n",
    "bopt = -167.6756768"
   ]
  },
  {
   "cell_type": "code",
   "execution_count": 25,
   "metadata": {},
   "outputs": [
    {
     "data": {
      "text/plain": [
       "8.281206335937968"
      ]
     },
     "execution_count": 25,
     "metadata": {},
     "output_type": "execute_result"
    }
   ],
   "source": [
    "np.sqrt(MSE(wopt,bopt,x,y))"
   ]
  },
  {
   "cell_type": "code",
   "execution_count": 26,
   "metadata": {},
   "outputs": [
    {
     "data": {
      "text/plain": [
       "11.101351269102334"
      ]
     },
     "execution_count": 26,
     "metadata": {},
     "output_type": "execute_result"
    }
   ],
   "source": [
    "y.std()"
   ]
  },
  {
   "cell_type": "code",
   "execution_count": 27,
   "metadata": {},
   "outputs": [],
   "source": [
    "def f(w,b,x):\n",
    "    yh = w*x+b\n",
    "    return yh"
   ]
  },
  {
   "cell_type": "code",
   "execution_count": 28,
   "metadata": {},
   "outputs": [],
   "source": [
    "yh = f(w1,b1,x)"
   ]
  },
  {
   "cell_type": "code",
   "execution_count": 29,
   "metadata": {},
   "outputs": [
    {
     "data": {
      "text/plain": [
       "Text(0,0.5,'weight (lbs)')"
      ]
     },
     "execution_count": 29,
     "metadata": {},
     "output_type": "execute_result"
    },
    {
     "data": {
      "image/png": "[encoded data removed]",
      "text/plain": [
       "<Figure size 432x288 with 1 Axes>"
      ]
     },
     "metadata": {},
     "output_type": "display_data"
    }
   ],
   "source": [
    "plt.plot(x,y,'.')\n",
    "plt.plot(x,yh)\n",
    "plt.xlabel('height (in)')\n",
    "plt.ylabel('weight (lbs)')"
   ]
  },
  {
   "cell_type": "code",
   "execution_count": 30,
   "metadata": {},
   "outputs": [
    {
     "data": {
      "text/plain": [
       "133.10101010101008"
      ]
     },
     "execution_count": 30,
     "metadata": {},
     "output_type": "execute_result"
    }
   ],
   "source": [
    "f(w1,b1,70)"
   ]
  },
  {
   "cell_type": "code",
   "execution_count": null,
   "metadata": {},
   "outputs": [],
   "source": []
  }
 ],
 "metadata": {
  "kernelspec": {
   "display_name": "Python 3",
   "language": "python",
   "name": "python3"
  },
  "language_info": {
   "codemirror_mode": {
    "name": "ipython",
    "version": 3
   },
   "file_extension": ".py",
   "mimetype": "text/x-python",
   "name": "python",
   "nbconvert_exporter": "python",
   "pygments_lexer": "ipython3",
   "version": "3.6.5"
  }
 },
 "nbformat": 4,
 "nbformat_minor": 2
}
