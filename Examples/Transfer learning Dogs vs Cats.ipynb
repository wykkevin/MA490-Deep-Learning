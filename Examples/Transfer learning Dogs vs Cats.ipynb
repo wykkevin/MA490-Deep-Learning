{
 "cells": [
  {
   "cell_type": "code",
   "execution_count": 3,
   "metadata": {},
   "outputs": [],
   "source": [
    "import numpy as np\n",
    "import pandas as pd\n",
    "from keras.models import Sequential\n",
    "from keras.layers.core import Dense, Activation, Flatten\n",
    "from keras.layers.convolutional import Conv2D, MaxPooling2D\n",
    "from keras.callbacks import EarlyStopping\n",
    "from keras.preprocessing.image import ImageDataGenerator\n",
    "from keras.applications import VGG16\n",
    "from keras.optimizers import Adam\n",
    "import matplotlib.pyplot as plt\n",
    "from time import time\n",
    "%matplotlib inline"
   ]
  },
  {
   "cell_type": "code",
   "execution_count": 4,
   "metadata": {},
   "outputs": [],
   "source": [
    "def PlotImages(is_start, num_img, rows, cols, X, P, label_names):\n",
    "    plt.figure(figsize=(10,10))\n",
    "    plt.subplots_adjust(wspace=0.2,hspace=0.2)\n",
    "    for i in range(num_img):\n",
    "        plt.subplot(rows, cols, i+1)\n",
    "        plt.axis('off')\n",
    "        plt.imshow(X[ix_start+1])\n",
    "        plt.title(label_names[P[ix_start+1]].argmax())"
   ]
  },
  {
   "cell_type": "code",
   "execution_count": null,
   "metadata": {},
   "outputs": [],
   "source": [
    "label_names = ['cat','dog']\n",
    "batch_size = 2000\n",
    "data_path = '/work/MA490_DeepLearning/Data/Dogs_vs_Cats'\n",
    "# see gauss, data is on gauss"
   ]
  }
 ],
 "metadata": {
  "kernelspec": {
   "display_name": "Python 3",
   "language": "python",
   "name": "python3"
  },
  "language_info": {
   "codemirror_mode": {
    "name": "ipython",
    "version": 3
   },
   "file_extension": ".py",
   "mimetype": "text/x-python",
   "name": "python",
   "nbconvert_exporter": "python",
   "pygments_lexer": "ipython3",
   "version": "3.6.5"
  }
 },
 "nbformat": 4,
 "nbformat_minor": 2
}
