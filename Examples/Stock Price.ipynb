{
 "cells": [
  {
   "cell_type": "code",
   "execution_count": 1,
   "metadata": {},
   "outputs": [],
   "source": [
    "import numpy as np\n",
    "import pandas as pd\n",
    "import matplotlib.pyplot as plt\n",
    "%matplotlib inline"
   ]
  },
  {
   "cell_type": "code",
   "execution_count": 2,
   "metadata": {},
   "outputs": [],
   "source": [
    "df = pd.read_csv(\"AdjustedClosingPrices.csv\")"
   ]
  },
  {
   "cell_type": "code",
   "execution_count": 3,
   "metadata": {},
   "outputs": [
    {
     "data": {
      "text/plain": [
       "Date     object\n",
       "A       float64\n",
       "AA      float64\n",
       "AAPL    float64\n",
       "ABC     float64\n",
       "ABT     float64\n",
       "ACS     float64\n",
       "ADBE    float64\n",
       "ADI     float64\n",
       "ADM     float64\n",
       "ADP     float64\n",
       "ADSK    float64\n",
       "AEE     float64\n",
       "AEP     float64\n",
       "AES     float64\n",
       "AET     float64\n",
       "AFL     float64\n",
       "AGN     float64\n",
       "AIG     float64\n",
       "AIV     float64\n",
       "AIZ     float64\n",
       "AKAM    float64\n",
       "AKS     float64\n",
       "ALL     float64\n",
       "AMAT    float64\n",
       "AMD     float64\n",
       "AMGN    float64\n",
       "AMP     float64\n",
       "AMT     float64\n",
       "AMZN    float64\n",
       "         ...   \n",
       "VMC     float64\n",
       "VNO     float64\n",
       "VRSN    float64\n",
       "VTR     float64\n",
       "VZ      float64\n",
       "WAT     float64\n",
       "WDC     float64\n",
       "WEC     float64\n",
       "WFC     float64\n",
       "WFR     float64\n",
       "WHR     float64\n",
       "WIN     float64\n",
       "WM      float64\n",
       "WMB     float64\n",
       "WMT     float64\n",
       "WPI     float64\n",
       "WU      float64\n",
       "WY      float64\n",
       "WYN     float64\n",
       "WYNN    float64\n",
       "X       float64\n",
       "XEL     float64\n",
       "XL      float64\n",
       "XLNX    float64\n",
       "XOM     float64\n",
       "XRAY    float64\n",
       "XRX     float64\n",
       "YHOO    float64\n",
       "YUM     float64\n",
       "ZION    float64\n",
       "Length: 468, dtype: object"
      ]
     },
     "execution_count": 3,
     "metadata": {},
     "output_type": "execute_result"
    }
   ],
   "source": [
    "df.dtypes"
   ]
  },
  {
   "cell_type": "code",
   "execution_count": 4,
   "metadata": {},
   "outputs": [
    {
     "data": {
      "text/html": [
       "<div>\n",
       "<style scoped>\n",
       "    .dataframe tbody tr th:only-of-type {\n",
       "        vertical-align: middle;\n",
       "    }\n",
       "\n",
       "    .dataframe tbody tr th {\n",
       "        vertical-align: top;\n",
       "    }\n",
       "\n",
       "    .dataframe thead th {\n",
       "        text-align: right;\n",
       "    }\n",
       "</style>\n",
       "<table border=\"1\" class=\"dataframe\">\n",
       "  <thead>\n",
       "    <tr style=\"text-align: right;\">\n",
       "      <th></th>\n",
       "      <th>Date</th>\n",
       "      <th>A</th>\n",
       "      <th>AA</th>\n",
       "      <th>AAPL</th>\n",
       "      <th>ABC</th>\n",
       "      <th>ABT</th>\n",
       "      <th>ACS</th>\n",
       "      <th>ADBE</th>\n",
       "      <th>ADI</th>\n",
       "      <th>ADM</th>\n",
       "      <th>...</th>\n",
       "      <th>X</th>\n",
       "      <th>XEL</th>\n",
       "      <th>XL</th>\n",
       "      <th>XLNX</th>\n",
       "      <th>XOM</th>\n",
       "      <th>XRAY</th>\n",
       "      <th>XRX</th>\n",
       "      <th>YHOO</th>\n",
       "      <th>YUM</th>\n",
       "      <th>ZION</th>\n",
       "    </tr>\n",
       "  </thead>\n",
       "  <tbody>\n",
       "    <tr>\n",
       "      <th>0</th>\n",
       "      <td>2000-01-03</td>\n",
       "      <td>46.354670</td>\n",
       "      <td>30.172580</td>\n",
       "      <td>3.660058</td>\n",
       "      <td>3.326019</td>\n",
       "      <td>9.639804</td>\n",
       "      <td>0.019</td>\n",
       "      <td>16.274667</td>\n",
       "      <td>32.947692</td>\n",
       "      <td>7.912229</td>\n",
       "      <td>...</td>\n",
       "      <td>25.380447</td>\n",
       "      <td>8.810155</td>\n",
       "      <td>32.639550</td>\n",
       "      <td>35.933610</td>\n",
       "      <td>26.056526</td>\n",
       "      <td>7.151686</td>\n",
       "      <td>19.207609</td>\n",
       "      <td>118.750</td>\n",
       "      <td>7.452527</td>\n",
       "      <td>43.820247</td>\n",
       "    </tr>\n",
       "    <tr>\n",
       "      <th>1</th>\n",
       "      <td>2000-01-04</td>\n",
       "      <td>42.813681</td>\n",
       "      <td>30.312376</td>\n",
       "      <td>3.351477</td>\n",
       "      <td>3.098946</td>\n",
       "      <td>9.364382</td>\n",
       "      <td>0.019</td>\n",
       "      <td>14.909395</td>\n",
       "      <td>31.280900</td>\n",
       "      <td>7.829816</td>\n",
       "      <td>...</td>\n",
       "      <td>24.433043</td>\n",
       "      <td>9.013020</td>\n",
       "      <td>31.170373</td>\n",
       "      <td>35.116937</td>\n",
       "      <td>25.557438</td>\n",
       "      <td>7.151686</td>\n",
       "      <td>18.314232</td>\n",
       "      <td>110.750</td>\n",
       "      <td>7.302727</td>\n",
       "      <td>41.698321</td>\n",
       "    </tr>\n",
       "    <tr>\n",
       "      <th>2</th>\n",
       "      <td>2000-01-05</td>\n",
       "      <td>40.157947</td>\n",
       "      <td>32.059823</td>\n",
       "      <td>3.400523</td>\n",
       "      <td>3.339381</td>\n",
       "      <td>9.347165</td>\n",
       "      <td>0.019</td>\n",
       "      <td>15.204175</td>\n",
       "      <td>31.737555</td>\n",
       "      <td>7.706187</td>\n",
       "      <td>...</td>\n",
       "      <td>24.682360</td>\n",
       "      <td>9.360790</td>\n",
       "      <td>31.448326</td>\n",
       "      <td>34.348304</td>\n",
       "      <td>26.950724</td>\n",
       "      <td>7.275321</td>\n",
       "      <td>19.257241</td>\n",
       "      <td>102.625</td>\n",
       "      <td>7.340181</td>\n",
       "      <td>41.648973</td>\n",
       "    </tr>\n",
       "  </tbody>\n",
       "</table>\n",
       "<p>3 rows × 468 columns</p>\n",
       "</div>"
      ],
      "text/plain": [
       "        Date          A         AA      AAPL       ABC       ABT    ACS  \\\n",
       "0 2000-01-03  46.354670  30.172580  3.660058  3.326019  9.639804  0.019   \n",
       "1 2000-01-04  42.813681  30.312376  3.351477  3.098946  9.364382  0.019   \n",
       "2 2000-01-05  40.157947  32.059823  3.400523  3.339381  9.347165  0.019   \n",
       "\n",
       "        ADBE        ADI       ADM    ...              X       XEL         XL  \\\n",
       "0  16.274667  32.947692  7.912229    ...      25.380447  8.810155  32.639550   \n",
       "1  14.909395  31.280900  7.829816    ...      24.433043  9.013020  31.170373   \n",
       "2  15.204175  31.737555  7.706187    ...      24.682360  9.360790  31.448326   \n",
       "\n",
       "        XLNX        XOM      XRAY        XRX     YHOO       YUM       ZION  \n",
       "0  35.933610  26.056526  7.151686  19.207609  118.750  7.452527  43.820247  \n",
       "1  35.116937  25.557438  7.151686  18.314232  110.750  7.302727  41.698321  \n",
       "2  34.348304  26.950724  7.275321  19.257241  102.625  7.340181  41.648973  \n",
       "\n",
       "[3 rows x 468 columns]"
      ]
     },
     "execution_count": 4,
     "metadata": {},
     "output_type": "execute_result"
    }
   ],
   "source": [
    "df['Date'] = pd.to_datetime(df['Date'])\n",
    "df.head(3)"
   ]
  },
  {
   "cell_type": "code",
   "execution_count": 5,
   "metadata": {},
   "outputs": [
    {
     "data": {
      "text/html": [
       "<div>\n",
       "<style scoped>\n",
       "    .dataframe tbody tr th:only-of-type {\n",
       "        vertical-align: middle;\n",
       "    }\n",
       "\n",
       "    .dataframe tbody tr th {\n",
       "        vertical-align: top;\n",
       "    }\n",
       "\n",
       "    .dataframe thead th {\n",
       "        text-align: right;\n",
       "    }\n",
       "</style>\n",
       "<table border=\"1\" class=\"dataframe\">\n",
       "  <thead>\n",
       "    <tr style=\"text-align: right;\">\n",
       "      <th></th>\n",
       "      <th>A</th>\n",
       "      <th>AA</th>\n",
       "      <th>AAPL</th>\n",
       "      <th>ABC</th>\n",
       "      <th>ABT</th>\n",
       "      <th>ACS</th>\n",
       "      <th>ADBE</th>\n",
       "      <th>ADI</th>\n",
       "      <th>ADM</th>\n",
       "      <th>ADP</th>\n",
       "      <th>...</th>\n",
       "      <th>X</th>\n",
       "      <th>XEL</th>\n",
       "      <th>XL</th>\n",
       "      <th>XLNX</th>\n",
       "      <th>XOM</th>\n",
       "      <th>XRAY</th>\n",
       "      <th>XRX</th>\n",
       "      <th>YHOO</th>\n",
       "      <th>YUM</th>\n",
       "      <th>ZION</th>\n",
       "    </tr>\n",
       "    <tr>\n",
       "      <th>Date</th>\n",
       "      <th></th>\n",
       "      <th></th>\n",
       "      <th></th>\n",
       "      <th></th>\n",
       "      <th></th>\n",
       "      <th></th>\n",
       "      <th></th>\n",
       "      <th></th>\n",
       "      <th></th>\n",
       "      <th></th>\n",
       "      <th></th>\n",
       "      <th></th>\n",
       "      <th></th>\n",
       "      <th></th>\n",
       "      <th></th>\n",
       "      <th></th>\n",
       "      <th></th>\n",
       "      <th></th>\n",
       "      <th></th>\n",
       "      <th></th>\n",
       "      <th></th>\n",
       "    </tr>\n",
       "  </thead>\n",
       "  <tbody>\n",
       "    <tr>\n",
       "      <th>2000-01-03</th>\n",
       "      <td>46.354670</td>\n",
       "      <td>30.172580</td>\n",
       "      <td>3.660058</td>\n",
       "      <td>3.326019</td>\n",
       "      <td>9.639804</td>\n",
       "      <td>0.019</td>\n",
       "      <td>16.274667</td>\n",
       "      <td>32.947692</td>\n",
       "      <td>7.912229</td>\n",
       "      <td>29.184633</td>\n",
       "      <td>...</td>\n",
       "      <td>25.380447</td>\n",
       "      <td>8.810155</td>\n",
       "      <td>32.639550</td>\n",
       "      <td>35.933610</td>\n",
       "      <td>26.056526</td>\n",
       "      <td>7.151686</td>\n",
       "      <td>19.207609</td>\n",
       "      <td>118.750</td>\n",
       "      <td>7.452527</td>\n",
       "      <td>43.820247</td>\n",
       "    </tr>\n",
       "    <tr>\n",
       "      <th>2000-01-04</th>\n",
       "      <td>42.813681</td>\n",
       "      <td>30.312376</td>\n",
       "      <td>3.351477</td>\n",
       "      <td>3.098946</td>\n",
       "      <td>9.364382</td>\n",
       "      <td>0.019</td>\n",
       "      <td>14.909395</td>\n",
       "      <td>31.280900</td>\n",
       "      <td>7.829816</td>\n",
       "      <td>29.184633</td>\n",
       "      <td>...</td>\n",
       "      <td>24.433043</td>\n",
       "      <td>9.013020</td>\n",
       "      <td>31.170373</td>\n",
       "      <td>35.116937</td>\n",
       "      <td>25.557438</td>\n",
       "      <td>7.151686</td>\n",
       "      <td>18.314232</td>\n",
       "      <td>110.750</td>\n",
       "      <td>7.302727</td>\n",
       "      <td>41.698321</td>\n",
       "    </tr>\n",
       "    <tr>\n",
       "      <th>2000-01-05</th>\n",
       "      <td>40.157947</td>\n",
       "      <td>32.059823</td>\n",
       "      <td>3.400523</td>\n",
       "      <td>3.339381</td>\n",
       "      <td>9.347165</td>\n",
       "      <td>0.019</td>\n",
       "      <td>15.204175</td>\n",
       "      <td>31.737555</td>\n",
       "      <td>7.706187</td>\n",
       "      <td>28.904013</td>\n",
       "      <td>...</td>\n",
       "      <td>24.682360</td>\n",
       "      <td>9.360790</td>\n",
       "      <td>31.448326</td>\n",
       "      <td>34.348304</td>\n",
       "      <td>26.950724</td>\n",
       "      <td>7.275321</td>\n",
       "      <td>19.257241</td>\n",
       "      <td>102.625</td>\n",
       "      <td>7.340181</td>\n",
       "      <td>41.648973</td>\n",
       "    </tr>\n",
       "  </tbody>\n",
       "</table>\n",
       "<p>3 rows × 467 columns</p>\n",
       "</div>"
      ],
      "text/plain": [
       "                    A         AA      AAPL       ABC       ABT    ACS  \\\n",
       "Date                                                                    \n",
       "2000-01-03  46.354670  30.172580  3.660058  3.326019  9.639804  0.019   \n",
       "2000-01-04  42.813681  30.312376  3.351477  3.098946  9.364382  0.019   \n",
       "2000-01-05  40.157947  32.059823  3.400523  3.339381  9.347165  0.019   \n",
       "\n",
       "                 ADBE        ADI       ADM        ADP    ...              X  \\\n",
       "Date                                                     ...                  \n",
       "2000-01-03  16.274667  32.947692  7.912229  29.184633    ...      25.380447   \n",
       "2000-01-04  14.909395  31.280900  7.829816  29.184633    ...      24.433043   \n",
       "2000-01-05  15.204175  31.737555  7.706187  28.904013    ...      24.682360   \n",
       "\n",
       "                 XEL         XL       XLNX        XOM      XRAY        XRX  \\\n",
       "Date                                                                         \n",
       "2000-01-03  8.810155  32.639550  35.933610  26.056526  7.151686  19.207609   \n",
       "2000-01-04  9.013020  31.170373  35.116937  25.557438  7.151686  18.314232   \n",
       "2000-01-05  9.360790  31.448326  34.348304  26.950724  7.275321  19.257241   \n",
       "\n",
       "               YHOO       YUM       ZION  \n",
       "Date                                      \n",
       "2000-01-03  118.750  7.452527  43.820247  \n",
       "2000-01-04  110.750  7.302727  41.698321  \n",
       "2000-01-05  102.625  7.340181  41.648973  \n",
       "\n",
       "[3 rows x 467 columns]"
      ]
     },
     "execution_count": 5,
     "metadata": {},
     "output_type": "execute_result"
    }
   ],
   "source": [
    "df = df.set_index('Date')\n",
    "df.head(3)"
   ]
  },
  {
   "cell_type": "code",
   "execution_count": 6,
   "metadata": {},
   "outputs": [
    {
     "data": {
      "text/plain": [
       "<matplotlib.axes._subplots.AxesSubplot at 0x27119824f60>"
      ]
     },
     "execution_count": 6,
     "metadata": {},
     "output_type": "execute_result"
    },
    {
     "data": {
      "image/png": "[encoded data removed]",
      "text/plain": [
       "<Figure size 432x288 with 1 Axes>"
      ]
     },
     "metadata": {},
     "output_type": "display_data"
    }
   ],
   "source": [
    "df.AAPL.plot()"
   ]
  },
  {
   "cell_type": "code",
   "execution_count": 7,
   "metadata": {},
   "outputs": [
    {
     "data": {
      "text/plain": [
       "<matplotlib.axes._subplots.AxesSubplot at 0x271199b9ac8>"
      ]
     },
     "execution_count": 7,
     "metadata": {},
     "output_type": "execute_result"
    },
    {
     "data": {
      "image/png": "[encoded data removed]",
      "text/plain": [
       "<Figure size 432x288 with 1 Axes>"
      ]
     },
     "metadata": {},
     "output_type": "display_data"
    }
   ],
   "source": [
    "df.IBM.plot()"
   ]
  },
  {
   "cell_type": "code",
   "execution_count": 8,
   "metadata": {},
   "outputs": [
    {
     "data": {
      "text/plain": [
       "184024"
      ]
     },
     "execution_count": 8,
     "metadata": {},
     "output_type": "execute_result"
    }
   ],
   "source": [
    "df.isnull().sum().sum()"
   ]
  },
  {
   "cell_type": "code",
   "execution_count": 9,
   "metadata": {},
   "outputs": [
    {
     "data": {
      "text/plain": [
       "1801"
      ]
     },
     "execution_count": 9,
     "metadata": {},
     "output_type": "execute_result"
    }
   ],
   "source": [
    "(df==0).sum().sum()"
   ]
  },
  {
   "cell_type": "code",
   "execution_count": 10,
   "metadata": {},
   "outputs": [],
   "source": [
    "df1 = df.replace(0, np.nan)"
   ]
  },
  {
   "cell_type": "code",
   "execution_count": 11,
   "metadata": {},
   "outputs": [
    {
     "data": {
      "text/plain": [
       "0"
      ]
     },
     "execution_count": 11,
     "metadata": {},
     "output_type": "execute_result"
    }
   ],
   "source": [
    "(df1==0).sum().sum()"
   ]
  },
  {
   "cell_type": "code",
   "execution_count": 12,
   "metadata": {},
   "outputs": [],
   "source": [
    "df1 = df1.fillna(method='ffill',axis=0).fillna(method='bfill',axis=0)"
   ]
  },
  {
   "cell_type": "code",
   "execution_count": 13,
   "metadata": {},
   "outputs": [
    {
     "data": {
      "text/plain": [
       "0"
      ]
     },
     "execution_count": 13,
     "metadata": {},
     "output_type": "execute_result"
    }
   ],
   "source": [
    "df1.isnull().sum().sum()"
   ]
  },
  {
   "cell_type": "code",
   "execution_count": 14,
   "metadata": {},
   "outputs": [],
   "source": [
    "df_log = np.log(df1)"
   ]
  },
  {
   "cell_type": "code",
   "execution_count": 15,
   "metadata": {},
   "outputs": [
    {
     "data": {
      "text/html": [
       "<div>\n",
       "<style scoped>\n",
       "    .dataframe tbody tr th:only-of-type {\n",
       "        vertical-align: middle;\n",
       "    }\n",
       "\n",
       "    .dataframe tbody tr th {\n",
       "        vertical-align: top;\n",
       "    }\n",
       "\n",
       "    .dataframe thead th {\n",
       "        text-align: right;\n",
       "    }\n",
       "</style>\n",
       "<table border=\"1\" class=\"dataframe\">\n",
       "  <thead>\n",
       "    <tr style=\"text-align: right;\">\n",
       "      <th></th>\n",
       "      <th>A</th>\n",
       "      <th>AA</th>\n",
       "      <th>AAPL</th>\n",
       "      <th>ABC</th>\n",
       "      <th>ABT</th>\n",
       "      <th>ACS</th>\n",
       "      <th>ADBE</th>\n",
       "      <th>ADI</th>\n",
       "      <th>ADM</th>\n",
       "      <th>ADP</th>\n",
       "      <th>...</th>\n",
       "      <th>X</th>\n",
       "      <th>XEL</th>\n",
       "      <th>XL</th>\n",
       "      <th>XLNX</th>\n",
       "      <th>XOM</th>\n",
       "      <th>XRAY</th>\n",
       "      <th>XRX</th>\n",
       "      <th>YHOO</th>\n",
       "      <th>YUM</th>\n",
       "      <th>ZION</th>\n",
       "    </tr>\n",
       "    <tr>\n",
       "      <th>Date</th>\n",
       "      <th></th>\n",
       "      <th></th>\n",
       "      <th></th>\n",
       "      <th></th>\n",
       "      <th></th>\n",
       "      <th></th>\n",
       "      <th></th>\n",
       "      <th></th>\n",
       "      <th></th>\n",
       "      <th></th>\n",
       "      <th></th>\n",
       "      <th></th>\n",
       "      <th></th>\n",
       "      <th></th>\n",
       "      <th></th>\n",
       "      <th></th>\n",
       "      <th></th>\n",
       "      <th></th>\n",
       "      <th></th>\n",
       "      <th></th>\n",
       "      <th></th>\n",
       "    </tr>\n",
       "  </thead>\n",
       "  <tbody>\n",
       "    <tr>\n",
       "      <th>2000-01-03</th>\n",
       "      <td>NaN</td>\n",
       "      <td>NaN</td>\n",
       "      <td>NaN</td>\n",
       "      <td>NaN</td>\n",
       "      <td>NaN</td>\n",
       "      <td>NaN</td>\n",
       "      <td>NaN</td>\n",
       "      <td>NaN</td>\n",
       "      <td>NaN</td>\n",
       "      <td>NaN</td>\n",
       "      <td>...</td>\n",
       "      <td>NaN</td>\n",
       "      <td>NaN</td>\n",
       "      <td>NaN</td>\n",
       "      <td>NaN</td>\n",
       "      <td>NaN</td>\n",
       "      <td>NaN</td>\n",
       "      <td>NaN</td>\n",
       "      <td>NaN</td>\n",
       "      <td>NaN</td>\n",
       "      <td>NaN</td>\n",
       "    </tr>\n",
       "    <tr>\n",
       "      <th>2000-01-04</th>\n",
       "      <td>-0.079464</td>\n",
       "      <td>0.004623</td>\n",
       "      <td>-0.088078</td>\n",
       "      <td>-0.070714</td>\n",
       "      <td>-0.028987</td>\n",
       "      <td>0.0</td>\n",
       "      <td>-0.087618</td>\n",
       "      <td>-0.051914</td>\n",
       "      <td>-0.010471</td>\n",
       "      <td>0.000000</td>\n",
       "      <td>...</td>\n",
       "      <td>-0.038043</td>\n",
       "      <td>0.022765</td>\n",
       "      <td>-0.046057</td>\n",
       "      <td>-0.022990</td>\n",
       "      <td>-0.019340</td>\n",
       "      <td>0.00000</td>\n",
       "      <td>-0.047628</td>\n",
       "      <td>-0.069745</td>\n",
       "      <td>-0.020305</td>\n",
       "      <td>-0.049635</td>\n",
       "    </tr>\n",
       "    <tr>\n",
       "      <th>2000-01-05</th>\n",
       "      <td>-0.064037</td>\n",
       "      <td>0.056048</td>\n",
       "      <td>0.014528</td>\n",
       "      <td>0.074723</td>\n",
       "      <td>-0.001840</td>\n",
       "      <td>0.0</td>\n",
       "      <td>0.019579</td>\n",
       "      <td>0.014493</td>\n",
       "      <td>-0.015915</td>\n",
       "      <td>-0.009662</td>\n",
       "      <td>...</td>\n",
       "      <td>0.010152</td>\n",
       "      <td>0.037859</td>\n",
       "      <td>0.008878</td>\n",
       "      <td>-0.022131</td>\n",
       "      <td>0.053082</td>\n",
       "      <td>0.01714</td>\n",
       "      <td>0.050209</td>\n",
       "      <td>-0.076194</td>\n",
       "      <td>0.005116</td>\n",
       "      <td>-0.001184</td>\n",
       "    </tr>\n",
       "  </tbody>\n",
       "</table>\n",
       "<p>3 rows × 467 columns</p>\n",
       "</div>"
      ],
      "text/plain": [
       "                   A        AA      AAPL       ABC       ABT  ACS      ADBE  \\\n",
       "Date                                                                          \n",
       "2000-01-03       NaN       NaN       NaN       NaN       NaN  NaN       NaN   \n",
       "2000-01-04 -0.079464  0.004623 -0.088078 -0.070714 -0.028987  0.0 -0.087618   \n",
       "2000-01-05 -0.064037  0.056048  0.014528  0.074723 -0.001840  0.0  0.019579   \n",
       "\n",
       "                 ADI       ADM       ADP    ...            X       XEL  \\\n",
       "Date                                        ...                          \n",
       "2000-01-03       NaN       NaN       NaN    ...          NaN       NaN   \n",
       "2000-01-04 -0.051914 -0.010471  0.000000    ...    -0.038043  0.022765   \n",
       "2000-01-05  0.014493 -0.015915 -0.009662    ...     0.010152  0.037859   \n",
       "\n",
       "                  XL      XLNX       XOM     XRAY       XRX      YHOO  \\\n",
       "Date                                                                    \n",
       "2000-01-03       NaN       NaN       NaN      NaN       NaN       NaN   \n",
       "2000-01-04 -0.046057 -0.022990 -0.019340  0.00000 -0.047628 -0.069745   \n",
       "2000-01-05  0.008878 -0.022131  0.053082  0.01714  0.050209 -0.076194   \n",
       "\n",
       "                 YUM      ZION  \n",
       "Date                            \n",
       "2000-01-03       NaN       NaN  \n",
       "2000-01-04 -0.020305 -0.049635  \n",
       "2000-01-05  0.005116 -0.001184  \n",
       "\n",
       "[3 rows x 467 columns]"
      ]
     },
     "execution_count": 15,
     "metadata": {},
     "output_type": "execute_result"
    }
   ],
   "source": [
    "df_r = df_log - df_log.shift()\n",
    "df_r.head(3)"
   ]
  },
  {
   "cell_type": "code",
   "execution_count": 16,
   "metadata": {},
   "outputs": [
    {
     "data": {
      "text/html": [
       "<div>\n",
       "<style scoped>\n",
       "    .dataframe tbody tr th:only-of-type {\n",
       "        vertical-align: middle;\n",
       "    }\n",
       "\n",
       "    .dataframe tbody tr th {\n",
       "        vertical-align: top;\n",
       "    }\n",
       "\n",
       "    .dataframe thead th {\n",
       "        text-align: right;\n",
       "    }\n",
       "</style>\n",
       "<table border=\"1\" class=\"dataframe\">\n",
       "  <thead>\n",
       "    <tr style=\"text-align: right;\">\n",
       "      <th></th>\n",
       "      <th>A</th>\n",
       "      <th>AA</th>\n",
       "      <th>AAPL</th>\n",
       "      <th>ABC</th>\n",
       "      <th>ABT</th>\n",
       "      <th>ACS</th>\n",
       "      <th>ADBE</th>\n",
       "      <th>ADI</th>\n",
       "      <th>ADM</th>\n",
       "      <th>ADP</th>\n",
       "      <th>...</th>\n",
       "      <th>X</th>\n",
       "      <th>XEL</th>\n",
       "      <th>XL</th>\n",
       "      <th>XLNX</th>\n",
       "      <th>XOM</th>\n",
       "      <th>XRAY</th>\n",
       "      <th>XRX</th>\n",
       "      <th>YHOO</th>\n",
       "      <th>YUM</th>\n",
       "      <th>ZION</th>\n",
       "    </tr>\n",
       "    <tr>\n",
       "      <th>Date</th>\n",
       "      <th></th>\n",
       "      <th></th>\n",
       "      <th></th>\n",
       "      <th></th>\n",
       "      <th></th>\n",
       "      <th></th>\n",
       "      <th></th>\n",
       "      <th></th>\n",
       "      <th></th>\n",
       "      <th></th>\n",
       "      <th></th>\n",
       "      <th></th>\n",
       "      <th></th>\n",
       "      <th></th>\n",
       "      <th></th>\n",
       "      <th></th>\n",
       "      <th></th>\n",
       "      <th></th>\n",
       "      <th></th>\n",
       "      <th></th>\n",
       "      <th></th>\n",
       "    </tr>\n",
       "  </thead>\n",
       "  <tbody>\n",
       "    <tr>\n",
       "      <th>2000-01-04</th>\n",
       "      <td>-0.079464</td>\n",
       "      <td>0.004623</td>\n",
       "      <td>-0.088078</td>\n",
       "      <td>-0.070714</td>\n",
       "      <td>-0.028987</td>\n",
       "      <td>0.0</td>\n",
       "      <td>-0.087618</td>\n",
       "      <td>-0.051914</td>\n",
       "      <td>-0.010471</td>\n",
       "      <td>0.000000</td>\n",
       "      <td>...</td>\n",
       "      <td>-0.038043</td>\n",
       "      <td>0.022765</td>\n",
       "      <td>-0.046057</td>\n",
       "      <td>-0.022990</td>\n",
       "      <td>-0.019340</td>\n",
       "      <td>0.000000</td>\n",
       "      <td>-0.047628</td>\n",
       "      <td>-0.069745</td>\n",
       "      <td>-0.020305</td>\n",
       "      <td>-0.049635</td>\n",
       "    </tr>\n",
       "    <tr>\n",
       "      <th>2000-01-05</th>\n",
       "      <td>-0.064037</td>\n",
       "      <td>0.056048</td>\n",
       "      <td>0.014528</td>\n",
       "      <td>0.074723</td>\n",
       "      <td>-0.001840</td>\n",
       "      <td>0.0</td>\n",
       "      <td>0.019579</td>\n",
       "      <td>0.014493</td>\n",
       "      <td>-0.015915</td>\n",
       "      <td>-0.009662</td>\n",
       "      <td>...</td>\n",
       "      <td>0.010152</td>\n",
       "      <td>0.037859</td>\n",
       "      <td>0.008878</td>\n",
       "      <td>-0.022131</td>\n",
       "      <td>0.053082</td>\n",
       "      <td>0.017140</td>\n",
       "      <td>0.050209</td>\n",
       "      <td>-0.076194</td>\n",
       "      <td>0.005116</td>\n",
       "      <td>-0.001184</td>\n",
       "    </tr>\n",
       "    <tr>\n",
       "      <th>2000-01-06</th>\n",
       "      <td>-0.038820</td>\n",
       "      <td>-0.013168</td>\n",
       "      <td>-0.090514</td>\n",
       "      <td>0.073249</td>\n",
       "      <td>0.034393</td>\n",
       "      <td>0.0</td>\n",
       "      <td>0.008130</td>\n",
       "      <td>-0.027719</td>\n",
       "      <td>0.005333</td>\n",
       "      <td>0.013261</td>\n",
       "      <td>...</td>\n",
       "      <td>0.006042</td>\n",
       "      <td>-0.009331</td>\n",
       "      <td>0.007547</td>\n",
       "      <td>-0.090705</td>\n",
       "      <td>0.050406</td>\n",
       "      <td>0.001307</td>\n",
       "      <td>-0.020834</td>\n",
       "      <td>-0.108784</td>\n",
       "      <td>-0.008539</td>\n",
       "      <td>0.014118</td>\n",
       "    </tr>\n",
       "  </tbody>\n",
       "</table>\n",
       "<p>3 rows × 467 columns</p>\n",
       "</div>"
      ],
      "text/plain": [
       "                   A        AA      AAPL       ABC       ABT  ACS      ADBE  \\\n",
       "Date                                                                          \n",
       "2000-01-04 -0.079464  0.004623 -0.088078 -0.070714 -0.028987  0.0 -0.087618   \n",
       "2000-01-05 -0.064037  0.056048  0.014528  0.074723 -0.001840  0.0  0.019579   \n",
       "2000-01-06 -0.038820 -0.013168 -0.090514  0.073249  0.034393  0.0  0.008130   \n",
       "\n",
       "                 ADI       ADM       ADP    ...            X       XEL  \\\n",
       "Date                                        ...                          \n",
       "2000-01-04 -0.051914 -0.010471  0.000000    ...    -0.038043  0.022765   \n",
       "2000-01-05  0.014493 -0.015915 -0.009662    ...     0.010152  0.037859   \n",
       "2000-01-06 -0.027719  0.005333  0.013261    ...     0.006042 -0.009331   \n",
       "\n",
       "                  XL      XLNX       XOM      XRAY       XRX      YHOO  \\\n",
       "Date                                                                     \n",
       "2000-01-04 -0.046057 -0.022990 -0.019340  0.000000 -0.047628 -0.069745   \n",
       "2000-01-05  0.008878 -0.022131  0.053082  0.017140  0.050209 -0.076194   \n",
       "2000-01-06  0.007547 -0.090705  0.050406  0.001307 -0.020834 -0.108784   \n",
       "\n",
       "                 YUM      ZION  \n",
       "Date                            \n",
       "2000-01-04 -0.020305 -0.049635  \n",
       "2000-01-05  0.005116 -0.001184  \n",
       "2000-01-06 -0.008539  0.014118  \n",
       "\n",
       "[3 rows x 467 columns]"
      ]
     },
     "execution_count": 16,
     "metadata": {},
     "output_type": "execute_result"
    }
   ],
   "source": [
    "df_r1 = df_r.drop(df_r.index[0])\n",
    "df_r1.head(3)"
   ]
  },
  {
   "cell_type": "code",
   "execution_count": 17,
   "metadata": {},
   "outputs": [
    {
     "data": {
      "text/plain": [
       "<matplotlib.axes._subplots.AxesSubplot at 0x27119d30358>"
      ]
     },
     "execution_count": 17,
     "metadata": {},
     "output_type": "execute_result"
    },
    {
     "data": {
      "image/png": "[encoded data removed]",
      "text/plain": [
       "<Figure size 432x288 with 1 Axes>"
      ]
     },
     "metadata": {},
     "output_type": "display_data"
    }
   ],
   "source": [
    "df_r1.IBM.plot()"
   ]
  },
  {
   "cell_type": "code",
   "execution_count": 18,
   "metadata": {},
   "outputs": [
    {
     "data": {
      "text/html": [
       "<div>\n",
       "<style scoped>\n",
       "    .dataframe tbody tr th:only-of-type {\n",
       "        vertical-align: middle;\n",
       "    }\n",
       "\n",
       "    .dataframe tbody tr th {\n",
       "        vertical-align: top;\n",
       "    }\n",
       "\n",
       "    .dataframe thead th {\n",
       "        text-align: right;\n",
       "    }\n",
       "</style>\n",
       "<table border=\"1\" class=\"dataframe\">\n",
       "  <thead>\n",
       "    <tr style=\"text-align: right;\">\n",
       "      <th></th>\n",
       "      <th>yesterday</th>\n",
       "      <th>today</th>\n",
       "      <th>tomorrow</th>\n",
       "      <th>bias</th>\n",
       "    </tr>\n",
       "  </thead>\n",
       "  <tbody>\n",
       "    <tr>\n",
       "      <th>0</th>\n",
       "      <td>-0.034533</td>\n",
       "      <td>0.034533</td>\n",
       "      <td>-0.017392</td>\n",
       "      <td>1</td>\n",
       "    </tr>\n",
       "    <tr>\n",
       "      <th>1</th>\n",
       "      <td>0.034533</td>\n",
       "      <td>-0.017392</td>\n",
       "      <td>-0.004396</td>\n",
       "      <td>1</td>\n",
       "    </tr>\n",
       "    <tr>\n",
       "      <th>2</th>\n",
       "      <td>-0.017392</td>\n",
       "      <td>-0.004396</td>\n",
       "      <td>0.038882</td>\n",
       "      <td>1</td>\n",
       "    </tr>\n",
       "  </tbody>\n",
       "</table>\n",
       "</div>"
      ],
      "text/plain": [
       "   yesterday     today  tomorrow  bias\n",
       "0  -0.034533  0.034533 -0.017392     1\n",
       "1   0.034533 -0.017392 -0.004396     1\n",
       "2  -0.017392 -0.004396  0.038882     1"
      ]
     },
     "execution_count": 18,
     "metadata": {},
     "output_type": "execute_result"
    }
   ],
   "source": [
    "IBM_LR = pd.DataFrame()\n",
    "IBM_LR['yesterday'] = df_r1.IBM.shift(periods=2).values[2:]\n",
    "IBM_LR['today'] = df_r1.IBM.shift(periods=1).values[2:]\n",
    "IBM_LR['tomorrow'] = df_r1.IBM.values[2:]\n",
    "IBM_LR['bias'] = 1\n",
    "IBM_LR.head(3)"
   ]
  },
  {
   "cell_type": "code",
   "execution_count": 19,
   "metadata": {},
   "outputs": [
    {
     "data": {
      "text/plain": [
       "array([-0.01872106, -0.04186459,  0.00010331])"
      ]
     },
     "execution_count": 19,
     "metadata": {},
     "output_type": "execute_result"
    }
   ],
   "source": [
    "X = IBM_LR[['yesterday','today','bias']].values\n",
    "y = IBM_LR['tomorrow'].values\n",
    "A = np.matmul(X.T,X)\n",
    "b = np.matmul(X.T,y)\n",
    "wopt = np.linalg.solve(A,b)\n",
    "wopt"
   ]
  },
  {
   "cell_type": "code",
   "execution_count": 20,
   "metadata": {},
   "outputs": [],
   "source": [
    "def RMSE(yh,y):\n",
    "    return np.sqrt(((yh-y)**2).mean())"
   ]
  },
  {
   "cell_type": "code",
   "execution_count": 21,
   "metadata": {},
   "outputs": [
    {
     "data": {
      "text/plain": [
       "0.016496408360083384"
      ]
     },
     "execution_count": 21,
     "metadata": {},
     "output_type": "execute_result"
    }
   ],
   "source": [
    "yh = np.matmul(X,wopt)\n",
    "RMSE(yh,y)"
   ]
  },
  {
   "cell_type": "code",
   "execution_count": 22,
   "metadata": {},
   "outputs": [
    {
     "data": {
      "text/plain": [
       "0.01651325665216701"
      ]
     },
     "execution_count": 22,
     "metadata": {},
     "output_type": "execute_result"
    }
   ],
   "source": [
    "y.std()"
   ]
  }
 ],
 "metadata": {
  "kernelspec": {
   "display_name": "Python 3",
   "language": "python",
   "name": "python3"
  },
  "language_info": {
   "codemirror_mode": {
    "name": "ipython",
    "version": 3
   },
   "file_extension": ".py",
   "mimetype": "text/x-python",
   "name": "python",
   "nbconvert_exporter": "python",
   "pygments_lexer": "ipython3",
   "version": "3.6.5"
  }
 },
 "nbformat": 4,
 "nbformat_minor": 2
}
