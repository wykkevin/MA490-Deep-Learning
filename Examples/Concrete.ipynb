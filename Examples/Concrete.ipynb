{
 "cells": [
  {
   "cell_type": "code",
   "execution_count": 2,
   "metadata": {},
   "outputs": [],
   "source": [
    "import numpy as np\n",
    "import pandas as pd\n",
    "from keras.models import Sequential\n",
    "from keras.layers.core import Dense, Activation\n",
    "from keras.optimizers import Adam, SGD\n",
    "import matplotlib.pyplot as plt\n",
    "%matplotlib inline"
   ]
  },
  {
   "cell_type": "code",
   "execution_count": 3,
   "metadata": {},
   "outputs": [
    {
     "data": {
      "text/html": [
       "<div>\n",
       "<style scoped>\n",
       "    .dataframe tbody tr th:only-of-type {\n",
       "        vertical-align: middle;\n",
       "    }\n",
       "\n",
       "    .dataframe tbody tr th {\n",
       "        vertical-align: top;\n",
       "    }\n",
       "\n",
       "    .dataframe thead th {\n",
       "        text-align: right;\n",
       "    }\n",
       "</style>\n",
       "<table border=\"1\" class=\"dataframe\">\n",
       "  <thead>\n",
       "    <tr style=\"text-align: right;\">\n",
       "      <th></th>\n",
       "      <th>Cement (component 1)(kg in a m^3 mixture)</th>\n",
       "      <th>Blast Furnace Slag (component 2)(kg in a m^3 mixture)</th>\n",
       "      <th>Fly Ash (component 3)(kg in a m^3 mixture)</th>\n",
       "      <th>Water  (component 4)(kg in a m^3 mixture)</th>\n",
       "      <th>Superplasticizer (component 5)(kg in a m^3 mixture)</th>\n",
       "      <th>Coarse Aggregate  (component 6)(kg in a m^3 mixture)</th>\n",
       "      <th>Fine Aggregate (component 7)(kg in a m^3 mixture)</th>\n",
       "      <th>Age (day)</th>\n",
       "      <th>Concrete compressive strength(MPa, megapascals)</th>\n",
       "    </tr>\n",
       "  </thead>\n",
       "  <tbody>\n",
       "    <tr>\n",
       "      <th>0</th>\n",
       "      <td>233.81</td>\n",
       "      <td>0.0</td>\n",
       "      <td>94.58</td>\n",
       "      <td>197.89</td>\n",
       "      <td>4.567</td>\n",
       "      <td>947.04</td>\n",
       "      <td>852.16</td>\n",
       "      <td>28</td>\n",
       "      <td>22.835445</td>\n",
       "    </tr>\n",
       "    <tr>\n",
       "      <th>1</th>\n",
       "      <td>251.81</td>\n",
       "      <td>0.0</td>\n",
       "      <td>99.94</td>\n",
       "      <td>146.14</td>\n",
       "      <td>12.350</td>\n",
       "      <td>1006.00</td>\n",
       "      <td>899.76</td>\n",
       "      <td>56</td>\n",
       "      <td>44.140254</td>\n",
       "    </tr>\n",
       "    <tr>\n",
       "      <th>2</th>\n",
       "      <td>252.00</td>\n",
       "      <td>0.0</td>\n",
       "      <td>0.00</td>\n",
       "      <td>186.00</td>\n",
       "      <td>0.000</td>\n",
       "      <td>1111.00</td>\n",
       "      <td>784.00</td>\n",
       "      <td>7</td>\n",
       "      <td>11.465986</td>\n",
       "    </tr>\n",
       "  </tbody>\n",
       "</table>\n",
       "</div>"
      ],
      "text/plain": [
       "  ...\n",
       "0 ...\n",
       "1 ...\n",
       "2 ...\n",
       "\n",
       "[3 rows x 9 columns]"
      ]
     },
     "execution_count": 3,
     "metadata": {},
     "output_type": "execute_result"
    }
   ],
   "source": [
    "df = pd.read_csv(\"Concrete_train.csv\")\n",
    "df.head(3)"
   ]
  },
  {
   "cell_type": "code",
   "execution_count": 4,
   "metadata": {},
   "outputs": [
    {
     "data": {
      "text/plain": [
       "(700, 9)"
      ]
     },
     "execution_count": 4,
     "metadata": {},
     "output_type": "execute_result"
    }
   ],
   "source": [
    "df.shape"
   ]
  },
  {
   "cell_type": "code",
   "execution_count": 9,
   "metadata": {},
   "outputs": [],
   "source": [
    "features = df.drop(df.columns[-1],axis=1)\n",
    "features=(features-features.mean())/features.std()\n",
    "target = df[df.columns[-1]]\n",
    "X = features.values\n",
    "y = target.values"
   ]
  },
  {
   "cell_type": "code",
   "execution_count": 10,
   "metadata": {},
   "outputs": [
    {
     "data": {
      "text/plain": [
       "(700,)"
      ]
     },
     "execution_count": 10,
     "metadata": {},
     "output_type": "execute_result"
    }
   ],
   "source": [
    "y.shape"
   ]
  },
  {
   "cell_type": "code",
   "execution_count": 28,
   "metadata": {},
   "outputs": [
    {
     "name": "stdout",
     "output_type": "stream",
     "text": [
      "RMSE validation = 6.246475403010432\n"
     ]
    },
    {
     "data": {
      "image/png": "[encoded data removed]",
      "text/plain": [
       "<Figure size 432x288 with 1 Axes>"
      ]
     },
     "metadata": {},
     "output_type": "display_data"
    }
   ],
   "source": [
    "model = Sequential()\n",
    "model.add(Dense(8,input_shape=(8,)))\n",
    "model.add(Activation('relu'))\n",
    "model.add(Dense(8,input_shape=(8,)))\n",
    "model.add(Activation('relu'))\n",
    "model.add(Dense(8,input_shape=(8,)))\n",
    "model.add(Activation('relu'))\n",
    "model.add(Dense(8,input_shape=(8,)))\n",
    "model.add(Activation('relu'))\n",
    "model.add(Dense(8,input_shape=(8,)))\n",
    "model.add(Activation('relu'))\n",
    "model.add(Dense(8,input_shape=(8,)))\n",
    "model.add(Activation('relu'))\n",
    "model.add(Dense(8,input_shape=(8,)))\n",
    "model.add(Activation('relu'))\n",
    "model.add(Dense(8,input_shape=(8,)))\n",
    "model.add(Activation('relu'))\n",
    "model.add(Dense(8,input_shape=(8,)))\n",
    "model.add(Activation('relu'))\n",
    "model.add(Dense(1))\n",
    "model.compile(loss=\"mean_squared_error\",optimizer=\"Adam\")\n",
    "hist = model.fit(X,y,epochs=1000,validation_split=0.2,verbose=0)\n",
    "results = pd.DataFrame()\n",
    "results['epoch'] = hist.epoch\n",
    "results['epoch'] = results['epoch'] + 1\n",
    "results['training'] = np.sqrt(hist.history['loss'])\n",
    "results['validation'] = np.sqrt(hist.history['val_loss'])\n",
    "results['baseline'] = y.std()\n",
    "ax = results.plot.line(x='epoch',y='training')\n",
    "ax = results.plot.line(x='epoch',y='validation',ax=ax)\n",
    "results.plot.line(x='epoch',y='baseline',ax=ax)\n",
    "print(\"RMSE validation =\",results.validation.iloc[-1])\n",
    "# 只有一层会Underfitting 再加一层\n",
    "# 但加linear layer是没用的"
   ]
  },
  {
   "cell_type": "code",
   "execution_count": 29,
   "metadata": {},
   "outputs": [
    {
     "name": "stdout",
     "output_type": "stream",
     "text": [
      "RMSE training = 3.928211055922397\n"
     ]
    }
   ],
   "source": [
    "print(\"RMSE training =\",results.training.iloc[-1])"
   ]
  },
  {
   "cell_type": "code",
   "execution_count": null,
   "metadata": {},
   "outputs": [],
   "source": []
  },
  {
   "cell_type": "code",
   "execution_count": null,
   "metadata": {},
   "outputs": [],
   "source": []
  }
 ],
 "metadata": {
  "kernelspec": {
   "display_name": "Python 3",
   "language": "python",
   "name": "python3"
  },
  "language_info": {
   "codemirror_mode": {
    "name": "ipython",
    "version": 3
   },
   "file_extension": ".py",
   "mimetype": "text/x-python",
   "name": "python",
   "nbconvert_exporter": "python",
   "pygments_lexer": "ipython3",
   "version": "3.6.5"
  }
 },
 "nbformat": 4,
 "nbformat_minor": 2
}
