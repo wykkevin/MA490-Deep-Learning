{
 "cells": [
  {
   "cell_type": "code",
   "execution_count": 1,
   "metadata": {},
   "outputs": [
    {
     "name": "stderr",
     "output_type": "stream",
     "text": [
      "C:\\Users\\Administrator\\Anaconda3\\lib\\site-packages\\h5py\\__init__.py:36: FutureWarning: Conversion of the second argument of issubdtype from `float` to `np.floating` is deprecated. In future, it will be treated as `np.float64 == np.dtype(float).type`.\n",
      "  from ._conv import register_converters as _register_converters\n",
      "Using TensorFlow backend.\n"
     ]
    }
   ],
   "source": [
    "import numpy as np\n",
    "import pandas as pd\n",
    "from keras.models import Sequential\n",
    "from keras.layers.core import Dense, Activation\n",
    "from keras.optimizers import Adam\n",
    "import matplotlib.pyplot as plt\n",
    "%matplotlib inline"
   ]
  },
  {
   "cell_type": "code",
   "execution_count": 2,
   "metadata": {},
   "outputs": [
    {
     "data": {
      "text/html": [
       "<div>\n",
       "<style scoped>\n",
       "    .dataframe tbody tr th:only-of-type {\n",
       "        vertical-align: middle;\n",
       "    }\n",
       "\n",
       "    .dataframe tbody tr th {\n",
       "        vertical-align: top;\n",
       "    }\n",
       "\n",
       "    .dataframe thead th {\n",
       "        text-align: right;\n",
       "    }\n",
       "</style>\n",
       "<table border=\"1\" class=\"dataframe\">\n",
       "  <thead>\n",
       "    <tr style=\"text-align: right;\">\n",
       "      <th></th>\n",
       "      <th>fixed acidity</th>\n",
       "      <th>volatile acidity</th>\n",
       "      <th>citric acid</th>\n",
       "      <th>residual sugar</th>\n",
       "      <th>chlorides</th>\n",
       "      <th>free sulfur dioxide</th>\n",
       "      <th>total sulfur dioxide</th>\n",
       "      <th>density</th>\n",
       "      <th>pH</th>\n",
       "      <th>sulphates</th>\n",
       "      <th>alcohol</th>\n",
       "      <th>quality</th>\n",
       "    </tr>\n",
       "  </thead>\n",
       "  <tbody>\n",
       "    <tr>\n",
       "      <th>0</th>\n",
       "      <td>7.0</td>\n",
       "      <td>0.27</td>\n",
       "      <td>0.36</td>\n",
       "      <td>20.7</td>\n",
       "      <td>0.045</td>\n",
       "      <td>45.0</td>\n",
       "      <td>170.0</td>\n",
       "      <td>1.0010</td>\n",
       "      <td>3.00</td>\n",
       "      <td>0.45</td>\n",
       "      <td>8.8</td>\n",
       "      <td>6</td>\n",
       "    </tr>\n",
       "    <tr>\n",
       "      <th>1</th>\n",
       "      <td>6.3</td>\n",
       "      <td>0.30</td>\n",
       "      <td>0.34</td>\n",
       "      <td>1.6</td>\n",
       "      <td>0.049</td>\n",
       "      <td>14.0</td>\n",
       "      <td>132.0</td>\n",
       "      <td>0.9940</td>\n",
       "      <td>3.30</td>\n",
       "      <td>0.49</td>\n",
       "      <td>9.5</td>\n",
       "      <td>6</td>\n",
       "    </tr>\n",
       "    <tr>\n",
       "      <th>2</th>\n",
       "      <td>8.1</td>\n",
       "      <td>0.28</td>\n",
       "      <td>0.40</td>\n",
       "      <td>6.9</td>\n",
       "      <td>0.050</td>\n",
       "      <td>30.0</td>\n",
       "      <td>97.0</td>\n",
       "      <td>0.9951</td>\n",
       "      <td>3.26</td>\n",
       "      <td>0.44</td>\n",
       "      <td>10.1</td>\n",
       "      <td>6</td>\n",
       "    </tr>\n",
       "  </tbody>\n",
       "</table>\n",
       "</div>"
      ],
      "text/plain": [
       "   fixed acidity  volatile acidity  citric acid  residual sugar  chlorides  \\\n",
       "0            7.0              0.27         0.36            20.7      0.045   \n",
       "1            6.3              0.30         0.34             1.6      0.049   \n",
       "2            8.1              0.28         0.40             6.9      0.050   \n",
       "\n",
       "   free sulfur dioxide  total sulfur dioxide  density    pH  sulphates  \\\n",
       "0                 45.0                 170.0   1.0010  3.00       0.45   \n",
       "1                 14.0                 132.0   0.9940  3.30       0.49   \n",
       "2                 30.0                  97.0   0.9951  3.26       0.44   \n",
       "\n",
       "   alcohol  quality  \n",
       "0      8.8        6  \n",
       "1      9.5        6  \n",
       "2     10.1        6  "
      ]
     },
     "execution_count": 2,
     "metadata": {},
     "output_type": "execute_result"
    }
   ],
   "source": [
    "df = pd.read_csv('wine_quality_white.csv',sep=';')\n",
    "df.head(3)"
   ]
  },
  {
   "cell_type": "code",
   "execution_count": 3,
   "metadata": {},
   "outputs": [
    {
     "data": {
      "text/plain": [
       "3      20\n",
       "4     163\n",
       "5    1457\n",
       "6    2198\n",
       "7     880\n",
       "8     175\n",
       "9       5\n",
       "Name: quality, dtype: int64"
      ]
     },
     "execution_count": 3,
     "metadata": {},
     "output_type": "execute_result"
    }
   ],
   "source": [
    "df.quality.value_counts().sort_index()"
   ]
  },
  {
   "cell_type": "code",
   "execution_count": 4,
   "metadata": {},
   "outputs": [],
   "source": [
    "df['rating'] = pd.qcut(df.quality,[0,0.4,1.0],labels=['bad','good'],retbins=False)"
   ]
  },
  {
   "cell_type": "code",
   "execution_count": 5,
   "metadata": {},
   "outputs": [
    {
     "data": {
      "text/plain": [
       "bad     3838\n",
       "good    1060\n",
       "Name: rating, dtype: int64"
      ]
     },
     "execution_count": 5,
     "metadata": {},
     "output_type": "execute_result"
    }
   ],
   "source": [
    "df.rating.value_counts()"
   ]
  },
  {
   "cell_type": "code",
   "execution_count": 6,
   "metadata": {},
   "outputs": [],
   "source": [
    "features = df.drop(['quality','rating'],axis=1)\n",
    "target = df['rating']"
   ]
  },
  {
   "cell_type": "code",
   "execution_count": 7,
   "metadata": {},
   "outputs": [
    {
     "data": {
      "text/plain": [
       "0    bad\n",
       "1    bad\n",
       "2    bad\n",
       "Name: rating, dtype: category\n",
       "Categories (2, object): [bad < good]"
      ]
     },
     "execution_count": 7,
     "metadata": {},
     "output_type": "execute_result"
    }
   ],
   "source": [
    "target.head(3)"
   ]
  },
  {
   "cell_type": "code",
   "execution_count": null,
   "metadata": {},
   "outputs": [],
   "source": []
  },
  {
   "cell_type": "code",
   "execution_count": 8,
   "metadata": {},
   "outputs": [
    {
     "data": {
      "text/html": [
       "<div>\n",
       "<style scoped>\n",
       "    .dataframe tbody tr th:only-of-type {\n",
       "        vertical-align: middle;\n",
       "    }\n",
       "\n",
       "    .dataframe tbody tr th {\n",
       "        vertical-align: top;\n",
       "    }\n",
       "\n",
       "    .dataframe thead th {\n",
       "        text-align: right;\n",
       "    }\n",
       "</style>\n",
       "<table border=\"1\" class=\"dataframe\">\n",
       "  <thead>\n",
       "    <tr style=\"text-align: right;\">\n",
       "      <th></th>\n",
       "      <th>fixed acidity</th>\n",
       "      <th>volatile acidity</th>\n",
       "      <th>citric acid</th>\n",
       "      <th>residual sugar</th>\n",
       "      <th>chlorides</th>\n",
       "      <th>free sulfur dioxide</th>\n",
       "      <th>total sulfur dioxide</th>\n",
       "      <th>density</th>\n",
       "      <th>pH</th>\n",
       "      <th>sulphates</th>\n",
       "      <th>alcohol</th>\n",
       "      <th>quality</th>\n",
       "      <th>rating_bad</th>\n",
       "      <th>rating_good</th>\n",
       "    </tr>\n",
       "  </thead>\n",
       "  <tbody>\n",
       "    <tr>\n",
       "      <th>0</th>\n",
       "      <td>7.0</td>\n",
       "      <td>0.27</td>\n",
       "      <td>0.36</td>\n",
       "      <td>20.7</td>\n",
       "      <td>0.045</td>\n",
       "      <td>45.0</td>\n",
       "      <td>170.0</td>\n",
       "      <td>1.0010</td>\n",
       "      <td>3.00</td>\n",
       "      <td>0.45</td>\n",
       "      <td>8.8</td>\n",
       "      <td>6</td>\n",
       "      <td>1</td>\n",
       "      <td>0</td>\n",
       "    </tr>\n",
       "    <tr>\n",
       "      <th>1</th>\n",
       "      <td>6.3</td>\n",
       "      <td>0.30</td>\n",
       "      <td>0.34</td>\n",
       "      <td>1.6</td>\n",
       "      <td>0.049</td>\n",
       "      <td>14.0</td>\n",
       "      <td>132.0</td>\n",
       "      <td>0.9940</td>\n",
       "      <td>3.30</td>\n",
       "      <td>0.49</td>\n",
       "      <td>9.5</td>\n",
       "      <td>6</td>\n",
       "      <td>1</td>\n",
       "      <td>0</td>\n",
       "    </tr>\n",
       "    <tr>\n",
       "      <th>2</th>\n",
       "      <td>8.1</td>\n",
       "      <td>0.28</td>\n",
       "      <td>0.40</td>\n",
       "      <td>6.9</td>\n",
       "      <td>0.050</td>\n",
       "      <td>30.0</td>\n",
       "      <td>97.0</td>\n",
       "      <td>0.9951</td>\n",
       "      <td>3.26</td>\n",
       "      <td>0.44</td>\n",
       "      <td>10.1</td>\n",
       "      <td>6</td>\n",
       "      <td>1</td>\n",
       "      <td>0</td>\n",
       "    </tr>\n",
       "    <tr>\n",
       "      <th>3</th>\n",
       "      <td>7.2</td>\n",
       "      <td>0.23</td>\n",
       "      <td>0.32</td>\n",
       "      <td>8.5</td>\n",
       "      <td>0.058</td>\n",
       "      <td>47.0</td>\n",
       "      <td>186.0</td>\n",
       "      <td>0.9956</td>\n",
       "      <td>3.19</td>\n",
       "      <td>0.40</td>\n",
       "      <td>9.9</td>\n",
       "      <td>6</td>\n",
       "      <td>1</td>\n",
       "      <td>0</td>\n",
       "    </tr>\n",
       "    <tr>\n",
       "      <th>4</th>\n",
       "      <td>7.2</td>\n",
       "      <td>0.23</td>\n",
       "      <td>0.32</td>\n",
       "      <td>8.5</td>\n",
       "      <td>0.058</td>\n",
       "      <td>47.0</td>\n",
       "      <td>186.0</td>\n",
       "      <td>0.9956</td>\n",
       "      <td>3.19</td>\n",
       "      <td>0.40</td>\n",
       "      <td>9.9</td>\n",
       "      <td>6</td>\n",
       "      <td>1</td>\n",
       "      <td>0</td>\n",
       "    </tr>\n",
       "  </tbody>\n",
       "</table>\n",
       "</div>"
      ],
      "text/plain": [
       "   fixed acidity  volatile acidity  citric acid  residual sugar  chlorides  \\\n",
       "0            7.0              0.27         0.36            20.7      0.045   \n",
       "1            6.3              0.30         0.34             1.6      0.049   \n",
       "2            8.1              0.28         0.40             6.9      0.050   \n",
       "3            7.2              0.23         0.32             8.5      0.058   \n",
       "4            7.2              0.23         0.32             8.5      0.058   \n",
       "\n",
       "   free sulfur dioxide  total sulfur dioxide  density    pH  sulphates  \\\n",
       "0                 45.0                 170.0   1.0010  3.00       0.45   \n",
       "1                 14.0                 132.0   0.9940  3.30       0.49   \n",
       "2                 30.0                  97.0   0.9951  3.26       0.44   \n",
       "3                 47.0                 186.0   0.9956  3.19       0.40   \n",
       "4                 47.0                 186.0   0.9956  3.19       0.40   \n",
       "\n",
       "   alcohol  quality  rating_bad  rating_good  \n",
       "0      8.8        6           1            0  \n",
       "1      9.5        6           1            0  \n",
       "2     10.1        6           1            0  \n",
       "3      9.9        6           1            0  \n",
       "4      9.9        6           1            0  "
      ]
     },
     "execution_count": 8,
     "metadata": {},
     "output_type": "execute_result"
    }
   ],
   "source": [
    "df1 = pd.get_dummies(df)\n",
    "df1.head()"
   ]
  },
  {
   "cell_type": "code",
   "execution_count": 9,
   "metadata": {},
   "outputs": [
    {
     "data": {
      "text/html": [
       "<div>\n",
       "<style scoped>\n",
       "    .dataframe tbody tr th:only-of-type {\n",
       "        vertical-align: middle;\n",
       "    }\n",
       "\n",
       "    .dataframe tbody tr th {\n",
       "        vertical-align: top;\n",
       "    }\n",
       "\n",
       "    .dataframe thead th {\n",
       "        text-align: right;\n",
       "    }\n",
       "</style>\n",
       "<table border=\"1\" class=\"dataframe\">\n",
       "  <thead>\n",
       "    <tr style=\"text-align: right;\">\n",
       "      <th></th>\n",
       "      <th>bad</th>\n",
       "      <th>good</th>\n",
       "    </tr>\n",
       "  </thead>\n",
       "  <tbody>\n",
       "    <tr>\n",
       "      <th>0</th>\n",
       "      <td>1</td>\n",
       "      <td>0</td>\n",
       "    </tr>\n",
       "    <tr>\n",
       "      <th>1</th>\n",
       "      <td>1</td>\n",
       "      <td>0</td>\n",
       "    </tr>\n",
       "    <tr>\n",
       "      <th>2</th>\n",
       "      <td>1</td>\n",
       "      <td>0</td>\n",
       "    </tr>\n",
       "    <tr>\n",
       "      <th>3</th>\n",
       "      <td>1</td>\n",
       "      <td>0</td>\n",
       "    </tr>\n",
       "    <tr>\n",
       "      <th>4</th>\n",
       "      <td>1</td>\n",
       "      <td>0</td>\n",
       "    </tr>\n",
       "  </tbody>\n",
       "</table>\n",
       "</div>"
      ],
      "text/plain": [
       "   bad  good\n",
       "0    1     0\n",
       "1    1     0\n",
       "2    1     0\n",
       "3    1     0\n",
       "4    1     0"
      ]
     },
     "execution_count": 9,
     "metadata": {},
     "output_type": "execute_result"
    }
   ],
   "source": [
    "target = pd.get_dummies(target)\n",
    "target.head()"
   ]
  },
  {
   "cell_type": "code",
   "execution_count": 10,
   "metadata": {},
   "outputs": [],
   "source": [
    "X = features.values\n",
    "Y = target.values"
   ]
  },
  {
   "cell_type": "code",
   "execution_count": 11,
   "metadata": {},
   "outputs": [
    {
     "data": {
      "text/plain": [
       "(4898, 11)"
      ]
     },
     "execution_count": 11,
     "metadata": {},
     "output_type": "execute_result"
    }
   ],
   "source": [
    "X.shape"
   ]
  },
  {
   "cell_type": "code",
   "execution_count": 12,
   "metadata": {},
   "outputs": [
    {
     "name": "stdout",
     "output_type": "stream",
     "text": [
      "Epoch 1/100\n",
      "4898/4898 [==============================] - 1s 194us/step - loss: 12.5921 - acc: 0.2166\n",
      "Epoch 2/100\n",
      "4898/4898 [==============================] - 0s 96us/step - loss: 10.4639 - acc: 0.3036\n",
      "Epoch 3/100\n",
      "4898/4898 [==============================] - 0s 91us/step - loss: 1.7762 - acc: 0.6895\n",
      "Epoch 4/100\n",
      "4898/4898 [==============================] - 0s 88us/step - loss: 1.2662 - acc: 0.6911\n",
      "Epoch 5/100\n",
      "4898/4898 [==============================] - 0s 90us/step - loss: 0.8798 - acc: 0.7209\n",
      "Epoch 6/100\n",
      "4898/4898 [==============================] - 0s 86us/step - loss: 0.6188 - acc: 0.7558\n",
      "Epoch 7/100\n",
      "4898/4898 [==============================] - 0s 87us/step - loss: 0.5197 - acc: 0.7775\n",
      "Epoch 8/100\n",
      "4898/4898 [==============================] - 0s 94us/step - loss: 0.4964 - acc: 0.7840\n",
      "Epoch 9/100\n",
      "4898/4898 [==============================] - 0s 92us/step - loss: 0.4888 - acc: 0.7838\n",
      "Epoch 10/100\n",
      "4898/4898 [==============================] - 0s 87us/step - loss: 0.4861 - acc: 0.7836\n",
      "Epoch 11/100\n",
      "4898/4898 [==============================] - 0s 88us/step - loss: 0.4846 - acc: 0.7854\n",
      "Epoch 12/100\n",
      "4898/4898 [==============================] - 0s 91us/step - loss: 0.4814 - acc: 0.7856\n",
      "Epoch 13/100\n",
      "4898/4898 [==============================] - 0s 92us/step - loss: 0.4852 - acc: 0.7850\n",
      "Epoch 14/100\n",
      "4898/4898 [==============================] - 0s 93us/step - loss: 0.4829 - acc: 0.7844\n",
      "Epoch 15/100\n",
      "4898/4898 [==============================] - 0s 95us/step - loss: 0.4834 - acc: 0.7852\n",
      "Epoch 16/100\n",
      "4898/4898 [==============================] - 0s 91us/step - loss: 0.4802 - acc: 0.7866\n",
      "Epoch 17/100\n",
      "4898/4898 [==============================] - 0s 91us/step - loss: 0.4747 - acc: 0.7875\n",
      "Epoch 18/100\n",
      "4898/4898 [==============================] - 0s 91us/step - loss: 0.4748 - acc: 0.7881\n",
      "Epoch 19/100\n",
      "4898/4898 [==============================] - 0s 90us/step - loss: 0.4780 - acc: 0.7877\n",
      "Epoch 20/100\n",
      "4898/4898 [==============================] - 0s 90us/step - loss: 0.4748 - acc: 0.7864\n",
      "Epoch 21/100\n",
      "4898/4898 [==============================] - 0s 90us/step - loss: 0.4737 - acc: 0.7909\n",
      "Epoch 22/100\n",
      "4898/4898 [==============================] - 0s 93us/step - loss: 0.4729 - acc: 0.7858\n",
      "Epoch 23/100\n",
      "4898/4898 [==============================] - 0s 90us/step - loss: 0.4741 - acc: 0.7915\n",
      "Epoch 24/100\n",
      "4898/4898 [==============================] - 0s 94us/step - loss: 0.4768 - acc: 0.7913\n",
      "Epoch 25/100\n",
      "4898/4898 [==============================] - 0s 91us/step - loss: 0.4781 - acc: 0.7869\n",
      "Epoch 26/100\n",
      "4898/4898 [==============================] - 0s 89us/step - loss: 0.4744 - acc: 0.7869\n",
      "Epoch 27/100\n",
      "4898/4898 [==============================] - 0s 89us/step - loss: 0.4714 - acc: 0.7879\n",
      "Epoch 28/100\n",
      "4898/4898 [==============================] - 0s 90us/step - loss: 0.4720 - acc: 0.7920\n",
      "Epoch 29/100\n",
      "4898/4898 [==============================] - 0s 95us/step - loss: 0.4659 - acc: 0.7924\n",
      "Epoch 30/100\n",
      "4898/4898 [==============================] - 0s 96us/step - loss: 0.4676 - acc: 0.7907\n",
      "Epoch 31/100\n",
      "4898/4898 [==============================] - 0s 90us/step - loss: 0.4656 - acc: 0.7895\n",
      "Epoch 32/100\n",
      "4898/4898 [==============================] - 0s 91us/step - loss: 0.4654 - acc: 0.7885\n",
      "Epoch 33/100\n",
      "4898/4898 [==============================] - 0s 92us/step - loss: 0.4662 - acc: 0.7909\n",
      "Epoch 34/100\n",
      "4898/4898 [==============================] - 0s 93us/step - loss: 0.4681 - acc: 0.7907\n",
      "Epoch 35/100\n",
      "4898/4898 [==============================] - 0s 93us/step - loss: 0.4641 - acc: 0.7924\n",
      "Epoch 36/100\n",
      "4898/4898 [==============================] - 0s 97us/step - loss: 0.4671 - acc: 0.7913\n",
      "Epoch 37/100\n",
      "4898/4898 [==============================] - 0s 92us/step - loss: 0.4627 - acc: 0.7936\n",
      "Epoch 38/100\n",
      "4898/4898 [==============================] - 0s 91us/step - loss: 0.4684 - acc: 0.7887\n",
      "Epoch 39/100\n",
      "4898/4898 [==============================] - 0s 95us/step - loss: 0.4602 - acc: 0.7936\n",
      "Epoch 40/100\n",
      "4898/4898 [==============================] - 0s 93us/step - loss: 0.4601 - acc: 0.7893\n",
      "Epoch 41/100\n",
      "4898/4898 [==============================] - 0s 94us/step - loss: 0.4615 - acc: 0.7928\n",
      "Epoch 42/100\n",
      "4898/4898 [==============================] - 0s 89us/step - loss: 0.4607 - acc: 0.7958\n",
      "Epoch 43/100\n",
      "4898/4898 [==============================] - 0s 91us/step - loss: 0.4632 - acc: 0.7942\n",
      "Epoch 44/100\n",
      "4898/4898 [==============================] - 0s 89us/step - loss: 0.4594 - acc: 0.7922\n",
      "Epoch 45/100\n",
      "4898/4898 [==============================] - 0s 91us/step - loss: 0.4574 - acc: 0.7944\n",
      "Epoch 46/100\n",
      "4898/4898 [==============================] - 0s 93us/step - loss: 0.4612 - acc: 0.7911\n",
      "Epoch 47/100\n",
      "4898/4898 [==============================] - 0s 89us/step - loss: 0.4595 - acc: 0.7938\n",
      "Epoch 48/100\n",
      "4898/4898 [==============================] - 0s 91us/step - loss: 0.4637 - acc: 0.7893\n",
      "Epoch 49/100\n",
      "4898/4898 [==============================] - 0s 92us/step - loss: 0.4579 - acc: 0.7940\n",
      "Epoch 50/100\n",
      "4898/4898 [==============================] - 0s 93us/step - loss: 0.4618 - acc: 0.7899\n",
      "Epoch 51/100\n",
      "4898/4898 [==============================] - 0s 92us/step - loss: 0.4579 - acc: 0.7930\n",
      "Epoch 52/100\n",
      "4898/4898 [==============================] - 0s 90us/step - loss: 0.4571 - acc: 0.7915\n",
      "Epoch 53/100\n",
      "4898/4898 [==============================] - 0s 90us/step - loss: 0.4548 - acc: 0.7967\n",
      "Epoch 54/100\n",
      "4898/4898 [==============================] - 0s 93us/step - loss: 0.4555 - acc: 0.7956\n",
      "Epoch 55/100\n",
      "4898/4898 [==============================] - 0s 92us/step - loss: 0.4540 - acc: 0.7928\n",
      "Epoch 56/100\n",
      "4898/4898 [==============================] - 0s 94us/step - loss: 0.4588 - acc: 0.7940\n",
      "Epoch 57/100\n",
      "4898/4898 [==============================] - 0s 91us/step - loss: 0.4573 - acc: 0.7938\n",
      "Epoch 58/100\n",
      "4898/4898 [==============================] - 0s 91us/step - loss: 0.4546 - acc: 0.7948\n",
      "Epoch 59/100\n",
      "4898/4898 [==============================] - 0s 90us/step - loss: 0.4564 - acc: 0.7932\n",
      "Epoch 60/100\n",
      "4898/4898 [==============================] - 0s 92us/step - loss: 0.4562 - acc: 0.7946\n",
      "Epoch 61/100\n",
      "4898/4898 [==============================] - 0s 88us/step - loss: 0.4601 - acc: 0.7911\n",
      "Epoch 62/100\n",
      "4898/4898 [==============================] - 0s 89us/step - loss: 0.4617 - acc: 0.7891\n",
      "Epoch 63/100\n",
      "4898/4898 [==============================] - 0s 90us/step - loss: 0.4523 - acc: 0.7952: 0s - loss: 0.4460 - acc: \n",
      "Epoch 64/100\n",
      "4898/4898 [==============================] - 0s 92us/step - loss: 0.4554 - acc: 0.7915\n",
      "Epoch 65/100\n",
      "4898/4898 [==============================] - 0s 92us/step - loss: 0.4583 - acc: 0.7911\n",
      "Epoch 66/100\n",
      "4898/4898 [==============================] - 0s 89us/step - loss: 0.4575 - acc: 0.7907\n",
      "Epoch 67/100\n",
      "4898/4898 [==============================] - 0s 91us/step - loss: 0.4534 - acc: 0.7946\n",
      "Epoch 68/100\n",
      "4898/4898 [==============================] - 0s 92us/step - loss: 0.4507 - acc: 0.7958\n",
      "Epoch 69/100\n",
      "4898/4898 [==============================] - 0s 88us/step - loss: 0.4548 - acc: 0.7958\n",
      "Epoch 70/100\n",
      "4898/4898 [==============================] - 0s 90us/step - loss: 0.4500 - acc: 0.7967\n",
      "Epoch 71/100\n",
      "4898/4898 [==============================] - 0s 91us/step - loss: 0.4550 - acc: 0.7922\n",
      "Epoch 72/100\n",
      "4898/4898 [==============================] - 0s 92us/step - loss: 0.4575 - acc: 0.7932\n",
      "Epoch 73/100\n",
      "4898/4898 [==============================] - 0s 88us/step - loss: 0.4512 - acc: 0.7948\n",
      "Epoch 74/100\n",
      "4898/4898 [==============================] - 0s 89us/step - loss: 0.4513 - acc: 0.7928\n",
      "Epoch 75/100\n",
      "4898/4898 [==============================] - 0s 90us/step - loss: 0.4516 - acc: 0.7950\n",
      "Epoch 76/100\n",
      "4898/4898 [==============================] - 0s 89us/step - loss: 0.4549 - acc: 0.7936\n",
      "Epoch 77/100\n",
      "4898/4898 [==============================] - 0s 88us/step - loss: 0.4533 - acc: 0.7950\n",
      "Epoch 78/100\n",
      "4898/4898 [==============================] - 0s 89us/step - loss: 0.4499 - acc: 0.7934\n",
      "Epoch 79/100\n",
      "4898/4898 [==============================] - 0s 89us/step - loss: 0.4561 - acc: 0.7864\n",
      "Epoch 80/100\n",
      "4898/4898 [==============================] - 0s 89us/step - loss: 0.4511 - acc: 0.7952\n",
      "Epoch 81/100\n",
      "4898/4898 [==============================] - 0s 92us/step - loss: 0.4533 - acc: 0.7956\n",
      "Epoch 82/100\n"
     ]
    },
    {
     "name": "stdout",
     "output_type": "stream",
     "text": [
      "4898/4898 [==============================] - 0s 93us/step - loss: 0.4486 - acc: 0.7979\n",
      "Epoch 83/100\n",
      "4898/4898 [==============================] - 0s 85us/step - loss: 0.4501 - acc: 0.7969\n",
      "Epoch 84/100\n",
      "4898/4898 [==============================] - 0s 87us/step - loss: 0.4501 - acc: 0.7930\n",
      "Epoch 85/100\n",
      "4898/4898 [==============================] - 0s 84us/step - loss: 0.4488 - acc: 0.7920\n",
      "Epoch 86/100\n",
      "4898/4898 [==============================] - 0s 89us/step - loss: 0.4494 - acc: 0.7946\n",
      "Epoch 87/100\n",
      "4898/4898 [==============================] - 0s 85us/step - loss: 0.4500 - acc: 0.7971\n",
      "Epoch 88/100\n",
      "4898/4898 [==============================] - 0s 85us/step - loss: 0.4500 - acc: 0.7960\n",
      "Epoch 89/100\n",
      "4898/4898 [==============================] - 0s 93us/step - loss: 0.4475 - acc: 0.7950\n",
      "Epoch 90/100\n",
      "4898/4898 [==============================] - 0s 88us/step - loss: 0.4506 - acc: 0.7973\n",
      "Epoch 91/100\n",
      "4898/4898 [==============================] - 0s 86us/step - loss: 0.4553 - acc: 0.7905\n",
      "Epoch 92/100\n",
      "4898/4898 [==============================] - 0s 84us/step - loss: 0.4514 - acc: 0.7954\n",
      "Epoch 93/100\n",
      "4898/4898 [==============================] - 0s 90us/step - loss: 0.4486 - acc: 0.7944\n",
      "Epoch 94/100\n",
      "4898/4898 [==============================] - 0s 95us/step - loss: 0.4511 - acc: 0.7938\n",
      "Epoch 95/100\n",
      "4898/4898 [==============================] - 0s 97us/step - loss: 0.4480 - acc: 0.7932\n",
      "Epoch 96/100\n",
      "4898/4898 [==============================] - 0s 92us/step - loss: 0.4497 - acc: 0.7958\n",
      "Epoch 97/100\n",
      "4898/4898 [==============================] - 0s 92us/step - loss: 0.4523 - acc: 0.7915\n",
      "Epoch 98/100\n",
      "4898/4898 [==============================] - 0s 94us/step - loss: 0.4488 - acc: 0.7967\n",
      "Epoch 99/100\n",
      "4898/4898 [==============================] - 0s 102us/step - loss: 0.4536 - acc: 0.7936\n",
      "Epoch 100/100\n",
      "4898/4898 [==============================] - 0s 91us/step - loss: 0.4496 - acc: 0.7928\n"
     ]
    }
   ],
   "source": [
    "model = Sequential()\n",
    "model.add(Dense(2,input_shape=(11,)))\n",
    "model.add(Activation('softmax'))\n",
    "\n",
    "model.compile(loss='categorical_crossentropy',optimizer='Adam',metrics=['accuracy'])\n",
    "\n",
    "hist = model.fit(X,Y,epochs=100,verbose=1)"
   ]
  },
  {
   "cell_type": "code",
   "execution_count": 13,
   "metadata": {},
   "outputs": [
    {
     "data": {
      "text/plain": [
       "<matplotlib.axes._subplots.AxesSubplot at 0x16a93dac400>"
      ]
     },
     "execution_count": 13,
     "metadata": {},
     "output_type": "execute_result"
    },
    {
     "data": {
      "image/png": "[encoded data removed]",
      "text/plain": [
       "<Figure size 432x288 with 1 Axes>"
      ]
     },
     "metadata": {},
     "output_type": "display_data"
    }
   ],
   "source": [
    "accuracy = pd.DataFrame()\n",
    "accuracy['epoch'] = hist.epoch\n",
    "accuracy['accuracy'] = hist.history['acc']\n",
    "accuracy.plot.line(x='epoch',y='accuracy')"
   ]
  },
  {
   "cell_type": "code",
   "execution_count": 14,
   "metadata": {},
   "outputs": [
    {
     "data": {
      "text/plain": [
       "array([3838, 1060], dtype=uint32)"
      ]
     },
     "execution_count": 14,
     "metadata": {},
     "output_type": "execute_result"
    }
   ],
   "source": [
    "Y.sum(axis = 0)"
   ]
  },
  {
   "cell_type": "code",
   "execution_count": 15,
   "metadata": {},
   "outputs": [
    {
     "data": {
      "text/plain": [
       "0.7835851367905268"
      ]
     },
     "execution_count": 15,
     "metadata": {},
     "output_type": "execute_result"
    }
   ],
   "source": [
    "3838/(3838+1060)"
   ]
  },
  {
   "cell_type": "code",
   "execution_count": null,
   "metadata": {},
   "outputs": [],
   "source": []
  }
 ],
 "metadata": {
  "kernelspec": {
   "display_name": "Python 3",
   "language": "python",
   "name": "python3"
  },
  "language_info": {
   "codemirror_mode": {
    "name": "ipython",
    "version": 3
   },
   "file_extension": ".py",
   "mimetype": "text/x-python",
   "name": "python",
   "nbconvert_exporter": "python",
   "pygments_lexer": "ipython3",
   "version": "3.6.5"
  }
 },
 "nbformat": 4,
 "nbformat_minor": 2
}
