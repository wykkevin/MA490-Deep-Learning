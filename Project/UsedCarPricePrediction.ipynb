{
 "cells": [
  {
   "cell_type": "code",
   "execution_count": 32,
   "metadata": {},
   "outputs": [],
   "source": [
    "import numpy as np \n",
    "import pandas as pd \n",
    "from keras.models import Sequential \n",
    "from keras.layers import Dropout\n",
    "from keras.layers.core import Dense, Activation \n",
    "from keras.optimizers import Adam \n",
    "from keras.callbacks import EarlyStopping\n",
    "from time import time\n",
    "import matplotlib.pyplot as plt \n",
    "%matplotlib inline"
   ]
  },
  {
   "cell_type": "code",
   "execution_count": 33,
   "metadata": {},
   "outputs": [],
   "source": [
    "df = pd.read_csv('motoads_kaggle_v01_final_clean_classify_ver2.csv')"
   ]
  },
  {
   "cell_type": "code",
   "execution_count": 34,
   "metadata": {},
   "outputs": [
    {
     "data": {
      "text/html": [
       "<div>\n",
       "<style scoped>\n",
       "    .dataframe tbody tr th:only-of-type {\n",
       "        vertical-align: middle;\n",
       "    }\n",
       "\n",
       "    .dataframe tbody tr th {\n",
       "        vertical-align: top;\n",
       "    }\n",
       "\n",
       "    .dataframe thead th {\n",
       "        text-align: right;\n",
       "    }\n",
       "</style>\n",
       "<table border=\"1\" class=\"dataframe\">\n",
       "  <thead>\n",
       "    <tr style=\"text-align: right;\">\n",
       "      <th></th>\n",
       "      <th>maker-model</th>\n",
       "      <th>car_age</th>\n",
       "      <th>mileage</th>\n",
       "      <th>has_vin</th>\n",
       "      <th>fuel_type</th>\n",
       "      <th>gearbox_is_automat</th>\n",
       "      <th>gearbox_is_manual</th>\n",
       "      <th>transmission_fwd</th>\n",
       "      <th>transmission_rwd</th>\n",
       "      <th>transmission_awd</th>\n",
       "      <th>...</th>\n",
       "      <th>has_tv_tuner</th>\n",
       "      <th>n_features</th>\n",
       "      <th>seller_type_is_from_dealer</th>\n",
       "      <th>seller_type_is_from_private</th>\n",
       "      <th>price_level1</th>\n",
       "      <th>price_level2</th>\n",
       "      <th>price_level3</th>\n",
       "      <th>price_level4</th>\n",
       "      <th>price_level5</th>\n",
       "      <th>price_level6</th>\n",
       "    </tr>\n",
       "  </thead>\n",
       "  <tbody>\n",
       "    <tr>\n",
       "      <th>0</th>\n",
       "      <td>Fiat 124</td>\n",
       "      <td>48</td>\n",
       "      <td>10</td>\n",
       "      <td>0</td>\n",
       "      <td>Benzyna</td>\n",
       "      <td>0</td>\n",
       "      <td>1</td>\n",
       "      <td>0</td>\n",
       "      <td>1</td>\n",
       "      <td>0</td>\n",
       "      <td>...</td>\n",
       "      <td>0</td>\n",
       "      <td>0</td>\n",
       "      <td>0</td>\n",
       "      <td>1</td>\n",
       "      <td>0</td>\n",
       "      <td>0</td>\n",
       "      <td>0</td>\n",
       "      <td>1</td>\n",
       "      <td>0</td>\n",
       "      <td>0</td>\n",
       "    </tr>\n",
       "    <tr>\n",
       "      <th>1</th>\n",
       "      <td>Honda Jazz</td>\n",
       "      <td>8</td>\n",
       "      <td>110000</td>\n",
       "      <td>1</td>\n",
       "      <td>Benzyna</td>\n",
       "      <td>0</td>\n",
       "      <td>1</td>\n",
       "      <td>1</td>\n",
       "      <td>0</td>\n",
       "      <td>0</td>\n",
       "      <td>...</td>\n",
       "      <td>0</td>\n",
       "      <td>9</td>\n",
       "      <td>0</td>\n",
       "      <td>1</td>\n",
       "      <td>0</td>\n",
       "      <td>0</td>\n",
       "      <td>0</td>\n",
       "      <td>1</td>\n",
       "      <td>0</td>\n",
       "      <td>0</td>\n",
       "    </tr>\n",
       "    <tr>\n",
       "      <th>2</th>\n",
       "      <td>BMW Seria 3</td>\n",
       "      <td>17</td>\n",
       "      <td>261000</td>\n",
       "      <td>0</td>\n",
       "      <td>Benzyna</td>\n",
       "      <td>0</td>\n",
       "      <td>1</td>\n",
       "      <td>0</td>\n",
       "      <td>1</td>\n",
       "      <td>0</td>\n",
       "      <td>...</td>\n",
       "      <td>0</td>\n",
       "      <td>0</td>\n",
       "      <td>0</td>\n",
       "      <td>1</td>\n",
       "      <td>0</td>\n",
       "      <td>1</td>\n",
       "      <td>0</td>\n",
       "      <td>0</td>\n",
       "      <td>0</td>\n",
       "      <td>0</td>\n",
       "    </tr>\n",
       "  </tbody>\n",
       "</table>\n",
       "<p>3 rows × 102 columns</p>\n",
       "</div>"
      ],
      "text/plain": [
       "   maker-model  car_age  mileage  has_vin fuel_type  gearbox_is_automat  \\\n",
       "0     Fiat 124       48       10        0   Benzyna                   0   \n",
       "1   Honda Jazz        8   110000        1   Benzyna                   0   \n",
       "2  BMW Seria 3       17   261000        0   Benzyna                   0   \n",
       "\n",
       "   gearbox_is_manual  transmission_fwd  transmission_rwd  transmission_awd  \\\n",
       "0                  1                 0                 1                 0   \n",
       "1                  1                 1                 0                 0   \n",
       "2                  1                 0                 1                 0   \n",
       "\n",
       "       ...      has_tv_tuner n_features  seller_type_is_from_dealer  \\\n",
       "0      ...                 0          0                           0   \n",
       "1      ...                 0          9                           0   \n",
       "2      ...                 0          0                           0   \n",
       "\n",
       "   seller_type_is_from_private  price_level1  price_level2  price_level3  \\\n",
       "0                            1             0             0             0   \n",
       "1                            1             0             0             0   \n",
       "2                            1             0             1             0   \n",
       "\n",
       "   price_level4  price_level5  price_level6  \n",
       "0             1             0             0  \n",
       "1             1             0             0  \n",
       "2             0             0             0  \n",
       "\n",
       "[3 rows x 102 columns]"
      ]
     },
     "execution_count": 34,
     "metadata": {},
     "output_type": "execute_result"
    }
   ],
   "source": [
    "df.head(3)"
   ]
  },
  {
   "cell_type": "code",
   "execution_count": 35,
   "metadata": {},
   "outputs": [
    {
     "data": {
      "text/plain": [
       "(96582, 102)"
      ]
     },
     "execution_count": 35,
     "metadata": {},
     "output_type": "execute_result"
    }
   ],
   "source": [
    "df.shape"
   ]
  },
  {
   "cell_type": "code",
   "execution_count": 36,
   "metadata": {},
   "outputs": [],
   "source": [
    "df_new = pd.get_dummies(df)"
   ]
  },
  {
   "cell_type": "code",
   "execution_count": 37,
   "metadata": {},
   "outputs": [
    {
     "data": {
      "text/html": [
       "<div>\n",
       "<style scoped>\n",
       "    .dataframe tbody tr th:only-of-type {\n",
       "        vertical-align: middle;\n",
       "    }\n",
       "\n",
       "    .dataframe tbody tr th {\n",
       "        vertical-align: top;\n",
       "    }\n",
       "\n",
       "    .dataframe thead th {\n",
       "        text-align: right;\n",
       "    }\n",
       "</style>\n",
       "<table border=\"1\" class=\"dataframe\">\n",
       "  <thead>\n",
       "    <tr style=\"text-align: right;\">\n",
       "      <th></th>\n",
       "      <th>car_age</th>\n",
       "      <th>mileage</th>\n",
       "      <th>has_vin</th>\n",
       "      <th>gearbox_is_automat</th>\n",
       "      <th>gearbox_is_manual</th>\n",
       "      <th>transmission_fwd</th>\n",
       "      <th>transmission_rwd</th>\n",
       "      <th>transmission_awd</th>\n",
       "      <th>is_from_poland</th>\n",
       "      <th>is_from_abroad</th>\n",
       "      <th>...</th>\n",
       "      <th>color_Br?zowy</th>\n",
       "      <th>color_Czarny</th>\n",
       "      <th>color_Czerwony</th>\n",
       "      <th>color_Fioletowy</th>\n",
       "      <th>color_Inny kolor</th>\n",
       "      <th>color_Niebieski</th>\n",
       "      <th>color_Srebrny</th>\n",
       "      <th>color_Szary</th>\n",
       "      <th>color_Z?oty</th>\n",
       "      <th>color_Zielony</th>\n",
       "    </tr>\n",
       "  </thead>\n",
       "  <tbody>\n",
       "    <tr>\n",
       "      <th>0</th>\n",
       "      <td>48</td>\n",
       "      <td>10</td>\n",
       "      <td>0</td>\n",
       "      <td>0</td>\n",
       "      <td>1</td>\n",
       "      <td>0</td>\n",
       "      <td>1</td>\n",
       "      <td>0</td>\n",
       "      <td>0</td>\n",
       "      <td>1</td>\n",
       "      <td>...</td>\n",
       "      <td>0</td>\n",
       "      <td>0</td>\n",
       "      <td>0</td>\n",
       "      <td>0</td>\n",
       "      <td>1</td>\n",
       "      <td>0</td>\n",
       "      <td>0</td>\n",
       "      <td>0</td>\n",
       "      <td>0</td>\n",
       "      <td>0</td>\n",
       "    </tr>\n",
       "    <tr>\n",
       "      <th>1</th>\n",
       "      <td>8</td>\n",
       "      <td>110000</td>\n",
       "      <td>1</td>\n",
       "      <td>0</td>\n",
       "      <td>1</td>\n",
       "      <td>1</td>\n",
       "      <td>0</td>\n",
       "      <td>0</td>\n",
       "      <td>0</td>\n",
       "      <td>1</td>\n",
       "      <td>...</td>\n",
       "      <td>0</td>\n",
       "      <td>0</td>\n",
       "      <td>0</td>\n",
       "      <td>0</td>\n",
       "      <td>0</td>\n",
       "      <td>1</td>\n",
       "      <td>0</td>\n",
       "      <td>0</td>\n",
       "      <td>0</td>\n",
       "      <td>0</td>\n",
       "    </tr>\n",
       "    <tr>\n",
       "      <th>2</th>\n",
       "      <td>17</td>\n",
       "      <td>261000</td>\n",
       "      <td>0</td>\n",
       "      <td>0</td>\n",
       "      <td>1</td>\n",
       "      <td>0</td>\n",
       "      <td>1</td>\n",
       "      <td>0</td>\n",
       "      <td>0</td>\n",
       "      <td>1</td>\n",
       "      <td>...</td>\n",
       "      <td>0</td>\n",
       "      <td>0</td>\n",
       "      <td>0</td>\n",
       "      <td>0</td>\n",
       "      <td>0</td>\n",
       "      <td>1</td>\n",
       "      <td>0</td>\n",
       "      <td>0</td>\n",
       "      <td>0</td>\n",
       "      <td>0</td>\n",
       "    </tr>\n",
       "  </tbody>\n",
       "</table>\n",
       "<p>3 rows × 1111 columns</p>\n",
       "</div>"
      ],
      "text/plain": [
       "   car_age  mileage  has_vin  gearbox_is_automat  gearbox_is_manual  \\\n",
       "0       48       10        0                   0                  1   \n",
       "1        8   110000        1                   0                  1   \n",
       "2       17   261000        0                   0                  1   \n",
       "\n",
       "   transmission_fwd  transmission_rwd  transmission_awd  is_from_poland  \\\n",
       "0                 0                 1                 0               0   \n",
       "1                 1                 0                 0               0   \n",
       "2                 0                 1                 0               0   \n",
       "\n",
       "   is_from_abroad      ...        color_Br?zowy  color_Czarny  color_Czerwony  \\\n",
       "0               1      ...                    0             0               0   \n",
       "1               1      ...                    0             0               0   \n",
       "2               1      ...                    0             0               0   \n",
       "\n",
       "   color_Fioletowy  color_Inny kolor  color_Niebieski  color_Srebrny  \\\n",
       "0                0                 1                0              0   \n",
       "1                0                 0                1              0   \n",
       "2                0                 0                1              0   \n",
       "\n",
       "   color_Szary  color_Z?oty  color_Zielony  \n",
       "0            0            0              0  \n",
       "1            0            0              0  \n",
       "2            0            0              0  \n",
       "\n",
       "[3 rows x 1111 columns]"
      ]
     },
     "execution_count": 37,
     "metadata": {},
     "output_type": "execute_result"
    }
   ],
   "source": [
    "df_new.head(3)"
   ]
  },
  {
   "cell_type": "code",
   "execution_count": 38,
   "metadata": {},
   "outputs": [
    {
     "data": {
      "text/plain": [
       "0"
      ]
     },
     "execution_count": 38,
     "metadata": {},
     "output_type": "execute_result"
    }
   ],
   "source": [
    "df_new.isnull().sum().sum()"
   ]
  },
  {
   "cell_type": "code",
   "execution_count": 39,
   "metadata": {},
   "outputs": [],
   "source": [
    "df_need_standardize = pd.DataFrame()\n",
    "df_need_standardize['car_age'] = df_new['car_age']\n",
    "df_need_standardize['mileage'] = df_new['mileage']\n",
    "df_need_standardize['n_params_available'] = df_new['n_params_available']\n",
    "df_need_standardize['n_features'] = df_new['n_features']"
   ]
  },
  {
   "cell_type": "code",
   "execution_count": 40,
   "metadata": {},
   "outputs": [
    {
     "data": {
      "text/html": [
       "<div>\n",
       "<style scoped>\n",
       "    .dataframe tbody tr th:only-of-type {\n",
       "        vertical-align: middle;\n",
       "    }\n",
       "\n",
       "    .dataframe tbody tr th {\n",
       "        vertical-align: top;\n",
       "    }\n",
       "\n",
       "    .dataframe thead th {\n",
       "        text-align: right;\n",
       "    }\n",
       "</style>\n",
       "<table border=\"1\" class=\"dataframe\">\n",
       "  <thead>\n",
       "    <tr style=\"text-align: right;\">\n",
       "      <th></th>\n",
       "      <th>car_age</th>\n",
       "      <th>mileage</th>\n",
       "      <th>n_params_available</th>\n",
       "      <th>n_features</th>\n",
       "    </tr>\n",
       "  </thead>\n",
       "  <tbody>\n",
       "    <tr>\n",
       "      <th>count</th>\n",
       "      <td>9.658200e+04</td>\n",
       "      <td>9.658200e+04</td>\n",
       "      <td>9.658200e+04</td>\n",
       "      <td>9.658200e+04</td>\n",
       "    </tr>\n",
       "    <tr>\n",
       "      <th>mean</th>\n",
       "      <td>2.667738e-15</td>\n",
       "      <td>-6.075253e-16</td>\n",
       "      <td>5.757388e-14</td>\n",
       "      <td>3.373690e-16</td>\n",
       "    </tr>\n",
       "    <tr>\n",
       "      <th>std</th>\n",
       "      <td>1.000000e+00</td>\n",
       "      <td>1.000000e+00</td>\n",
       "      <td>1.000000e+00</td>\n",
       "      <td>1.000000e+00</td>\n",
       "    </tr>\n",
       "    <tr>\n",
       "      <th>min</th>\n",
       "      <td>-1.465190e+00</td>\n",
       "      <td>-1.396429e+00</td>\n",
       "      <td>-4.855912e+00</td>\n",
       "      <td>-2.116008e+00</td>\n",
       "    </tr>\n",
       "    <tr>\n",
       "      <th>25%</th>\n",
       "      <td>-7.776144e-01</td>\n",
       "      <td>-6.345147e-01</td>\n",
       "      <td>-8.466455e-01</td>\n",
       "      <td>-6.820017e-01</td>\n",
       "    </tr>\n",
       "    <tr>\n",
       "      <th>50%</th>\n",
       "      <td>8.185527e-02</td>\n",
       "      <td>1.136810e-01</td>\n",
       "      <td>2.988593e-01</td>\n",
       "      <td>-4.466556e-02</td>\n",
       "    </tr>\n",
       "    <tr>\n",
       "      <th>75%</th>\n",
       "      <td>5.975370e-01</td>\n",
       "      <td>5.647558e-01</td>\n",
       "      <td>8.716117e-01</td>\n",
       "      <td>6.723375e-01</td>\n",
       "    </tr>\n",
       "    <tr>\n",
       "      <th>max</th>\n",
       "      <td>1.417716e+01</td>\n",
       "      <td>9.666328e+01</td>\n",
       "      <td>4.880878e+00</td>\n",
       "      <td>3.460683e+00</td>\n",
       "    </tr>\n",
       "  </tbody>\n",
       "</table>\n",
       "</div>"
      ],
      "text/plain": [
       "            car_age       mileage  n_params_available    n_features\n",
       "count  9.658200e+04  9.658200e+04        9.658200e+04  9.658200e+04\n",
       "mean   2.667738e-15 -6.075253e-16        5.757388e-14  3.373690e-16\n",
       "std    1.000000e+00  1.000000e+00        1.000000e+00  1.000000e+00\n",
       "min   -1.465190e+00 -1.396429e+00       -4.855912e+00 -2.116008e+00\n",
       "25%   -7.776144e-01 -6.345147e-01       -8.466455e-01 -6.820017e-01\n",
       "50%    8.185527e-02  1.136810e-01        2.988593e-01 -4.466556e-02\n",
       "75%    5.975370e-01  5.647558e-01        8.716117e-01  6.723375e-01\n",
       "max    1.417716e+01  9.666328e+01        4.880878e+00  3.460683e+00"
      ]
     },
     "execution_count": 40,
     "metadata": {},
     "output_type": "execute_result"
    }
   ],
   "source": [
    "mu = df_need_standardize.mean()\n",
    "sd = df_need_standardize.std()\n",
    "df_need_standardize = (df_need_standardize-mu)/sd\n",
    "df_need_standardize.describe()"
   ]
  },
  {
   "cell_type": "code",
   "execution_count": 41,
   "metadata": {},
   "outputs": [
    {
     "data": {
      "text/plain": [
       "0"
      ]
     },
     "execution_count": 41,
     "metadata": {},
     "output_type": "execute_result"
    }
   ],
   "source": [
    "df_need_standardize.isnull().sum().sum()"
   ]
  },
  {
   "cell_type": "code",
   "execution_count": 42,
   "metadata": {},
   "outputs": [],
   "source": [
    "df_new['car_age'] = df_need_standardize['car_age']\n",
    "df_new['mileage'] = df_need_standardize['mileage']\n",
    "df_new['n_params_available'] = df_need_standardize['n_params_available']\n",
    "df_new['n_features'] = df_need_standardize['n_features']"
   ]
  },
  {
   "cell_type": "code",
   "execution_count": 43,
   "metadata": {},
   "outputs": [
    {
     "name": "stdout",
     "output_type": "stream",
     "text": [
      "training set size:  (77266, 1111)\n",
      "testing set size:  (19316, 1111)\n"
     ]
    }
   ],
   "source": [
    "df_train = df_new.sample(frac = 0.8, random_state = 0)\n",
    "df_test = df_new.drop(df_train.index)\n",
    "df_train.head(3)\n",
    "print(\"training set size: \", df_train.shape)\n",
    "print(\"testing set size: \", df_test.shape)"
   ]
  },
  {
   "cell_type": "code",
   "execution_count": 44,
   "metadata": {},
   "outputs": [],
   "source": [
    "train_results = pd.DataFrame()\n",
    "train_results['price_level1'] = df_train['price_level1']\n",
    "train_results['price_level2'] = df_train['price_level2']\n",
    "train_results['price_level3'] = df_train['price_level3']\n",
    "train_results['price_level4'] = df_train['price_level4']\n",
    "train_results['price_level5'] = df_train['price_level5']\n",
    "train_results['price_level6'] = df_train['price_level6']"
   ]
  },
  {
   "cell_type": "code",
   "execution_count": 45,
   "metadata": {},
   "outputs": [],
   "source": [
    "train_data = df_train.drop('price_level1',axis = 1).drop('price_level2',axis = 1).drop('price_level3',axis = 1).drop('price_level4',axis = 1).drop('price_level5',axis = 1).drop('price_level6',axis = 1)"
   ]
  },
  {
   "cell_type": "code",
   "execution_count": 46,
   "metadata": {},
   "outputs": [],
   "source": [
    "X_train = train_data.values\n",
    "P_train = train_results.values"
   ]
  },
  {
   "cell_type": "code",
   "execution_count": 47,
   "metadata": {},
   "outputs": [],
   "source": [
    "test_results = pd.DataFrame()\n",
    "test_results['price_level1'] = df_test['price_level1']\n",
    "test_results['price_level2'] = df_test['price_level2']\n",
    "test_results['price_level3'] = df_test['price_level3']\n",
    "test_results['price_level4'] = df_test['price_level4']\n",
    "test_results['price_level5'] = df_test['price_level5']\n",
    "test_results['price_level6'] = df_test['price_level6']"
   ]
  },
  {
   "cell_type": "code",
   "execution_count": 48,
   "metadata": {},
   "outputs": [],
   "source": [
    "test_data = df_test.drop('price_level1',axis = 1).drop('price_level2',axis = 1).drop('price_level3',axis = 1).drop('price_level4',axis = 1).drop('price_level5',axis = 1).drop('price_level6',axis = 1)"
   ]
  },
  {
   "cell_type": "code",
   "execution_count": 49,
   "metadata": {},
   "outputs": [],
   "source": [
    "X_test = test_data.values\n",
    "P_test = test_results.values"
   ]
  },
  {
   "cell_type": "code",
   "execution_count": 50,
   "metadata": {},
   "outputs": [
    {
     "name": "stdout",
     "output_type": "stream",
     "text": [
      "X_train size (77266, 1105)\n",
      "P_train size (77266, 6)\n"
     ]
    }
   ],
   "source": [
    "print(\"X_train size\",X_train.shape)\n",
    "print(\"P_train size\",P_train.shape)"
   ]
  },
  {
   "cell_type": "code",
   "execution_count": 51,
   "metadata": {},
   "outputs": [],
   "source": [
    "df_small_train = df_new.sample(frac = 0.01)\n",
    "X_small_train = df_small_train.drop('price_level1',axis = 1).drop('price_level2',axis = 1).drop('price_level3',axis = 1).drop('price_level4',axis = 1).drop('price_level5',axis = 1).drop('price_level6',axis = 1).values\n",
    "small_test_results = pd.DataFrame()\n",
    "small_test_results['price_level1'] = df_small_train['price_level1']\n",
    "small_test_results['price_level2'] = df_small_train['price_level2']\n",
    "small_test_results['price_level3'] = df_small_train['price_level3']\n",
    "small_test_results['price_level4'] = df_small_train['price_level4']\n",
    "small_test_results['price_level5'] = df_small_train['price_level5']\n",
    "small_test_results['price_level6'] = df_small_train['price_level6']\n",
    "P_small_train = small_test_results.values"
   ]
  },
  {
   "cell_type": "code",
   "execution_count": 52,
   "metadata": {},
   "outputs": [
    {
     "ename": "KeyError",
     "evalue": "'price_value_pln_brutto'",
     "output_type": "error",
     "traceback": [
      "\u001b[0;31m---------------------------------------------------------------------------\u001b[0m",
      "\u001b[0;31mKeyError\u001b[0m                                  Traceback (most recent call last)",
      "\u001b[0;32m/opt/anaconda3/lib/python3.6/site-packages/pandas/core/indexes/base.py\u001b[0m in \u001b[0;36mget_loc\u001b[0;34m(self, key, method, tolerance)\u001b[0m\n\u001b[1;32m   3062\u001b[0m             \u001b[0;32mtry\u001b[0m\u001b[0;34m:\u001b[0m\u001b[0;34m\u001b[0m\u001b[0m\n\u001b[0;32m-> 3063\u001b[0;31m                 \u001b[0;32mreturn\u001b[0m \u001b[0mself\u001b[0m\u001b[0;34m.\u001b[0m\u001b[0m_engine\u001b[0m\u001b[0;34m.\u001b[0m\u001b[0mget_loc\u001b[0m\u001b[0;34m(\u001b[0m\u001b[0mkey\u001b[0m\u001b[0;34m)\u001b[0m\u001b[0;34m\u001b[0m\u001b[0m\n\u001b[0m\u001b[1;32m   3064\u001b[0m             \u001b[0;32mexcept\u001b[0m \u001b[0mKeyError\u001b[0m\u001b[0;34m:\u001b[0m\u001b[0;34m\u001b[0m\u001b[0m\n",
      "\u001b[0;32mpandas/_libs/index.pyx\u001b[0m in \u001b[0;36mpandas._libs.index.IndexEngine.get_loc\u001b[0;34m()\u001b[0m\n",
      "\u001b[0;32mpandas/_libs/index.pyx\u001b[0m in \u001b[0;36mpandas._libs.index.IndexEngine.get_loc\u001b[0;34m()\u001b[0m\n",
      "\u001b[0;32mpandas/_libs/hashtable_class_helper.pxi\u001b[0m in \u001b[0;36mpandas._libs.hashtable.PyObjectHashTable.get_item\u001b[0;34m()\u001b[0m\n",
      "\u001b[0;32mpandas/_libs/hashtable_class_helper.pxi\u001b[0m in \u001b[0;36mpandas._libs.hashtable.PyObjectHashTable.get_item\u001b[0;34m()\u001b[0m\n",
      "\u001b[0;31mKeyError\u001b[0m: 'price_value_pln_brutto'",
      "\nDuring handling of the above exception, another exception occurred:\n",
      "\u001b[0;31mKeyError\u001b[0m                                  Traceback (most recent call last)",
      "\u001b[0;32m<ipython-input-52-f95d09509ab9>\u001b[0m in \u001b[0;36m<module>\u001b[0;34m()\u001b[0m\n\u001b[1;32m      5\u001b[0m \u001b[0;31m# divide at sorted index 16096,32193,48290,64387,80484,96581\u001b[0m\u001b[0;34m\u001b[0m\u001b[0;34m\u001b[0m\u001b[0m\n\u001b[1;32m      6\u001b[0m \u001b[0mcount\u001b[0m \u001b[0;34m=\u001b[0m \u001b[0;36m0\u001b[0m\u001b[0;34m\u001b[0m\u001b[0m\n\u001b[0;32m----> 7\u001b[0;31m \u001b[0mnewList\u001b[0m \u001b[0;34m=\u001b[0m \u001b[0mnp\u001b[0m\u001b[0;34m.\u001b[0m\u001b[0msort\u001b[0m\u001b[0;34m(\u001b[0m\u001b[0mdf_new\u001b[0m\u001b[0;34m[\u001b[0m\u001b[0;34m'price_value_pln_brutto'\u001b[0m\u001b[0;34m]\u001b[0m\u001b[0;34m.\u001b[0m\u001b[0mvalues\u001b[0m\u001b[0;34m)\u001b[0m\u001b[0;34m\u001b[0m\u001b[0m\n\u001b[0m\u001b[1;32m      8\u001b[0m \u001b[0;32mfor\u001b[0m \u001b[0mi\u001b[0m \u001b[0;32min\u001b[0m \u001b[0mrange\u001b[0m\u001b[0;34m(\u001b[0m\u001b[0;36m7\u001b[0m\u001b[0;34m)\u001b[0m\u001b[0;34m:\u001b[0m\u001b[0;34m\u001b[0m\u001b[0m\n\u001b[1;32m      9\u001b[0m     \u001b[0mprint\u001b[0m\u001b[0;34m(\u001b[0m\u001b[0mi\u001b[0m\u001b[0;34m*\u001b[0m\u001b[0;36m96582\u001b[0m\u001b[0;34m-\u001b[0m\u001b[0;36m1\u001b[0m\u001b[0;34m)\u001b[0m\u001b[0;34m\u001b[0m\u001b[0m\n",
      "\u001b[0;32m/opt/anaconda3/lib/python3.6/site-packages/pandas/core/frame.py\u001b[0m in \u001b[0;36m__getitem__\u001b[0;34m(self, key)\u001b[0m\n\u001b[1;32m   2683\u001b[0m             \u001b[0;32mreturn\u001b[0m \u001b[0mself\u001b[0m\u001b[0;34m.\u001b[0m\u001b[0m_getitem_multilevel\u001b[0m\u001b[0;34m(\u001b[0m\u001b[0mkey\u001b[0m\u001b[0;34m)\u001b[0m\u001b[0;34m\u001b[0m\u001b[0m\n\u001b[1;32m   2684\u001b[0m         \u001b[0;32melse\u001b[0m\u001b[0;34m:\u001b[0m\u001b[0;34m\u001b[0m\u001b[0m\n\u001b[0;32m-> 2685\u001b[0;31m             \u001b[0;32mreturn\u001b[0m \u001b[0mself\u001b[0m\u001b[0;34m.\u001b[0m\u001b[0m_getitem_column\u001b[0m\u001b[0;34m(\u001b[0m\u001b[0mkey\u001b[0m\u001b[0;34m)\u001b[0m\u001b[0;34m\u001b[0m\u001b[0m\n\u001b[0m\u001b[1;32m   2686\u001b[0m \u001b[0;34m\u001b[0m\u001b[0m\n\u001b[1;32m   2687\u001b[0m     \u001b[0;32mdef\u001b[0m \u001b[0m_getitem_column\u001b[0m\u001b[0;34m(\u001b[0m\u001b[0mself\u001b[0m\u001b[0;34m,\u001b[0m \u001b[0mkey\u001b[0m\u001b[0;34m)\u001b[0m\u001b[0;34m:\u001b[0m\u001b[0;34m\u001b[0m\u001b[0m\n",
      "\u001b[0;32m/opt/anaconda3/lib/python3.6/site-packages/pandas/core/frame.py\u001b[0m in \u001b[0;36m_getitem_column\u001b[0;34m(self, key)\u001b[0m\n\u001b[1;32m   2690\u001b[0m         \u001b[0;31m# get column\u001b[0m\u001b[0;34m\u001b[0m\u001b[0;34m\u001b[0m\u001b[0m\n\u001b[1;32m   2691\u001b[0m         \u001b[0;32mif\u001b[0m \u001b[0mself\u001b[0m\u001b[0;34m.\u001b[0m\u001b[0mcolumns\u001b[0m\u001b[0;34m.\u001b[0m\u001b[0mis_unique\u001b[0m\u001b[0;34m:\u001b[0m\u001b[0;34m\u001b[0m\u001b[0m\n\u001b[0;32m-> 2692\u001b[0;31m             \u001b[0;32mreturn\u001b[0m \u001b[0mself\u001b[0m\u001b[0;34m.\u001b[0m\u001b[0m_get_item_cache\u001b[0m\u001b[0;34m(\u001b[0m\u001b[0mkey\u001b[0m\u001b[0;34m)\u001b[0m\u001b[0;34m\u001b[0m\u001b[0m\n\u001b[0m\u001b[1;32m   2693\u001b[0m \u001b[0;34m\u001b[0m\u001b[0m\n\u001b[1;32m   2694\u001b[0m         \u001b[0;31m# duplicate columns & possible reduce dimensionality\u001b[0m\u001b[0;34m\u001b[0m\u001b[0;34m\u001b[0m\u001b[0m\n",
      "\u001b[0;32m/opt/anaconda3/lib/python3.6/site-packages/pandas/core/generic.py\u001b[0m in \u001b[0;36m_get_item_cache\u001b[0;34m(self, item)\u001b[0m\n\u001b[1;32m   2484\u001b[0m         \u001b[0mres\u001b[0m \u001b[0;34m=\u001b[0m \u001b[0mcache\u001b[0m\u001b[0;34m.\u001b[0m\u001b[0mget\u001b[0m\u001b[0;34m(\u001b[0m\u001b[0mitem\u001b[0m\u001b[0;34m)\u001b[0m\u001b[0;34m\u001b[0m\u001b[0m\n\u001b[1;32m   2485\u001b[0m         \u001b[0;32mif\u001b[0m \u001b[0mres\u001b[0m \u001b[0;32mis\u001b[0m \u001b[0;32mNone\u001b[0m\u001b[0;34m:\u001b[0m\u001b[0;34m\u001b[0m\u001b[0m\n\u001b[0;32m-> 2486\u001b[0;31m             \u001b[0mvalues\u001b[0m \u001b[0;34m=\u001b[0m \u001b[0mself\u001b[0m\u001b[0;34m.\u001b[0m\u001b[0m_data\u001b[0m\u001b[0;34m.\u001b[0m\u001b[0mget\u001b[0m\u001b[0;34m(\u001b[0m\u001b[0mitem\u001b[0m\u001b[0;34m)\u001b[0m\u001b[0;34m\u001b[0m\u001b[0m\n\u001b[0m\u001b[1;32m   2487\u001b[0m             \u001b[0mres\u001b[0m \u001b[0;34m=\u001b[0m \u001b[0mself\u001b[0m\u001b[0;34m.\u001b[0m\u001b[0m_box_item_values\u001b[0m\u001b[0;34m(\u001b[0m\u001b[0mitem\u001b[0m\u001b[0;34m,\u001b[0m \u001b[0mvalues\u001b[0m\u001b[0;34m)\u001b[0m\u001b[0;34m\u001b[0m\u001b[0m\n\u001b[1;32m   2488\u001b[0m             \u001b[0mcache\u001b[0m\u001b[0;34m[\u001b[0m\u001b[0mitem\u001b[0m\u001b[0;34m]\u001b[0m \u001b[0;34m=\u001b[0m \u001b[0mres\u001b[0m\u001b[0;34m\u001b[0m\u001b[0m\n",
      "\u001b[0;32m/opt/anaconda3/lib/python3.6/site-packages/pandas/core/internals.py\u001b[0m in \u001b[0;36mget\u001b[0;34m(self, item, fastpath)\u001b[0m\n\u001b[1;32m   4113\u001b[0m \u001b[0;34m\u001b[0m\u001b[0m\n\u001b[1;32m   4114\u001b[0m             \u001b[0;32mif\u001b[0m \u001b[0;32mnot\u001b[0m \u001b[0misna\u001b[0m\u001b[0;34m(\u001b[0m\u001b[0mitem\u001b[0m\u001b[0;34m)\u001b[0m\u001b[0;34m:\u001b[0m\u001b[0;34m\u001b[0m\u001b[0m\n\u001b[0;32m-> 4115\u001b[0;31m                 \u001b[0mloc\u001b[0m \u001b[0;34m=\u001b[0m \u001b[0mself\u001b[0m\u001b[0;34m.\u001b[0m\u001b[0mitems\u001b[0m\u001b[0;34m.\u001b[0m\u001b[0mget_loc\u001b[0m\u001b[0;34m(\u001b[0m\u001b[0mitem\u001b[0m\u001b[0;34m)\u001b[0m\u001b[0;34m\u001b[0m\u001b[0m\n\u001b[0m\u001b[1;32m   4116\u001b[0m             \u001b[0;32melse\u001b[0m\u001b[0;34m:\u001b[0m\u001b[0;34m\u001b[0m\u001b[0m\n\u001b[1;32m   4117\u001b[0m                 \u001b[0mindexer\u001b[0m \u001b[0;34m=\u001b[0m \u001b[0mnp\u001b[0m\u001b[0;34m.\u001b[0m\u001b[0marange\u001b[0m\u001b[0;34m(\u001b[0m\u001b[0mlen\u001b[0m\u001b[0;34m(\u001b[0m\u001b[0mself\u001b[0m\u001b[0;34m.\u001b[0m\u001b[0mitems\u001b[0m\u001b[0;34m)\u001b[0m\u001b[0;34m)\u001b[0m\u001b[0;34m[\u001b[0m\u001b[0misna\u001b[0m\u001b[0;34m(\u001b[0m\u001b[0mself\u001b[0m\u001b[0;34m.\u001b[0m\u001b[0mitems\u001b[0m\u001b[0;34m)\u001b[0m\u001b[0;34m]\u001b[0m\u001b[0;34m\u001b[0m\u001b[0m\n",
      "\u001b[0;32m/opt/anaconda3/lib/python3.6/site-packages/pandas/core/indexes/base.py\u001b[0m in \u001b[0;36mget_loc\u001b[0;34m(self, key, method, tolerance)\u001b[0m\n\u001b[1;32m   3063\u001b[0m                 \u001b[0;32mreturn\u001b[0m \u001b[0mself\u001b[0m\u001b[0;34m.\u001b[0m\u001b[0m_engine\u001b[0m\u001b[0;34m.\u001b[0m\u001b[0mget_loc\u001b[0m\u001b[0;34m(\u001b[0m\u001b[0mkey\u001b[0m\u001b[0;34m)\u001b[0m\u001b[0;34m\u001b[0m\u001b[0m\n\u001b[1;32m   3064\u001b[0m             \u001b[0;32mexcept\u001b[0m \u001b[0mKeyError\u001b[0m\u001b[0;34m:\u001b[0m\u001b[0;34m\u001b[0m\u001b[0m\n\u001b[0;32m-> 3065\u001b[0;31m                 \u001b[0;32mreturn\u001b[0m \u001b[0mself\u001b[0m\u001b[0;34m.\u001b[0m\u001b[0m_engine\u001b[0m\u001b[0;34m.\u001b[0m\u001b[0mget_loc\u001b[0m\u001b[0;34m(\u001b[0m\u001b[0mself\u001b[0m\u001b[0;34m.\u001b[0m\u001b[0m_maybe_cast_indexer\u001b[0m\u001b[0;34m(\u001b[0m\u001b[0mkey\u001b[0m\u001b[0;34m)\u001b[0m\u001b[0;34m)\u001b[0m\u001b[0;34m\u001b[0m\u001b[0m\n\u001b[0m\u001b[1;32m   3066\u001b[0m \u001b[0;34m\u001b[0m\u001b[0m\n\u001b[1;32m   3067\u001b[0m         \u001b[0mindexer\u001b[0m \u001b[0;34m=\u001b[0m \u001b[0mself\u001b[0m\u001b[0;34m.\u001b[0m\u001b[0mget_indexer\u001b[0m\u001b[0;34m(\u001b[0m\u001b[0;34m[\u001b[0m\u001b[0mkey\u001b[0m\u001b[0;34m]\u001b[0m\u001b[0;34m,\u001b[0m \u001b[0mmethod\u001b[0m\u001b[0;34m=\u001b[0m\u001b[0mmethod\u001b[0m\u001b[0;34m,\u001b[0m \u001b[0mtolerance\u001b[0m\u001b[0;34m=\u001b[0m\u001b[0mtolerance\u001b[0m\u001b[0;34m)\u001b[0m\u001b[0;34m\u001b[0m\u001b[0m\n",
      "\u001b[0;32mpandas/_libs/index.pyx\u001b[0m in \u001b[0;36mpandas._libs.index.IndexEngine.get_loc\u001b[0;34m()\u001b[0m\n",
      "\u001b[0;32mpandas/_libs/index.pyx\u001b[0m in \u001b[0;36mpandas._libs.index.IndexEngine.get_loc\u001b[0;34m()\u001b[0m\n",
      "\u001b[0;32mpandas/_libs/hashtable_class_helper.pxi\u001b[0m in \u001b[0;36mpandas._libs.hashtable.PyObjectHashTable.get_item\u001b[0;34m()\u001b[0m\n",
      "\u001b[0;32mpandas/_libs/hashtable_class_helper.pxi\u001b[0m in \u001b[0;36mpandas._libs.hashtable.PyObjectHashTable.get_item\u001b[0;34m()\u001b[0m\n",
      "\u001b[0;31mKeyError\u001b[0m: 'price_value_pln_brutto'"
     ]
    }
   ],
   "source": [
    "# Way of classify\n",
    "# level = 1\n",
    "# number = 96582/6\n",
    "# # number = 16097\n",
    "# # divide at sorted index 16096,32193,48290,64387,80484,96581\n",
    "# count = 0\n",
    "# newList = np.sort(df_new['price_value_pln_brutto'].values)\n",
    "# for i in range(7):\n",
    "#     print(i*96582-1)\n",
    "# print(newList[16096])\n",
    "# level1_up = newList[16096]\n",
    "# print(newList[32193])\n",
    "# level2_up = newList[32193]\n",
    "# print(newList[48290])\n",
    "# level3_up = newList[48290]\n",
    "# print(newList[64387])\n",
    "# level4_up = newList[64387]\n",
    "# print(newList[80484])\n",
    "# level5_up = newList[80484]\n",
    "# print(newList[96581])\n",
    "# level6_up = newList[96581]"
   ]
  },
  {
   "cell_type": "code",
   "execution_count": 22,
   "metadata": {},
   "outputs": [],
   "source": [
    "epoch = 100\n",
    "patience = 3"
   ]
  },
  {
   "cell_type": "code",
   "execution_count": 23,
   "metadata": {},
   "outputs": [
    {
     "name": "stdout",
     "output_type": "stream",
     "text": [
      "Train on 61812 samples, validate on 15454 samples\n",
      "Epoch 1/100\n",
      "61812/61812 [==============================] - 70s 1ms/step - loss: 0.6902 - acc: 0.7189 - val_loss: 0.5064 - val_acc: 0.7940\n",
      "Epoch 2/100\n",
      "61812/61812 [==============================] - 67s 1ms/step - loss: 0.5348 - acc: 0.7853 - val_loss: 0.4822 - val_acc: 0.7996\n",
      "Epoch 3/100\n",
      "61812/61812 [==============================] - 61s 981us/step - loss: 0.4917 - acc: 0.8044 - val_loss: 0.4809 - val_acc: 0.8049\n",
      "Epoch 4/100\n",
      "61812/61812 [==============================] - 62s 1ms/step - loss: 0.4553 - acc: 0.8201 - val_loss: 0.4724 - val_acc: 0.8085\n",
      "Epoch 5/100\n",
      "61812/61812 [==============================] - 67s 1ms/step - loss: 0.4175 - acc: 0.8370 - val_loss: 0.4655 - val_acc: 0.8138\n",
      "Epoch 6/100\n",
      "61812/61812 [==============================] - 68s 1ms/step - loss: 0.3872 - acc: 0.8483 - val_loss: 0.5198 - val_acc: 0.8064\n",
      "Epoch 7/100\n",
      "61812/61812 [==============================] - 66s 1ms/step - loss: 0.3517 - acc: 0.8619 - val_loss: 0.5573 - val_acc: 0.7996\n",
      "Epoch 8/100\n",
      "61812/61812 [==============================] - 67s 1ms/step - loss: 0.3186 - acc: 0.8759 - val_loss: 0.5888 - val_acc: 0.8083\n"
     ]
    }
   ],
   "source": [
    "model = Sequential()\n",
    "model.add(Dense(2000,input_shape=(1105,)))\n",
    "model.add(Activation('relu'))\n",
    "model.add(Dense(1000))\n",
    "model.add(Activation('relu'))\n",
    "model.add(Dense(500))\n",
    "model.add(Activation('relu'))\n",
    "model.add(Dense(250))\n",
    "model.add(Activation('relu'))\n",
    "model.add(Dropout(0.8))\n",
    "model.add(Dense(6))\n",
    "model.add(Activation('softmax'))\n",
    "model.compile(loss='categorical_crossentropy',\n",
    "             optimizer='Adam',\n",
    "             metrics=['accuracy'])\n",
    "hist = model.fit(X_train,P_train,epochs=epoch,validation_split = 0.2,batch_size=100,verbose=1,callbacks=[EarlyStopping(patience=patience)])"
   ]
  },
  {
   "cell_type": "code",
   "execution_count": 24,
   "metadata": {},
   "outputs": [
    {
     "name": "stdout",
     "output_type": "stream",
     "text": [
      "_________________________________________________________________\n",
      "Layer (type)                 Output Shape              Param #   \n",
      "=================================================================\n",
      "dense_1 (Dense)              (None, 2000)              2212000   \n",
      "_________________________________________________________________\n",
      "activation_1 (Activation)    (None, 2000)              0         \n",
      "_________________________________________________________________\n",
      "dense_2 (Dense)              (None, 1000)              2001000   \n",
      "_________________________________________________________________\n",
      "activation_2 (Activation)    (None, 1000)              0         \n",
      "_________________________________________________________________\n",
      "dense_3 (Dense)              (None, 500)               500500    \n",
      "_________________________________________________________________\n",
      "activation_3 (Activation)    (None, 500)               0         \n",
      "_________________________________________________________________\n",
      "dense_4 (Dense)              (None, 250)               125250    \n",
      "_________________________________________________________________\n",
      "activation_4 (Activation)    (None, 250)               0         \n",
      "_________________________________________________________________\n",
      "dropout_1 (Dropout)          (None, 250)               0         \n",
      "_________________________________________________________________\n",
      "dense_5 (Dense)              (None, 6)                 1506      \n",
      "_________________________________________________________________\n",
      "activation_5 (Activation)    (None, 6)                 0         \n",
      "=================================================================\n",
      "Total params: 4,840,256\n",
      "Trainable params: 4,840,256\n",
      "Non-trainable params: 0\n",
      "_________________________________________________________________\n"
     ]
    }
   ],
   "source": [
    "model.summary()"
   ]
  },
  {
   "cell_type": "code",
   "execution_count": 25,
   "metadata": {},
   "outputs": [
    {
     "name": "stdout",
     "output_type": "stream",
     "text": [
      "\n",
      "minimum validation loss index 4 of 100\n",
      "cross-entropy\n",
      " training = 0.41745394749204945\n",
      " validation = 0.46551727125079106\n",
      "accuracy rate\n",
      " training = 0.8370381149822613\n",
      " validation = 0.8137698954546669\n",
      " baseline = 0.16666666666666666\n"
     ]
    },
    {
     "data": {
      "image/png": "[encoded data removed]",
      "text/plain": [
       "<Figure size 432x288 with 1 Axes>"
      ]
     },
     "metadata": {},
     "output_type": "display_data"
    }
   ],
   "source": [
    "results = pd.DataFrame() \n",
    "results['epoch'] = hist.epoch \n",
    "results['epoch'] = results['epoch'] + 1 \n",
    "results['training loss'] = hist.history['loss'] \n",
    "results['validation loss'] = hist.history['val_loss'] \n",
    "results['training acc'] = hist.history['acc'] \n",
    "results['validation acc'] = hist.history['val_acc'] \n",
    "results['validation']=hist.history['val_loss']\n",
    "results['training']=hist.history['loss'] \n",
    "\n",
    "ax = results.plot.line(x='epoch',y='validation')\n",
    "results.plot.line(x='epoch',y='training',ax=ax)\n",
    "plt.title('cross-entropy')\n",
    "\n",
    "ix = results['validation loss'].idxmin() \n",
    "ce_training = results['training loss'].iloc[ix] \n",
    "ce_validation = results['validation loss'].iloc[ix] \n",
    "acc_training = results['training acc'].iloc[ix] \n",
    "acc_validation = results['validation acc'].iloc[ix] \n",
    "print() \n",
    "print('minimum validation loss index',ix,'of',epoch) \n",
    "print('cross-entropy') \n",
    "print(' training =',ce_training) \n",
    "print(' validation =',ce_validation) \n",
    "print('accuracy rate') \n",
    "print(' training =',acc_training) \n",
    "print(' validation =',acc_validation) \n",
    "print(' baseline =',1/6)"
   ]
  },
  {
   "cell_type": "code",
   "execution_count": 26,
   "metadata": {},
   "outputs": [],
   "source": [
    "test = model.predict(X_test)"
   ]
  },
  {
   "cell_type": "code",
   "execution_count": 27,
   "metadata": {},
   "outputs": [
    {
     "name": "stdout",
     "output_type": "stream",
     "text": [
      "95\n"
     ]
    }
   ],
   "source": [
    "correct = 0\n",
    "wrong = 0\n",
    "laji = 0\n",
    "for i in range(len(X_test)):\n",
    "#     print('predict',np.argmax(test[i]))\n",
    "#     print('actual',np.argmax(P_test[i]))\n",
    "    \n",
    "    if np.argmax(test[i]) == np.argmax(P_test[i]):\n",
    "        correct += 1\n",
    "    else:\n",
    "        if abs(np.argmax(test[i])-np.argmax(P_test[i]))>=2:\n",
    "            laji += 1\n",
    "        wrong += 1\n",
    "print(laji)"
   ]
  },
  {
   "cell_type": "code",
   "execution_count": 28,
   "metadata": {},
   "outputs": [
    {
     "name": "stdout",
     "output_type": "stream",
     "text": [
      "corret:  15575\n",
      "wrong:  3741\n"
     ]
    }
   ],
   "source": [
    "print('corret: ',correct)\n",
    "print('wrong: ', wrong)"
   ]
  },
  {
   "cell_type": "code",
   "execution_count": 29,
   "metadata": {},
   "outputs": [
    {
     "data": {
      "text/plain": [
       "0.8063263615655415"
      ]
     },
     "execution_count": 29,
     "metadata": {},
     "output_type": "execute_result"
    }
   ],
   "source": [
    "correct/(wrong+correct)"
   ]
  }
 ],
 "metadata": {
  "kernelspec": {
   "display_name": "Python 3",
   "language": "python",
   "name": "python3"
  },
  "language_info": {
   "codemirror_mode": {
    "name": "ipython",
    "version": 3
   },
   "file_extension": ".py",
   "mimetype": "text/x-python",
   "name": "python",
   "nbconvert_exporter": "python",
   "pygments_lexer": "ipython3",
   "version": "3.6.5"
  }
 },
 "nbformat": 4,
 "nbformat_minor": 2
}
